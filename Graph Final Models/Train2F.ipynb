{
 "cells": [
  {
   "cell_type": "markdown",
   "metadata": {},
   "source": [
    "CT2 TRAINING:\n",
    "- 1JHN DONE (-1.55)\n",
    "- 2JHN DONE (-2.65)\n",
    "- 3JHN DONE (-2.96)\n",
    "- 2JHH DONE (-2.66)\n",
    "- 3JHH DONE (-2.93)\n",
    "- 1JHC\n",
    "\n",
    "CT2 NF TRAINING:\n",
    "- 1JHN DONE (-1.55)\n",
    "- 1JHC DONE (-1.38) (~100 epoch left)\n",
    "- 2JHN DONE (-2.99)\n",
    "- 2JHH DONE (-3.14) (45 epoch left) (forgot to save this model!!)\n",
    "- 2JHC DONE (-2.60) (B2 & 120 epoch left)"
   ]
  },
  {
   "cell_type": "code",
   "execution_count": 1,
   "metadata": {},
   "outputs": [],
   "source": [
    "import pandas as pd, numpy as np, matplotlib.pyplot as plt, seaborn as sns, pickle, numba, torch, tqdm, random, utils, os, gc, time\n",
    "import networkx as nx\n",
    "import gc, psutil\n",
    "from collections import OrderedDict, defaultdict\n",
    "from copy import deepcopy\n",
    "\n",
    "from rdkit.Chem.AtomPairs.Utils import NumPiElectrons\n",
    "from rdkit.Chem.rdMolTransforms import GetAngleRad, GetBondLength\n",
    "from rdkit.Chem.rdchem import Atom, Bond\n",
    "from rdkit.Chem.AtomPairs.Pairs import rdMolDescriptors as rdmd\n",
    "from rdkit import Chem, RDConfig\n",
    "from rdkit.Chem import ChemicalFeatures\n",
    "\n",
    "import torch_geometric.transforms as T\n",
    "import torch.nn.functional as F\n",
    "from torch.nn import Sequential, Linear, ReLU, GRU, BatchNorm1d, Dropout, SELU\n",
    "from torch_geometric.data import Data\n",
    "from torch_geometric.nn import NNConv, Set2Set, GATConv\n",
    "from torch_geometric.data import DataLoader\n",
    "\n",
    "\n",
    "%config InlineBackend.figure_format ='retina'"
   ]
  },
  {
   "cell_type": "code",
   "execution_count": 2,
   "metadata": {},
   "outputs": [
    {
     "data": {
      "text/plain": [
       "svmem(total=31628324864, available=30632308736, percent=3.1, used=603918336, free=30322176000, active=574427136, inactive=486498304, buffers=62050304, cached=640180224, shared=11419648, slab=67538944)"
      ]
     },
     "execution_count": 2,
     "metadata": {},
     "output_type": "execute_result"
    }
   ],
   "source": [
    "psutil.virtual_memory()"
   ]
  },
  {
   "cell_type": "code",
   "execution_count": 3,
   "metadata": {},
   "outputs": [],
   "source": [
    "train = pd.read_csv('train.csv')\n",
    "structures = pd.read_csv(\"structures.csv\")"
   ]
  },
  {
   "cell_type": "code",
   "execution_count": 4,
   "metadata": {},
   "outputs": [],
   "source": [
    "gratio = pd.DataFrame({\"atom\":[\"H\",\"C\",\"N\",\"O\",\"F\"],\n",
    "                       \"Gratio\": [42.576,10.705,-4.316,-5.772,40.060],\n",
    "                       \"Eneg\": [2.2,2.55,3.04,3.44,3.98],\n",
    "                       \"radius\":[110,170,155,152,147],\n",
    "                       \"atomic_num\":[1,6,7,8,9],\n",
    "                       \"numv\":[1,4,5,6,7]})\n",
    "structures = structures.merge(gratio,how='left',on='atom')"
   ]
  },
  {
   "cell_type": "code",
   "execution_count": 5,
   "metadata": {},
   "outputs": [],
   "source": [
    "train = train.groupby('type').get_group('2JHC')"
   ]
  },
  {
   "cell_type": "code",
   "execution_count": 6,
   "metadata": {},
   "outputs": [],
   "source": [
    "t2 = pd.read_csv('train.csv')\n",
    "t2 = t2[t2['molecule_name'].isin(train['molecule_name'])]\n",
    "t2.drop(['id','type','scalar_coupling_constant'],axis=1,inplace=True)"
   ]
  },
  {
   "cell_type": "code",
   "execution_count": 7,
   "metadata": {},
   "outputs": [
    {
     "data": {
      "application/vnd.jupyter.widget-view+json": {
       "model_id": "863df33b334e4b51841607d10fd87a5c",
       "version_major": 2,
       "version_minor": 0
      },
      "text/plain": [
       "HBox(children=(IntProgress(value=0, max=4654997), HTML(value='')))"
      ]
     },
     "metadata": {},
     "output_type": "display_data"
    },
    {
     "name": "stdout",
     "output_type": "stream",
     "text": [
      "\n"
     ]
    }
   ],
   "source": [
    "from collections import defaultdict\n",
    "molcouples = defaultdict(list)\n",
    "cpv = t2.values.tolist()\n",
    "for c in tqdm.tqdm_notebook(cpv):\n",
    "    molcouples[c[0]].append((c[1],c[2]))"
   ]
  },
  {
   "cell_type": "code",
   "execution_count": 8,
   "metadata": {},
   "outputs": [],
   "source": [
    "train.drop('type',axis=1,inplace=True)"
   ]
  },
  {
   "cell_type": "code",
   "execution_count": 9,
   "metadata": {},
   "outputs": [],
   "source": [
    "train = utils.map_atom_info(train,0,structures)\n",
    "train = utils.map_atom_info(train,1,structures)"
   ]
  },
  {
   "cell_type": "code",
   "execution_count": 10,
   "metadata": {},
   "outputs": [],
   "source": [
    "with open('rdkitmolecules.p', 'rb') as fp:\n",
    "    d = pickle.load(fp)"
   ]
  },
  {
   "cell_type": "code",
   "execution_count": 11,
   "metadata": {},
   "outputs": [],
   "source": [
    "tf = train.groupby('molecule_name')"
   ]
  },
  {
   "cell_type": "code",
   "execution_count": 12,
   "metadata": {},
   "outputs": [],
   "source": [
    "groups = list(tf.groups.keys())"
   ]
  },
  {
   "cell_type": "code",
   "execution_count": 13,
   "metadata": {},
   "outputs": [
    {
     "data": {
      "text/plain": [
       "84810"
      ]
     },
     "execution_count": 13,
     "metadata": {},
     "output_type": "execute_result"
    }
   ],
   "source": [
    "len(groups)"
   ]
  },
  {
   "cell_type": "code",
   "execution_count": 14,
   "metadata": {},
   "outputs": [],
   "source": [
    "with open(\"trainmols2JHC.txt\", \"rb\") as fp:   # Unpickling\n",
    "    trainmols = pickle.load(fp)    \n",
    "with open(\"valmols2JHC.txt\", \"rb\") as fp:   # Unpickling\n",
    "    valmols = pickle.load(fp)    "
   ]
  },
  {
   "cell_type": "code",
   "execution_count": 15,
   "metadata": {},
   "outputs": [
    {
     "data": {
      "text/plain": [
       "84810"
      ]
     },
     "execution_count": 15,
     "metadata": {},
     "output_type": "execute_result"
    }
   ],
   "source": [
    "len(trainmols)+len(valmols)"
   ]
  },
  {
   "cell_type": "code",
   "execution_count": 16,
   "metadata": {},
   "outputs": [
    {
     "data": {
      "text/plain": [
       "76329"
      ]
     },
     "execution_count": 16,
     "metadata": {},
     "output_type": "execute_result"
    }
   ],
   "source": [
    "len(trainmols)"
   ]
  },
  {
   "cell_type": "code",
   "execution_count": 17,
   "metadata": {},
   "outputs": [
    {
     "data": {
      "text/plain": [
       "8481"
      ]
     },
     "execution_count": 17,
     "metadata": {},
     "output_type": "execute_result"
    }
   ],
   "source": [
    "len(valmols)"
   ]
  },
  {
   "cell_type": "code",
   "execution_count": 18,
   "metadata": {},
   "outputs": [
    {
     "data": {
      "text/plain": [
       "38164.5"
      ]
     },
     "execution_count": 18,
     "metadata": {},
     "output_type": "execute_result"
    }
   ],
   "source": [
    "76329/2"
   ]
  },
  {
   "cell_type": "code",
   "execution_count": 19,
   "metadata": {},
   "outputs": [],
   "source": [
    "trainmols =  trainmols[38164:] #b2"
   ]
  },
  {
   "cell_type": "code",
   "execution_count": 20,
   "metadata": {},
   "outputs": [],
   "source": [
    "#trainmols = trainmols[:38164]"
   ]
  },
  {
   "cell_type": "code",
   "execution_count": 21,
   "metadata": {},
   "outputs": [
    {
     "data": {
      "application/vnd.jupyter.widget-view+json": {
       "model_id": "d7c8bca9610a493ca00faaaa82b32de5",
       "version_major": 2,
       "version_minor": 0
      },
      "text/plain": [
       "HBox(children=(IntProgress(value=0, max=38165), HTML(value='')))"
      ]
     },
     "metadata": {},
     "output_type": "display_data"
    },
    {
     "name": "stdout",
     "output_type": "stream",
     "text": [
      "\n"
     ]
    },
    {
     "data": {
      "application/vnd.jupyter.widget-view+json": {
       "model_id": "b78d80ac0e5b4290b6e2cb8a8c78628b",
       "version_major": 2,
       "version_minor": 0
      },
      "text/plain": [
       "HBox(children=(IntProgress(value=0, max=8481), HTML(value='')))"
      ]
     },
     "metadata": {},
     "output_type": "display_data"
    },
    {
     "name": "stdout",
     "output_type": "stream",
     "text": [
      "\n"
     ]
    }
   ],
   "source": [
    "tc = []\n",
    "vc = [] \n",
    "for i in tqdm.tqdm_notebook(trainmols):\n",
    "    g = tf.get_group(i)\n",
    "    tc.append(g)\n",
    "for i in tqdm.tqdm_notebook(valmols):\n",
    "    g = tf.get_group(i)\n",
    "    vc.append(g)"
   ]
  },
  {
   "cell_type": "code",
   "execution_count": 22,
   "metadata": {},
   "outputs": [],
   "source": [
    "train = pd.concat(tc)"
   ]
  },
  {
   "cell_type": "code",
   "execution_count": 23,
   "metadata": {},
   "outputs": [
    {
     "name": "stdout",
     "output_type": "stream",
     "text": [
      "512721 38165\n"
     ]
    }
   ],
   "source": [
    "print(len(train),train['molecule_name'].nunique())"
   ]
  },
  {
   "cell_type": "code",
   "execution_count": 24,
   "metadata": {},
   "outputs": [],
   "source": [
    "val = pd.concat(vc)"
   ]
  },
  {
   "cell_type": "code",
   "execution_count": 25,
   "metadata": {},
   "outputs": [
    {
     "name": "stdout",
     "output_type": "stream",
     "text": [
      "114100 8481\n"
     ]
    }
   ],
   "source": [
    "print(len(val),val['molecule_name'].nunique())"
   ]
  },
  {
   "cell_type": "code",
   "execution_count": 26,
   "metadata": {},
   "outputs": [
    {
     "data": {
      "text/html": [
       "<div>\n",
       "<style scoped>\n",
       "    .dataframe tbody tr th:only-of-type {\n",
       "        vertical-align: middle;\n",
       "    }\n",
       "\n",
       "    .dataframe tbody tr th {\n",
       "        vertical-align: top;\n",
       "    }\n",
       "\n",
       "    .dataframe thead th {\n",
       "        text-align: right;\n",
       "    }\n",
       "</style>\n",
       "<table border=\"1\" class=\"dataframe\">\n",
       "  <thead>\n",
       "    <tr style=\"text-align: right;\">\n",
       "      <th></th>\n",
       "      <th>molecule_name</th>\n",
       "      <th>atom_index</th>\n",
       "      <th>atom</th>\n",
       "      <th>x</th>\n",
       "      <th>y</th>\n",
       "      <th>z</th>\n",
       "      <th>Gratio</th>\n",
       "      <th>Eneg</th>\n",
       "      <th>radius</th>\n",
       "      <th>atomic_num</th>\n",
       "      <th>numv</th>\n",
       "    </tr>\n",
       "  </thead>\n",
       "  <tbody>\n",
       "    <tr>\n",
       "      <th>27</th>\n",
       "      <td>dsgdb9nsd_000008</td>\n",
       "      <td>0</td>\n",
       "      <td>C</td>\n",
       "      <td>-0.008288</td>\n",
       "      <td>1.390470</td>\n",
       "      <td>-0.005601</td>\n",
       "      <td>10.705</td>\n",
       "      <td>2.55</td>\n",
       "      <td>170</td>\n",
       "      <td>6</td>\n",
       "      <td>4</td>\n",
       "    </tr>\n",
       "    <tr>\n",
       "      <th>28</th>\n",
       "      <td>dsgdb9nsd_000008</td>\n",
       "      <td>1</td>\n",
       "      <td>O</td>\n",
       "      <td>-0.007970</td>\n",
       "      <td>-0.025045</td>\n",
       "      <td>0.020306</td>\n",
       "      <td>-5.772</td>\n",
       "      <td>3.44</td>\n",
       "      <td>152</td>\n",
       "      <td>8</td>\n",
       "      <td>6</td>\n",
       "    </tr>\n",
       "    <tr>\n",
       "      <th>29</th>\n",
       "      <td>dsgdb9nsd_000008</td>\n",
       "      <td>2</td>\n",
       "      <td>H</td>\n",
       "      <td>1.006583</td>\n",
       "      <td>1.815564</td>\n",
       "      <td>0.003483</td>\n",
       "      <td>42.576</td>\n",
       "      <td>2.20</td>\n",
       "      <td>110</td>\n",
       "      <td>1</td>\n",
       "      <td>1</td>\n",
       "    </tr>\n",
       "    <tr>\n",
       "      <th>30</th>\n",
       "      <td>dsgdb9nsd_000008</td>\n",
       "      <td>3</td>\n",
       "      <td>H</td>\n",
       "      <td>-0.546575</td>\n",
       "      <td>1.799170</td>\n",
       "      <td>-0.873901</td>\n",
       "      <td>42.576</td>\n",
       "      <td>2.20</td>\n",
       "      <td>110</td>\n",
       "      <td>1</td>\n",
       "      <td>1</td>\n",
       "    </tr>\n",
       "    <tr>\n",
       "      <th>31</th>\n",
       "      <td>dsgdb9nsd_000008</td>\n",
       "      <td>4</td>\n",
       "      <td>H</td>\n",
       "      <td>-0.522889</td>\n",
       "      <td>1.725552</td>\n",
       "      <td>0.899073</td>\n",
       "      <td>42.576</td>\n",
       "      <td>2.20</td>\n",
       "      <td>110</td>\n",
       "      <td>1</td>\n",
       "      <td>1</td>\n",
       "    </tr>\n",
       "  </tbody>\n",
       "</table>\n",
       "</div>"
      ],
      "text/plain": [
       "       molecule_name  atom_index atom         x         y         z  Gratio  \\\n",
       "27  dsgdb9nsd_000008           0    C -0.008288  1.390470 -0.005601  10.705   \n",
       "28  dsgdb9nsd_000008           1    O -0.007970 -0.025045  0.020306  -5.772   \n",
       "29  dsgdb9nsd_000008           2    H  1.006583  1.815564  0.003483  42.576   \n",
       "30  dsgdb9nsd_000008           3    H -0.546575  1.799170 -0.873901  42.576   \n",
       "31  dsgdb9nsd_000008           4    H -0.522889  1.725552  0.899073  42.576   \n",
       "\n",
       "    Eneg  radius  atomic_num  numv  \n",
       "27  2.55     170           6     4  \n",
       "28  3.44     152           8     6  \n",
       "29  2.20     110           1     1  \n",
       "30  2.20     110           1     1  \n",
       "31  2.20     110           1     1  "
      ]
     },
     "execution_count": 26,
     "metadata": {},
     "output_type": "execute_result"
    }
   ],
   "source": [
    "molnames = list(train['molecule_name'].unique())\n",
    "mols = OrderedDict()\n",
    "\n",
    "for name in molnames:\n",
    "    mols[name] = d[name]\n",
    "    \n",
    "struct =  structures[structures['molecule_name'].isin(molnames)]\n",
    "g = struct.groupby('molecule_name')\n",
    "\n",
    "struct.head()"
   ]
  },
  {
   "cell_type": "code",
   "execution_count": 27,
   "metadata": {},
   "outputs": [
    {
     "data": {
      "text/plain": [
       "38165"
      ]
     },
     "execution_count": 27,
     "metadata": {},
     "output_type": "execute_result"
    }
   ],
   "source": [
    "struct['molecule_name'].nunique()"
   ]
  },
  {
   "cell_type": "code",
   "execution_count": 28,
   "metadata": {},
   "outputs": [],
   "source": [
    "fdefName = os.path.join(RDConfig.RDDataDir,'BaseFeatures.fdef')\n",
    "factory = ChemicalFeatures.BuildFeatureFactory(fdefName)"
   ]
  },
  {
   "cell_type": "code",
   "execution_count": 29,
   "metadata": {},
   "outputs": [],
   "source": [
    "atfn = {'Acceptor':0,\n",
    "         'Aromatic':1,\n",
    "         'Donor':2,\n",
    "         'Hydrophobe':3,\n",
    "         'LumpedHydrophobe':4,\n",
    "         'NegIonizable':5,\n",
    "         'PosIonizable':6,\n",
    "         'ZnBinder':7}"
   ]
  },
  {
   "cell_type": "code",
   "execution_count": 30,
   "metadata": {},
   "outputs": [],
   "source": [
    "#ADD DISTANCE TO TARGET FEATURE\n",
    "def getAtomNodeFeats(molname, mols, data):\n",
    "    symbol, x, y, z, gr,eneg,radius,atomnum,nv = 2,3,4,5,6,7,8,9,10\n",
    "    mol = mols[molname]\n",
    "    feats = factory.GetFeaturesForMol(mol)\n",
    "    atfdict = defaultdict(list)\n",
    "    for i in range(len(feats)):\n",
    "        fam = feats[i].GetFamily()\n",
    "        dl = feats[i].GetAtomIds()\n",
    "        for aid in dl:\n",
    "            atfdict[aid].append(fam)\n",
    "    \n",
    "    l = len(data)\n",
    "    nodef = []\n",
    "    \n",
    "    eems = rdmd.CalcEEMcharges(mol)\n",
    "    spfd = {'S':0,'SP':0.5,'SP2':1/3,'SP3':1/4}\n",
    "    \n",
    "    for i in range(l):\n",
    "        d = data[i]\n",
    "        atom = mol.GetAtomWithIdx(i)\n",
    "        ahyb =  str(atom.GetHybridization())\n",
    "        sym = d[symbol]\n",
    "        hf = 'NONE'\n",
    "        if i in atfdict:\n",
    "            hf = atfdict[i]\n",
    "        ff = [sym=='H',sym=='C',sym=='N',sym=='O',sym=='F',d[atomnum],(int)(atom.IsInRing() == True),\n",
    "              ahyb=='S',ahyb=='SP', ahyb=='SP2', ahyb=='SP3',d[x],d[y],d[z],eems[i],spfd[ahyb],\n",
    "              d[radius],d[eneg],d[gr],NumPiElectrons(atom),0,0]\n",
    "        ff += ([0]*135)#        #AT3 FEATS   -24,-12\n",
    "        newf = [0,0,0,0,0,0,0,0, 0,0,0,0,0,0,0,0,0,0,0,0,0,  0, 0,0,0,0,0,0,0,0,0,0]\n",
    "        newf[-11] = d[nv]\n",
    "        if hf != 'NONE':\n",
    "            for t in hf:\n",
    "                newf[atfn[t]] = 1\n",
    "            \n",
    "        ff += newf\n",
    "        nodef.append(ff)\n",
    "    \n",
    "    lm = molcouples[molname]\n",
    "    for i,(a0,a1) in enumerate(lm):\n",
    "        nodef[a0][22+i] = 1\n",
    "        nodef[a1][22+i] = 1\n",
    "    return nodef"
   ]
  },
  {
   "cell_type": "code",
   "execution_count": 31,
   "metadata": {},
   "outputs": [],
   "source": [
    "#NODEF\n",
    "#-24: dist at3\n",
    "#-23: angle at3\n",
    "#-22: cos at3\n",
    "#-21: sin at3\n",
    "#-20: angle m0\n",
    "#-19: cos m0\n",
    "#-18: sin m0\n",
    "#-17: angle m1\n",
    "#-16: cos m1\n",
    "#-15: sin m1\n",
    "#-14: x rel at3\n",
    "#-13: y ----\n",
    "#-12: z -----"
   ]
  },
  {
   "cell_type": "code",
   "execution_count": 32,
   "metadata": {},
   "outputs": [],
   "source": [
    "@numba.jit(nopython=True)\n",
    "def getAngle(x0,y0,z0,x1,y1,z1):\n",
    "    mag_x0 = np.sqrt(x0**2 + y0**2 + z0**2)\n",
    "    mag_x1 = np.sqrt(x1**2 + y1**2 + z1**2)\n",
    "    dotp = (x0*x1) + (y0* y1) + (z0*z1)\n",
    "    c = dotp/(mag_x0*mag_x1)\n",
    "    if c < -1:\n",
    "        c = -1\n",
    "    elif c > 1:\n",
    "        c = 1\n",
    "    theta = np.arccos(c)\n",
    "    return theta, np.cos(theta), np.sin(theta)"
   ]
  },
  {
   "cell_type": "code",
   "execution_count": 33,
   "metadata": {},
   "outputs": [],
   "source": [
    "def getBondEdgeFeats(molname, mols, data):\n",
    "    x, y, z = 3,4,5\n",
    "    mol = mols[molname]\n",
    "    bonds = mol.GetBonds()\n",
    "    src,dst = [],[]\n",
    "    bondf = []\n",
    "    aed = defaultdict(list)\n",
    "    \n",
    "    btd = {'AROMATIC':0,'SINGLE':1,'DOUBLE':2, 'TRIPLE':3}\n",
    "    #make bidirectional\n",
    "    for bond in bonds:\n",
    "        id0,id1 = bond.GetBeginAtomIdx(), bond.GetEndAtomIdx()\n",
    "        \n",
    "        src.append(id0)\n",
    "        dst.append(id1)\n",
    "        src.append(id1)\n",
    "        dst.append(id0)\n",
    "        \n",
    "        aed[id0].append(id1)\n",
    "        aed[id1].append(id0)\n",
    "        \n",
    "        t0,t1 = data[id0],data[id1]\n",
    "        x0,y0,z0,x1,y1,z1 = t0[x],t0[y],t0[z],t1[x],t1[y],t1[z]   \n",
    "                \n",
    "        d = GetBondLength(mol.GetConformer(),id0,id1)\n",
    "        a,cos,sin = getAngle(x0,y0,z0,x1,y1,z1)\n",
    "        isconj = (int)(bond.GetIsConjugated() == True)\n",
    "        btype =  str(bond.GetBondType())\n",
    "        bt = [0,0,0,0]\n",
    "        bt[btd[btype]] = 1\n",
    "        #angle t0, cos t0, sin t0, angle t1, cos t1, sin t1, angle tv, cos tv, sin tv\n",
    "        # -16,-10\n",
    "        ff = [d,a,cos,sin,isconj] + bt + [0,0,0,0,0,0,0] + [0,0,0,0,0,0,0,0,0]\n",
    "        bondf.append(ff)\n",
    "        bondf.append(ff)\n",
    "        #[blen,angle,cos,sin,isconj,bt,bt,bt,bt]\n",
    "    edge_index = []\n",
    "    edge_index.append(src)\n",
    "    edge_index.append(dst)\n",
    "    #tonorm: 0,1,2,3,4\n",
    "    return bondf, edge_index, aed    "
   ]
  },
  {
   "cell_type": "code",
   "execution_count": 34,
   "metadata": {},
   "outputs": [],
   "source": [
    "#-1: angle at3\n",
    "#-2: cos at3\n",
    "#-3: sin at3\n",
    "#-16: angle m0\n",
    "#-15: cos m0\n",
    "#-14: sin m0\n",
    "#-13: angle m1\n",
    "#-12: cos m1\n",
    "#-11: sin m1\n",
    "#-10: isofinterest\n",
    "#BONDF"
   ]
  },
  {
   "cell_type": "code",
   "execution_count": 35,
   "metadata": {
    "scrolled": true
   },
   "outputs": [
    {
     "data": {
      "application/vnd.jupyter.widget-view+json": {
       "model_id": "3bf257dac2ee47958ef98ec76f8d68dc",
       "version_major": 2,
       "version_minor": 0
      },
      "text/plain": [
       "HBox(children=(IntProgress(value=0, max=38165), HTML(value='')))"
      ]
     },
     "metadata": {},
     "output_type": "display_data"
    },
    {
     "name": "stdout",
     "output_type": "stream",
     "text": [
      "\n"
     ]
    }
   ],
   "source": [
    "mnames = list(mols.keys())\n",
    "\n",
    "datadir = {}\n",
    "for name in tqdm.tqdm_notebook(mnames):\n",
    "    a = g.get_group(name)\n",
    "    nodef = getAtomNodeFeats(name,mols,a.values.tolist())\n",
    "    bondf, edgeidx, aed = getBondEdgeFeats(name,mols,a.values.tolist())\n",
    "    datadir[name] = [nodef, bondf, edgeidx, aed]"
   ]
  },
  {
   "cell_type": "code",
   "execution_count": 36,
   "metadata": {},
   "outputs": [],
   "source": [
    "train= train.drop(['atom_0', 'x_0', 'y_0', 'z_0', 'Gratio_x',\n",
    "            'Eneg_x', 'radius_x', 'atomic_num_x', 'atom_1', 'x_1', 'y_1', 'z_1',\n",
    "            'Gratio_y', 'Eneg_y', 'radius_y', 'atomic_num_y'],axis=1)"
   ]
  },
  {
   "cell_type": "code",
   "execution_count": 37,
   "metadata": {},
   "outputs": [],
   "source": [
    "train = train.drop(['numv_x','numv_y'],axis=1)"
   ]
  },
  {
   "cell_type": "code",
   "execution_count": 38,
   "metadata": {},
   "outputs": [],
   "source": [
    "t = train.values.tolist()"
   ]
  },
  {
   "cell_type": "code",
   "execution_count": 39,
   "metadata": {},
   "outputs": [],
   "source": [
    "@numba.jit(nopython=True)\n",
    "def getDist(x0,y0,z0,x1,y1,z1):\n",
    "    return np.sqrt((x0-x1)**2 + (y0-y1)**2 + (z0-z1)**2)"
   ]
  },
  {
   "cell_type": "code",
   "execution_count": 40,
   "metadata": {},
   "outputs": [],
   "source": [
    "olds = np.seterr(all='raise')"
   ]
  },
  {
   "cell_type": "code",
   "execution_count": 41,
   "metadata": {
    "scrolled": true
   },
   "outputs": [
    {
     "data": {
      "application/vnd.jupyter.widget-view+json": {
       "model_id": "e69bfcd8324b43428fa58fb2d9c796c3",
       "version_major": 2,
       "version_minor": 0
      },
      "text/plain": [
       "HBox(children=(IntProgress(value=0, max=512721), HTML(value='')))"
      ]
     },
     "metadata": {},
     "output_type": "display_data"
    },
    {
     "name": "stdout",
     "output_type": "stream",
     "text": [
      "\n"
     ]
    }
   ],
   "source": [
    "trainlist = []\n",
    "l = len(t)\n",
    "for ii,dp in enumerate(tqdm.tqdm_notebook(t)):\n",
    "    name, id0, id1, y = dp[1], dp[2], dp[3], dp[4]\n",
    "    if name != 'dsgdb9nsd_059827':\n",
    "        n,b,e,aed = datadir[name]\n",
    "        nodef,bondf,edgeidx = np.array(n), np.array(b), np.array(e)\n",
    "        nodef,bondf,edgeidx = nodef.tolist(),bondf.tolist(),edgeidx.tolist()\n",
    "\n",
    "        nodef[id0][-1] = 1\n",
    "        nodef[id1][-1] = 1\n",
    "\n",
    "        nid0 = nodef[id0]\n",
    "        nid1 = nodef[id1]\n",
    "        x0,y0,z0 = nid0[11],nid0[12],nid0[13]\n",
    "        x1,y1,z1 = nid1[11],nid1[12],nid1[13]\n",
    "\n",
    "        ll = len(nodef)\n",
    "        ai0 = aed[id0]\n",
    "        ai1 = aed[id1]\n",
    "\n",
    "        G = nx.Graph()\n",
    "        eds = [x for x in zip(edgeidx[0],edgeidx[1])]\n",
    "        G.add_edges_from(eds)\n",
    "        sp = nx.dijkstra_path(G,id0,id1)\n",
    "\n",
    "        if len(sp) == 3:\n",
    "            mp = sp[1]\n",
    "            nodef[mp][-1] = 1\n",
    "            tnm = nodef[mp]\n",
    "            xm,ym,zm = tnm[11],tnm[12],tnm[13]\n",
    "            xm0,ym0,zm0 = xm-x0,ym-y0,zm-z0\n",
    "            xm1,ym1,zm1 = xm-x1,ym-y1,zm-z1\n",
    "            for i in range(ll):\n",
    "                if i not in ai0 and i != id0:\n",
    "                    temp = [0,0,0,0,0,0,0,0,0,0,0,0,0,0,0,0,0,0,0,0,0,0,0,0,0]\n",
    "                    tnf = nodef[i]\n",
    "                    xi,yi,zi = tnf[11],tnf[12],tnf[13]\n",
    "                    temp[0] = getDist(xi,yi,zi,x0,y0,z0)\n",
    "                    theta,cos,sin = getAngle(xi,yi,zi,x0,y0,z0)\n",
    "                    temp[1] = theta\n",
    "                    temp[2] = cos\n",
    "                    temp[3] = sin\n",
    "\n",
    "                    bondf.append(temp)\n",
    "                    bondf.append(temp)\n",
    "\n",
    "                    edgeidx[0].append(i)\n",
    "                    edgeidx[1].append(id0)\n",
    "\n",
    "                    edgeidx[0].append(id0)\n",
    "                    edgeidx[1].append(i)\n",
    "                if i not in ai1 and  i != id1:\n",
    "                    temp = [0,0,0,0,0,0,0,0,0,0,0,0,0,0,0,0,0,0,0,0,0,0,0,0,0]\n",
    "                    tnf = nodef[i]\n",
    "                    xi,yi,zi = tnf[11],tnf[12],tnf[13]\n",
    "                    temp[0] = getDist(xi,yi,zi,x1,y1,z1)\n",
    "                    theta,cos,sin = getAngle(xi,yi,zi,x1,y1,z1)\n",
    "                    temp[1] = theta\n",
    "                    temp[2] = cos\n",
    "                    temp[3] = sin\n",
    "\n",
    "                    bondf.append(temp)\n",
    "                    bondf.append(temp)\n",
    "\n",
    "                    edgeidx[0].append(i)\n",
    "                    edgeidx[1].append(id1)\n",
    "\n",
    "                    edgeidx[0].append(id1)\n",
    "                    edgeidx[1].append(i)\n",
    "                    \n",
    "            G = nx.Graph()\n",
    "            eds = [x for x in zip(edgeidx[0],edgeidx[1])]\n",
    "            G.add_edges_from(eds)\n",
    "            for i in range(ll):\n",
    "                if (not G.has_edge(i,mp)) and i != mp:\n",
    "                    temp = [0,0,0,0,0,0,0,0,0,0,0,0,0,0,0,0,0,0,0,0,0,0,0,0,0]\n",
    "                    tnf = nodef[i]\n",
    "                    xi,yi,zi = tnf[11],tnf[12],tnf[13]\n",
    "                    temp[0] = getDist(xi,yi,zi,xm,ym,zm)\n",
    "                    theta,cos,sin = getAngle(xi,yi,zi,xm,ym,zm)\n",
    "                    temp[1] = theta\n",
    "                    temp[2] = cos\n",
    "                    temp[3] = sin\n",
    "\n",
    "                    bondf.append(temp)\n",
    "                    bondf.append(temp)\n",
    "\n",
    "                    edgeidx[0].append(i)\n",
    "                    edgeidx[1].append(mp)\n",
    "\n",
    "                    edgeidx[0].append(mp)\n",
    "                    edgeidx[1].append(i)\n",
    "\n",
    "            bonds = [x for x in zip(edgeidx[0],edgeidx[1])]\n",
    "            intbonds = [(id0,mp),(mp,id1),(mp,id0),(id1,mp)]\n",
    "            for i,bf in enumerate(bondf):\n",
    "                i0,i1 = bonds[i]\n",
    "                if (i0,i1) in intbonds:\n",
    "                    bf[-10] = 1\n",
    "                nfa,nfb = nodef[i0],nodef[i1]\n",
    "                xa,ya,za = nfa[11],nfa[12],nfa[13]\n",
    "                xb,yb,zb = nfb[11],nfb[12],nfb[13]\n",
    "                xi,yi,zi = xa-xb,ya-yb,za-zb\n",
    "                a0,cos0,sin0 = getAngle(xi,yi,zi,x0,y0,z0)\n",
    "                a1,cos1,sin1 = getAngle(xi,yi,zi,x1,y1,z1)\n",
    "                am,cosm,sinm = getAngle(xi,yi,zi,xm,ym,zm)\n",
    "                am0,cosm0,sinm0 = getAngle(xi,yi,zi,xm0,ym0,zm0)\n",
    "                am1,cosm1,sinm1 = getAngle(xi,yi,zi,xm1,ym1,zm1)\n",
    "                \n",
    "                bf[-16] = am0\n",
    "                bf[-15] = cosm0\n",
    "                bf[-14] = sinm0\n",
    "                bf[-13] = am1\n",
    "                bf[-12] = cosm1\n",
    "                bf[-11] = sinm1\n",
    "                \n",
    "                bf[-9] = a0\n",
    "                bf[-8] = cos0\n",
    "                bf[-7] = sin0\n",
    "                bf[-6] = a1\n",
    "                bf[-5] = cos1\n",
    "                bf[-4] = sin1\n",
    "                bf[-3] = am\n",
    "                bf[-2] = cosm\n",
    "                bf[-1] = sinm\n",
    "#-24: dist at3 #-23: angle at3 #-22: cos at3 #-21: sin at3 #-20: angle m0 #-19: cos m0 #-18: sin m0\n",
    "#-17: angle m1 #-16: cos m1 #-15: sin m1 #-14: x rel at3 #-13: y ---- #-12: z -----\n",
    "            for i,nf in enumerate(nodef):\n",
    "                if i == mp:\n",
    "                    nf[20] = getDist(x0,y0,z0,xm,ym,zm)\n",
    "                    nf[21] = getDist(x1,y1,z1,xm,ym,zm)\n",
    "                    #dist,angle,cos,sin to at3\n",
    "                    nf[-24] = 0\n",
    "                    nf[-23] = 0\n",
    "                    nf[-22] = 1\n",
    "                    nf[-21] = 0\n",
    "                    am0,cosm0,sinm0 =  getAngle(xm,ym,zm,xm0,ym0,zm0)\n",
    "                    nf[-20] = am0\n",
    "                    nf[-19] = cosm0\n",
    "                    nf[-18] = sinm0\n",
    "                    am1,cosm1,sinm1 =  getAngle(xm,ym,zm,xm1,ym1,zm1)\n",
    "                    nf[-17] = am1\n",
    "                    nf[-16] = cosm1\n",
    "                    nf[-15] = sinm1\n",
    "                    #xyz rel to at3\n",
    "                    nf[-14] = 0\n",
    "                    nf[-13] = 0\n",
    "                    nf[-12] = 0 \n",
    "                    \n",
    "                    ang0,cos0,sin0 = getAngle(xm,ym,zm,x0,y0,z0)\n",
    "                    nf[-7] = ang0 #angle with at0\n",
    "                    nf[-6] = cos0 #cos with at0\n",
    "                    nf[-5] = sin0 #sin with at0\n",
    "                    ang1,cos1,sin1 = getAngle(xm,ym,zm,x1,y1,z1)\n",
    "                    nf[-4] = ang1 #angle with at1\n",
    "                    nf[-3] = cos1 #cos with at1\n",
    "                    nf[-2] = sin1 #sin with at1\n",
    "                    \n",
    "                    nf[-10] = x1-xm\n",
    "                    nf[-9] = y1-ym\n",
    "                    nf[-8] = z1-zm#xyz rel to at1\n",
    "                    nf[11] = x0-xm\n",
    "                    nf[12] = y0-ym\n",
    "                    nf[13] = z0-zm#xyz rel to at1\n",
    "                elif i == id0:\n",
    "                    nf[20] = 0\n",
    "                    nf[21] = getDist(x0,y0,z0,x1,y1,z1)\n",
    "                    \n",
    "                    am3,cosm3,sinm3 =  getAngle(x0,y0,z0,xm,ym,zm)\n",
    "                    nf[-24] = getDist(x0,y0,z0,xm,ym,zm)\n",
    "                    nf[-23] = am3\n",
    "                    nf[-22] = cosm3\n",
    "                    nf[-21] = sinm3\n",
    "                    am0,cosm0,sinm0 =  getAngle(x0,y0,z0,xm0,ym0,zm0)\n",
    "                    nf[-20] = am0\n",
    "                    nf[-19] = cosm0\n",
    "                    nf[-18] = sinm0\n",
    "                    am1,cosm1,sinm1 =  getAngle(x0,y0,z0,xm1,ym1,zm1)\n",
    "                    nf[-17] = am1\n",
    "                    nf[-16] = cosm1\n",
    "                    nf[-15] = sinm1\n",
    "                    #xyz rel to at3\n",
    "                    nf[-14] = xm-x0\n",
    "                    nf[-13] = ym-y0\n",
    "                    nf[-12] = zm-z0\n",
    "\n",
    "                    nf[-7] = 0\n",
    "                    nf[-6] = 1\n",
    "                    nf[-5] = 0\n",
    "                    a1,cos,sin = getAngle(x0,y0,z0,x1,y1,z1)\n",
    "                    nf[-4] = a1\n",
    "                    nf[-3] = cos\n",
    "                    nf[-2] = sin\n",
    "                    nf[-10] = x1-x0\n",
    "                    nf[-9] = y1-y0\n",
    "                    nf[-8] = z1-z0\n",
    "                    nf[11] = 0\n",
    "                    nf[12] = 0\n",
    "                    nf[13] = 0\n",
    "\n",
    "                elif i == id1:\n",
    "                    nf[21] = 0\n",
    "                    nf[20] = getDist(x0,y0,z0,x1,y1,z1)\n",
    "                    \n",
    "                    am3,cosm3,sinm3 =  getAngle(x1,y1,z1,xm,ym,zm)\n",
    "                    nf[-24] = getDist(x1,y1,z1,xm,ym,zm)\n",
    "                    nf[-23] = am3\n",
    "                    nf[-22] = cosm3\n",
    "                    nf[-21] = sinm3\n",
    "                    am0,cosm0,sinm0 =  getAngle(x1,y1,z1,xm0,ym0,zm0)\n",
    "                    nf[-20] = am0\n",
    "                    nf[-19] = cosm0\n",
    "                    nf[-18] = sinm0\n",
    "                    am1,cosm1,sinm1 =  getAngle(x1,y1,z1,xm1,ym1,zm1)\n",
    "                    nf[-17] = am1\n",
    "                    nf[-16] = cosm1\n",
    "                    nf[-15] = sinm1\n",
    "                    #xyz rel to at3\n",
    "                    nf[-14] = xm-x1\n",
    "                    nf[-13] = ym-y1\n",
    "                    nf[-12] = zm-z1\n",
    "                    \n",
    "                    a0,cos,sin = getAngle(x0,y0,z0,x1,y1,z1)\n",
    "                    nf[-7] = a0\n",
    "                    nf[-6] = cos\n",
    "                    nf[-5] = sin\n",
    "                    nf[-4] = 0\n",
    "                    nf[-3] = 1\n",
    "                    nf[-2] = 0\n",
    "                    nf[-10] = 0\n",
    "                    nf[-9] = 0\n",
    "                    nf[-8] = 0\n",
    "                    nf[11] = x0-x1\n",
    "                    nf[12] = y0-y1\n",
    "                    nf[13] = z0-z1\n",
    "                else:\n",
    "                    xi,yi,zi = nf[11],nf[12],nf[13]\n",
    "                    nf[21] = getDist(xi,yi,zi,x1,y1,z1)\n",
    "                    nf[20] = getDist(xi,yi,zi,x0,y0,z0)\n",
    "                    \n",
    "                    am3,cosm3,sinm3 =  getAngle(xi,yi,zi,xm,ym,zm)\n",
    "                    nf[-24] = getDist(xi,yi,zi,xm,ym,zm)\n",
    "                    nf[-23] = am3\n",
    "                    nf[-22] = cosm3\n",
    "                    nf[-21] = sinm3\n",
    "                    am0,cosm0,sinm0 =  getAngle(xi,yi,zi,xm0,ym0,zm0)\n",
    "                    nf[-20] = am0\n",
    "                    nf[-19] = cosm0\n",
    "                    nf[-18] = sinm0\n",
    "                    am1,cosm1,sinm1 =  getAngle(xi,yi,zi,xm1,ym1,zm1)\n",
    "                    nf[-17] = am1\n",
    "                    nf[-16] = cosm1\n",
    "                    nf[-15] = sinm1\n",
    "                    #xyz rel to at3\n",
    "                    nf[-14] = xm-x1\n",
    "                    nf[-13] = ym-y1\n",
    "                    nf[-12] = zm-z1\n",
    "                    \n",
    "                    a0,cos0,sin0 = getAngle(xi,yi,zi,x0,y0,z0)\n",
    "                    a1,cos1,sin1 = getAngle(xi,yi,zi,x1,y1,z1)\n",
    "                    nf[-7] = a0\n",
    "                    nf[-6] = cos0\n",
    "                    nf[-5] = sin0\n",
    "                    nf[-4] = a1\n",
    "                    nf[-3] = cos1\n",
    "                    nf[-2] = sin1\n",
    "                    nf[-10] = x1-xi\n",
    "                    nf[-9] = y1-yi\n",
    "                    nf[-8] = z1-zi\n",
    "                    nf[11] = x0-xi\n",
    "                    nf[12] = y0-yi\n",
    "                    nf[13] = z0-zi\n",
    "\n",
    "            x = torch.tensor(nodef, dtype=torch.float)\n",
    "            edge_index = torch.tensor(edgeidx, dtype=torch.long)\n",
    "            edge_attr = torch.tensor(bondf,dtype=torch.float)\n",
    "            data = Data(x=x, edge_index=edge_index, edge_attr=edge_attr,y=y)\n",
    "\n",
    "            trainlist.append(data)"
   ]
  },
  {
   "cell_type": "code",
   "execution_count": 42,
   "metadata": {},
   "outputs": [],
   "source": [
    "val= val.drop(['atom_0', 'x_0', 'y_0', 'z_0', 'Gratio_x',\n",
    "            'Eneg_x', 'radius_x', 'atomic_num_x', 'atom_1', 'x_1', 'y_1', 'z_1',\n",
    "            'Gratio_y', 'Eneg_y', 'radius_y', 'atomic_num_y','numv_x','numv_y'],axis=1)"
   ]
  },
  {
   "cell_type": "code",
   "execution_count": 43,
   "metadata": {},
   "outputs": [],
   "source": [
    "v = val.values.tolist()"
   ]
  },
  {
   "cell_type": "code",
   "execution_count": 44,
   "metadata": {},
   "outputs": [
    {
     "data": {
      "text/html": [
       "<div>\n",
       "<style scoped>\n",
       "    .dataframe tbody tr th:only-of-type {\n",
       "        vertical-align: middle;\n",
       "    }\n",
       "\n",
       "    .dataframe tbody tr th {\n",
       "        vertical-align: top;\n",
       "    }\n",
       "\n",
       "    .dataframe thead th {\n",
       "        text-align: right;\n",
       "    }\n",
       "</style>\n",
       "<table border=\"1\" class=\"dataframe\">\n",
       "  <thead>\n",
       "    <tr style=\"text-align: right;\">\n",
       "      <th></th>\n",
       "      <th>molecule_name</th>\n",
       "      <th>atom_index</th>\n",
       "      <th>atom</th>\n",
       "      <th>x</th>\n",
       "      <th>y</th>\n",
       "      <th>z</th>\n",
       "      <th>Gratio</th>\n",
       "      <th>Eneg</th>\n",
       "      <th>radius</th>\n",
       "      <th>atomic_num</th>\n",
       "      <th>numv</th>\n",
       "    </tr>\n",
       "  </thead>\n",
       "  <tbody>\n",
       "    <tr>\n",
       "      <th>185</th>\n",
       "      <td>dsgdb9nsd_000029</td>\n",
       "      <td>0</td>\n",
       "      <td>C</td>\n",
       "      <td>-0.017880</td>\n",
       "      <td>1.466769</td>\n",
       "      <td>0.010112</td>\n",
       "      <td>10.705</td>\n",
       "      <td>2.55</td>\n",
       "      <td>170</td>\n",
       "      <td>6</td>\n",
       "      <td>4</td>\n",
       "    </tr>\n",
       "    <tr>\n",
       "      <th>186</th>\n",
       "      <td>dsgdb9nsd_000029</td>\n",
       "      <td>1</td>\n",
       "      <td>C</td>\n",
       "      <td>0.001866</td>\n",
       "      <td>0.010729</td>\n",
       "      <td>0.002111</td>\n",
       "      <td>10.705</td>\n",
       "      <td>2.55</td>\n",
       "      <td>170</td>\n",
       "      <td>6</td>\n",
       "      <td>4</td>\n",
       "    </tr>\n",
       "    <tr>\n",
       "      <th>187</th>\n",
       "      <td>dsgdb9nsd_000029</td>\n",
       "      <td>2</td>\n",
       "      <td>C</td>\n",
       "      <td>0.018197</td>\n",
       "      <td>-1.192729</td>\n",
       "      <td>-0.004507</td>\n",
       "      <td>10.705</td>\n",
       "      <td>2.55</td>\n",
       "      <td>170</td>\n",
       "      <td>6</td>\n",
       "      <td>4</td>\n",
       "    </tr>\n",
       "    <tr>\n",
       "      <th>188</th>\n",
       "      <td>dsgdb9nsd_000029</td>\n",
       "      <td>3</td>\n",
       "      <td>C</td>\n",
       "      <td>0.037952</td>\n",
       "      <td>-2.648768</td>\n",
       "      <td>-0.012512</td>\n",
       "      <td>10.705</td>\n",
       "      <td>2.55</td>\n",
       "      <td>170</td>\n",
       "      <td>6</td>\n",
       "      <td>4</td>\n",
       "    </tr>\n",
       "    <tr>\n",
       "      <th>189</th>\n",
       "      <td>dsgdb9nsd_000029</td>\n",
       "      <td>4</td>\n",
       "      <td>H</td>\n",
       "      <td>0.864603</td>\n",
       "      <td>1.875900</td>\n",
       "      <td>0.514797</td>\n",
       "      <td>42.576</td>\n",
       "      <td>2.20</td>\n",
       "      <td>110</td>\n",
       "      <td>1</td>\n",
       "      <td>1</td>\n",
       "    </tr>\n",
       "  </tbody>\n",
       "</table>\n",
       "</div>"
      ],
      "text/plain": [
       "        molecule_name  atom_index atom         x         y         z  Gratio  \\\n",
       "185  dsgdb9nsd_000029           0    C -0.017880  1.466769  0.010112  10.705   \n",
       "186  dsgdb9nsd_000029           1    C  0.001866  0.010729  0.002111  10.705   \n",
       "187  dsgdb9nsd_000029           2    C  0.018197 -1.192729 -0.004507  10.705   \n",
       "188  dsgdb9nsd_000029           3    C  0.037952 -2.648768 -0.012512  10.705   \n",
       "189  dsgdb9nsd_000029           4    H  0.864603  1.875900  0.514797  42.576   \n",
       "\n",
       "     Eneg  radius  atomic_num  numv  \n",
       "185  2.55     170           6     4  \n",
       "186  2.55     170           6     4  \n",
       "187  2.55     170           6     4  \n",
       "188  2.55     170           6     4  \n",
       "189  2.20     110           1     1  "
      ]
     },
     "execution_count": 44,
     "metadata": {},
     "output_type": "execute_result"
    }
   ],
   "source": [
    "molnames = list(val['molecule_name'].unique())\n",
    "mols = OrderedDict()\n",
    "for name in molnames:\n",
    "    mols[name] = d[name]\n",
    "struct =  structures[structures['molecule_name'].isin(molnames)]\n",
    "g = struct.groupby('molecule_name')\n",
    "struct.head()"
   ]
  },
  {
   "cell_type": "code",
   "execution_count": 45,
   "metadata": {},
   "outputs": [
    {
     "data": {
      "application/vnd.jupyter.widget-view+json": {
       "model_id": "1641c90de9774e1a943264ed44853235",
       "version_major": 2,
       "version_minor": 0
      },
      "text/plain": [
       "HBox(children=(IntProgress(value=0, max=8481), HTML(value='')))"
      ]
     },
     "metadata": {},
     "output_type": "display_data"
    },
    {
     "name": "stdout",
     "output_type": "stream",
     "text": [
      "\n"
     ]
    }
   ],
   "source": [
    "mnames = list(mols.keys())\n",
    "datadir = {}\n",
    "for name in tqdm.tqdm_notebook(mnames):\n",
    "    a = g.get_group(name)\n",
    "    nodef = getAtomNodeFeats(name,mols,a.values.tolist())\n",
    "    bondf, edgeidx, aed = getBondEdgeFeats(name,mols,a.values.tolist())\n",
    "    datadir[name] = [nodef, bondf, edgeidx, aed]"
   ]
  },
  {
   "cell_type": "code",
   "execution_count": 46,
   "metadata": {},
   "outputs": [
    {
     "data": {
      "application/vnd.jupyter.widget-view+json": {
       "model_id": "ad806cd3c39b4053b68a6fe8e0031e81",
       "version_major": 2,
       "version_minor": 0
      },
      "text/plain": [
       "HBox(children=(IntProgress(value=0, max=114100), HTML(value='')))"
      ]
     },
     "metadata": {},
     "output_type": "display_data"
    },
    {
     "name": "stdout",
     "output_type": "stream",
     "text": [
      "\n"
     ]
    }
   ],
   "source": [
    "vallist = []\n",
    "l = len(v)\n",
    "for dp in tqdm.tqdm_notebook(v):\n",
    "    name, id0, id1, y = dp[1], dp[2], dp[3], dp[4]\n",
    "    if name != 'dsgdb9nsd_059827':\n",
    "        n,b,e,aed = datadir[name]\n",
    "        nodef,bondf,edgeidx = np.array(n), np.array(b), np.array(e)\n",
    "        nodef,bondf,edgeidx = nodef.tolist(),bondf.tolist(),edgeidx.tolist()\n",
    "\n",
    "        nodef[id0][-1] = 1\n",
    "        nodef[id1][-1] = 1\n",
    "\n",
    "        nid0 = nodef[id0]\n",
    "        nid1 = nodef[id1]\n",
    "        x0,y0,z0 = nid0[11],nid0[12],nid0[13]\n",
    "        x1,y1,z1 = nid1[11],nid1[12],nid1[13]\n",
    "\n",
    "        ll = len(nodef)\n",
    "        ai0 = aed[id0]\n",
    "        ai1 = aed[id1]\n",
    "\n",
    "        G = nx.Graph()\n",
    "        eds = [x for x in zip(edgeidx[0],edgeidx[1])]\n",
    "        G.add_edges_from(eds)\n",
    "        sp = nx.dijkstra_path(G,id0,id1)\n",
    "\n",
    "        if len(sp) == 3:\n",
    "            mp = sp[1]\n",
    "            nodef[mp][-1] = 1\n",
    "            tnm = nodef[mp]\n",
    "            xm,ym,zm = tnm[11],tnm[12],tnm[13]\n",
    "            xm0,ym0,zm0 = xm-x0,ym-y0,zm-z0\n",
    "            xm1,ym1,zm1 = xm-x1,ym-y1,zm-z1\n",
    "            for i in range(ll):\n",
    "                if i not in ai0 and i != id0:\n",
    "                    temp = [0,0,0,0,0,0,0,0,0,0,0,0,0,0,0,0,0,0,0,0,0,0,0,0,0]\n",
    "                    tnf = nodef[i]\n",
    "                    xi,yi,zi = tnf[11],tnf[12],tnf[13]\n",
    "                    temp[0] = getDist(xi,yi,zi,x0,y0,z0)\n",
    "                    theta,cos,sin = getAngle(xi,yi,zi,x0,y0,z0)\n",
    "                    temp[1] = theta\n",
    "                    temp[2] = cos\n",
    "                    temp[3] = sin\n",
    "\n",
    "                    bondf.append(temp)\n",
    "                    bondf.append(temp)\n",
    "\n",
    "                    edgeidx[0].append(i)\n",
    "                    edgeidx[1].append(id0)\n",
    "\n",
    "                    edgeidx[0].append(id0)\n",
    "                    edgeidx[1].append(i)\n",
    "                if i not in ai1 and  i != id1:\n",
    "                    temp = [0,0,0,0,0,0,0,0,0,0,0,0,0,0,0,0,0,0,0,0,0,0,0,0,0]\n",
    "                    tnf = nodef[i]\n",
    "                    xi,yi,zi = tnf[11],tnf[12],tnf[13]\n",
    "                    temp[0] = getDist(xi,yi,zi,x1,y1,z1)\n",
    "                    theta,cos,sin = getAngle(xi,yi,zi,x1,y1,z1)\n",
    "                    temp[1] = theta\n",
    "                    temp[2] = cos\n",
    "                    temp[3] = sin\n",
    "\n",
    "                    bondf.append(temp)\n",
    "                    bondf.append(temp)\n",
    "\n",
    "                    edgeidx[0].append(i)\n",
    "                    edgeidx[1].append(id1)\n",
    "\n",
    "                    edgeidx[0].append(id1)\n",
    "                    edgeidx[1].append(i)\n",
    "                    \n",
    "            G = nx.Graph()\n",
    "            eds = [x for x in zip(edgeidx[0],edgeidx[1])]\n",
    "            G.add_edges_from(eds)\n",
    "            for i in range(ll):\n",
    "                if (not G.has_edge(i,mp)) and i != mp:\n",
    "                    temp = [0,0,0,0,0,0,0,0,0,0,0,0,0,0,0,0,0,0,0,0,0,0,0,0,0]\n",
    "                    tnf = nodef[i]\n",
    "                    xi,yi,zi = tnf[11],tnf[12],tnf[13]\n",
    "                    temp[0] = getDist(xi,yi,zi,xm,ym,zm)\n",
    "                    theta,cos,sin = getAngle(xi,yi,zi,xm,ym,zm)\n",
    "                    temp[1] = theta\n",
    "                    temp[2] = cos\n",
    "                    temp[3] = sin\n",
    "\n",
    "                    bondf.append(temp)\n",
    "                    bondf.append(temp)\n",
    "\n",
    "                    edgeidx[0].append(i)\n",
    "                    edgeidx[1].append(mp)\n",
    "\n",
    "                    edgeidx[0].append(mp)\n",
    "                    edgeidx[1].append(i)\n",
    "\n",
    "            bonds = [x for x in zip(edgeidx[0],edgeidx[1])]\n",
    "            intbonds = [(id0,mp),(mp,id1),(mp,id0),(id1,mp)]\n",
    "            for i,bf in enumerate(bondf):\n",
    "                i0,i1 = bonds[i]\n",
    "                if (i0,i1) in intbonds:\n",
    "                    bf[-10] = 1\n",
    "                nfa,nfb = nodef[i0],nodef[i1]\n",
    "                xa,ya,za = nfa[11],nfa[12],nfa[13]\n",
    "                xb,yb,zb = nfb[11],nfb[12],nfb[13]\n",
    "                xi,yi,zi = xa-xb,ya-yb,za-zb\n",
    "                a0,cos0,sin0 = getAngle(xi,yi,zi,x0,y0,z0)\n",
    "                a1,cos1,sin1 = getAngle(xi,yi,zi,x1,y1,z1)\n",
    "                am,cosm,sinm = getAngle(xi,yi,zi,xm,ym,zm)\n",
    "                am0,cosm0,sinm0 = getAngle(xi,yi,zi,xm0,ym0,zm0)\n",
    "                am1,cosm1,sinm1 = getAngle(xi,yi,zi,xm1,ym1,zm1)\n",
    "                \n",
    "                bf[-16] = am0\n",
    "                bf[-15] = cosm0\n",
    "                bf[-14] = sinm0\n",
    "                bf[-13] = am1\n",
    "                bf[-12] = cosm1\n",
    "                bf[-11] = sinm1\n",
    "                \n",
    "                bf[-9] = a0\n",
    "                bf[-8] = cos0\n",
    "                bf[-7] = sin0\n",
    "                bf[-6] = a1\n",
    "                bf[-5] = cos1\n",
    "                bf[-4] = sin1\n",
    "                bf[-3] = am\n",
    "                bf[-2] = cosm\n",
    "                bf[-1] = sinm\n",
    "#-24: dist at3 #-23: angle at3 #-22: cos at3 #-21: sin at3 #-20: angle m0 #-19: cos m0 #-18: sin m0\n",
    "#-17: angle m1 #-16: cos m1 #-15: sin m1 #-14: x rel at3 #-13: y ---- #-12: z -----\n",
    "            for i,nf in enumerate(nodef):\n",
    "                if i == mp:\n",
    "                    nf[20] = getDist(x0,y0,z0,xm,ym,zm)\n",
    "                    nf[21] = getDist(x1,y1,z1,xm,ym,zm)\n",
    "                    #dist,angle,cos,sin to at3\n",
    "                    nf[-24] = 0\n",
    "                    nf[-23] = 0\n",
    "                    nf[-22] = 1\n",
    "                    nf[-21] = 0\n",
    "                    am0,cosm0,sinm0 =  getAngle(xm,ym,zm,xm0,ym0,zm0)\n",
    "                    nf[-20] = am0\n",
    "                    nf[-19] = cosm0\n",
    "                    nf[-18] = sinm0\n",
    "                    am1,cosm1,sinm1 =  getAngle(xm,ym,zm,xm1,ym1,zm1)\n",
    "                    nf[-17] = am1\n",
    "                    nf[-16] = cosm1\n",
    "                    nf[-15] = sinm1\n",
    "                    #xyz rel to at3\n",
    "                    nf[-14] = 0\n",
    "                    nf[-13] = 0\n",
    "                    nf[-12] = 0 \n",
    "                    \n",
    "                    ang0,cos0,sin0 = getAngle(xm,ym,zm,x0,y0,z0)\n",
    "                    nf[-7] = ang0 #angle with at0\n",
    "                    nf[-6] = cos0 #cos with at0\n",
    "                    nf[-5] = sin0 #sin with at0\n",
    "                    ang1,cos1,sin1 = getAngle(xm,ym,zm,x1,y1,z1)\n",
    "                    nf[-4] = ang1 #angle with at1\n",
    "                    nf[-3] = cos1 #cos with at1\n",
    "                    nf[-2] = sin1 #sin with at1\n",
    "                    \n",
    "                    nf[-10] = x1-xm\n",
    "                    nf[-9] = y1-ym\n",
    "                    nf[-8] = z1-zm#xyz rel to at1\n",
    "                    nf[11] = x0-xm\n",
    "                    nf[12] = y0-ym\n",
    "                    nf[13] = z0-zm#xyz rel to at1\n",
    "                elif i == id0:\n",
    "                    nf[20] = 0\n",
    "                    nf[21] = getDist(x0,y0,z0,x1,y1,z1)\n",
    "                    \n",
    "                    am3,cosm3,sinm3 =  getAngle(x0,y0,z0,xm,ym,zm)\n",
    "                    nf[-24] = getDist(x0,y0,z0,xm,ym,zm)\n",
    "                    nf[-23] = am3\n",
    "                    nf[-22] = cosm3\n",
    "                    nf[-21] = sinm3\n",
    "                    am0,cosm0,sinm0 =  getAngle(x0,y0,z0,xm0,ym0,zm0)\n",
    "                    nf[-20] = am0\n",
    "                    nf[-19] = cosm0\n",
    "                    nf[-18] = sinm0\n",
    "                    am1,cosm1,sinm1 =  getAngle(x0,y0,z0,xm1,ym1,zm1)\n",
    "                    nf[-17] = am1\n",
    "                    nf[-16] = cosm1\n",
    "                    nf[-15] = sinm1\n",
    "                    #xyz rel to at3\n",
    "                    nf[-14] = xm-x0\n",
    "                    nf[-13] = ym-y0\n",
    "                    nf[-12] = zm-z0\n",
    "\n",
    "                    nf[-7] = 0\n",
    "                    nf[-6] = 1\n",
    "                    nf[-5] = 0\n",
    "                    a1,cos,sin = getAngle(x0,y0,z0,x1,y1,z1)\n",
    "                    nf[-4] = a1\n",
    "                    nf[-3] = cos\n",
    "                    nf[-2] = sin\n",
    "                    nf[-10] = x1-x0\n",
    "                    nf[-9] = y1-y0\n",
    "                    nf[-8] = z1-z0\n",
    "                    nf[11] = 0\n",
    "                    nf[12] = 0\n",
    "                    nf[13] = 0\n",
    "\n",
    "                elif i == id1:\n",
    "                    nf[21] = 0\n",
    "                    nf[20] = getDist(x0,y0,z0,x1,y1,z1)\n",
    "                    \n",
    "                    am3,cosm3,sinm3 =  getAngle(x1,y1,z1,xm,ym,zm)\n",
    "                    nf[-24] = getDist(x1,y1,z1,xm,ym,zm)\n",
    "                    nf[-23] = am3\n",
    "                    nf[-22] = cosm3\n",
    "                    nf[-21] = sinm3\n",
    "                    am0,cosm0,sinm0 =  getAngle(x1,y1,z1,xm0,ym0,zm0)\n",
    "                    nf[-20] = am0\n",
    "                    nf[-19] = cosm0\n",
    "                    nf[-18] = sinm0\n",
    "                    am1,cosm1,sinm1 =  getAngle(x1,y1,z1,xm1,ym1,zm1)\n",
    "                    nf[-17] = am1\n",
    "                    nf[-16] = cosm1\n",
    "                    nf[-15] = sinm1\n",
    "                    #xyz rel to at3\n",
    "                    nf[-14] = xm-x1\n",
    "                    nf[-13] = ym-y1\n",
    "                    nf[-12] = zm-z1\n",
    "                    \n",
    "                    a0,cos,sin = getAngle(x0,y0,z0,x1,y1,z1)\n",
    "                    nf[-7] = a0\n",
    "                    nf[-6] = cos\n",
    "                    nf[-5] = sin\n",
    "                    nf[-4] = 0\n",
    "                    nf[-3] = 1\n",
    "                    nf[-2] = 0\n",
    "                    nf[-10] = 0\n",
    "                    nf[-9] = 0\n",
    "                    nf[-8] = 0\n",
    "                    nf[11] = x0-x1\n",
    "                    nf[12] = y0-y1\n",
    "                    nf[13] = z0-z1\n",
    "                else:\n",
    "                    xi,yi,zi = nf[11],nf[12],nf[13]\n",
    "                    nf[21] = getDist(xi,yi,zi,x1,y1,z1)\n",
    "                    nf[20] = getDist(xi,yi,zi,x0,y0,z0)\n",
    "                    \n",
    "                    am3,cosm3,sinm3 =  getAngle(xi,yi,zi,xm,ym,zm)\n",
    "                    nf[-24] = getDist(xi,yi,zi,xm,ym,zm)\n",
    "                    nf[-23] = am3\n",
    "                    nf[-22] = cosm3\n",
    "                    nf[-21] = sinm3\n",
    "                    am0,cosm0,sinm0 =  getAngle(xi,yi,zi,xm0,ym0,zm0)\n",
    "                    nf[-20] = am0\n",
    "                    nf[-19] = cosm0\n",
    "                    nf[-18] = sinm0\n",
    "                    am1,cosm1,sinm1 =  getAngle(xi,yi,zi,xm1,ym1,zm1)\n",
    "                    nf[-17] = am1\n",
    "                    nf[-16] = cosm1\n",
    "                    nf[-15] = sinm1\n",
    "                    #xyz rel to at3\n",
    "                    nf[-14] = xm-x1\n",
    "                    nf[-13] = ym-y1\n",
    "                    nf[-12] = zm-z1\n",
    "                    \n",
    "                    a0,cos0,sin0 = getAngle(xi,yi,zi,x0,y0,z0)\n",
    "                    a1,cos1,sin1 = getAngle(xi,yi,zi,x1,y1,z1)\n",
    "                    nf[-7] = a0\n",
    "                    nf[-6] = cos0\n",
    "                    nf[-5] = sin0\n",
    "                    nf[-4] = a1\n",
    "                    nf[-3] = cos1\n",
    "                    nf[-2] = sin1\n",
    "                    nf[-10] = x1-xi\n",
    "                    nf[-9] = y1-yi\n",
    "                    nf[-8] = z1-zi\n",
    "                    nf[11] = x0-xi\n",
    "                    nf[12] = y0-yi\n",
    "                    nf[13] = z0-zi\n",
    "\n",
    "            x = torch.tensor(nodef, dtype=torch.float)\n",
    "            edge_index = torch.tensor(edgeidx, dtype=torch.long)\n",
    "            edge_attr = torch.tensor(bondf,dtype=torch.float)\n",
    "            data = Data(x=x, edge_index=edge_index, edge_attr=edge_attr,y=y)\n",
    "\n",
    "            vallist.append(data)"
   ]
  },
  {
   "cell_type": "code",
   "execution_count": 47,
   "metadata": {},
   "outputs": [],
   "source": [
    "tt = []\n",
    "for d in trainlist:\n",
    "    tt.append(d.y)\n",
    "for d in vallist:\n",
    "    tt.append(d.y)"
   ]
  },
  {
   "cell_type": "code",
   "execution_count": 48,
   "metadata": {},
   "outputs": [],
   "source": [
    "tmean = np.mean(tt)\n",
    "tsd = np.std(tt)"
   ]
  },
  {
   "cell_type": "code",
   "execution_count": 49,
   "metadata": {},
   "outputs": [
    {
     "name": "stdout",
     "output_type": "stream",
     "text": [
      "-0.27623939703519823 4.524107451327379\n"
     ]
    }
   ],
   "source": [
    "print(tmean,tsd)"
   ]
  },
  {
   "cell_type": "code",
   "execution_count": 50,
   "metadata": {},
   "outputs": [
    {
     "data": {
      "image/png": "[encoded data removed]",
      "text/plain": [
       "<Figure size 432x288 with 1 Axes>"
      ]
     },
     "metadata": {
      "image/png": {
       "height": 248,
       "width": 388
      },
      "needs_background": "light"
     },
     "output_type": "display_data"
    }
   ],
   "source": [
    "plt.hist(tt,bins=500)\n",
    "plt.show()"
   ]
  },
  {
   "cell_type": "code",
   "execution_count": 51,
   "metadata": {},
   "outputs": [],
   "source": [
    "tt = np.array(tt)"
   ]
  },
  {
   "cell_type": "code",
   "execution_count": 52,
   "metadata": {},
   "outputs": [],
   "source": [
    "for d in trainlist:\n",
    "    d.y = (d.y-tmean)/tsd\n",
    "for d in vallist:\n",
    "    d.y = (d.y-tmean)/tsd"
   ]
  },
  {
   "cell_type": "code",
   "execution_count": 53,
   "metadata": {},
   "outputs": [],
   "source": [
    "tt2 = []\n",
    "for d in trainlist:\n",
    "    tt2.append(d.y)\n",
    "for d in vallist:\n",
    "    tt2.append(d.y)"
   ]
  },
  {
   "cell_type": "code",
   "execution_count": 54,
   "metadata": {},
   "outputs": [],
   "source": [
    "tt2 = np.array(tt2)"
   ]
  },
  {
   "cell_type": "code",
   "execution_count": 55,
   "metadata": {
    "scrolled": false
   },
   "outputs": [
    {
     "data": {
      "image/png": "[encoded data removed]",
      "text/plain": [
       "<Figure size 432x288 with 1 Axes>"
      ]
     },
     "metadata": {
      "image/png": {
       "height": 248,
       "width": 392
      },
      "needs_background": "light"
     },
     "output_type": "display_data"
    }
   ],
   "source": [
    "plt.hist(tt2,bins=500)\n",
    "plt.show()"
   ]
  },
  {
   "cell_type": "code",
   "execution_count": 56,
   "metadata": {},
   "outputs": [],
   "source": [
    "val_loader = DataLoader(vallist, batch_size=256,shuffle=False)\n",
    "train_loader = DataLoader(trainlist, batch_size=256,shuffle=True)"
   ]
  },
  {
   "cell_type": "code",
   "execution_count": 57,
   "metadata": {},
   "outputs": [],
   "source": [
    "#import gc\n",
    "#del train_loader,val_loader,model\n",
    "#gc.collect()\n",
    "#torch.cuda.empty_cache()"
   ]
  },
  {
   "cell_type": "code",
   "execution_count": 58,
   "metadata": {},
   "outputs": [],
   "source": [
    "ndim =128\n",
    "edim = 64"
   ]
  },
  {
   "cell_type": "code",
   "execution_count": 59,
   "metadata": {},
   "outputs": [],
   "source": [
    "class Net(torch.nn.Module):\n",
    "    def __init__(self):\n",
    "        super(Net, self).__init__()\n",
    "        \n",
    "        self.lin0 = torch.nn.Linear(189, ndim)\n",
    "        self.bn0 = BatchNorm1d(ndim)\n",
    "        self.d0 = Dropout(0.1)\n",
    "        \n",
    "        nn = Sequential(Linear(25, edim), ReLU(), Linear(edim,2*edim), ReLU(),Linear(2*edim, ndim * ndim))\n",
    "        self.conv = NNConv(ndim, ndim, nn, aggr='max', root_weight=True)\n",
    "        self.gru = GRU(ndim, ndim)\n",
    "        \n",
    "        self.set2set = Set2Set(ndim, processing_steps=3)\n",
    "        self.lin1 = torch.nn.Linear(2*ndim, 192)\n",
    "        self.lin2 = torch.nn.Linear(192,160)\n",
    "        self.lin3 = torch.nn.Linear(160, ndim)\n",
    "        self.lin4 = torch.nn.Linear(ndim, 1)\n",
    "\n",
    "    def forward(self, data):\n",
    "        out = F.selu(self.lin0(data.x))\n",
    "        out = self.bn0(out)\n",
    "        out = self.d0(out)\n",
    "        h = out.unsqueeze(0)\n",
    "        \n",
    "        for i in range(3):\n",
    "            m = F.selu(self.conv(out, data.edge_index, data.edge_attr))\n",
    "            out, h = self.gru(m.unsqueeze(0), h)\n",
    "            out = out.squeeze(0)\n",
    "        \n",
    "        out = self.set2set(out, data.batch)\n",
    "        out = F.selu(self.lin1(out))\n",
    "        out = F.selu(self.lin2(out))\n",
    "        out = F.selu(self.lin3(out))\n",
    "        out = self.lin4(out)\n",
    "        \n",
    "        return out.view(-1)"
   ]
  },
  {
   "cell_type": "code",
   "execution_count": 60,
   "metadata": {},
   "outputs": [],
   "source": [
    "# device = torch.device('cuda' if torch.cuda.is_available() else 'cpu')\n",
    "# model = Net().to(device)\n",
    "# #model = torch.load('MPNN_64DIM_MODEL.pth')\n",
    "# optimizer = torch.optim.Adam(model.parameters(), lr=0.001,weight_decay=0.00001)\n",
    "# scheduler = torch.optim.lr_scheduler.ReduceLROnPlateau(optimizer, mode='min', factor=0.85, patience=5, min_lr=0.00000001)"
   ]
  },
  {
   "cell_type": "code",
   "execution_count": 61,
   "metadata": {},
   "outputs": [],
   "source": [
    "import math\n",
    "import torch\n",
    "from torch.optim.optimizer import Optimizer, required\n",
    "\n",
    "class RAdam(Optimizer):\n",
    "\n",
    "    def __init__(self, params, lr=1e-3, betas=(0.9, 0.999), eps=1e-8, weight_decay=0):\n",
    "        defaults = dict(lr=lr, betas=betas, eps=eps, weight_decay=weight_decay)\n",
    "        self.buffer = [[None, None, None] for ind in range(10)]\n",
    "        super(RAdam, self).__init__(params, defaults)\n",
    "\n",
    "    def __setstate__(self, state):\n",
    "        super(RAdam, self).__setstate__(state)\n",
    "\n",
    "    def step(self, closure=None):\n",
    "\n",
    "        loss = None\n",
    "        if closure is not None:\n",
    "            loss = closure()\n",
    "\n",
    "        for group in self.param_groups:\n",
    "\n",
    "            for p in group['params']:\n",
    "                if p.grad is None:\n",
    "                    continue\n",
    "                grad = p.grad.data.float()\n",
    "                if grad.is_sparse:\n",
    "                    raise RuntimeError('RAdam does not support sparse gradients')\n",
    "\n",
    "                p_data_fp32 = p.data.float()\n",
    "\n",
    "                state = self.state[p]\n",
    "\n",
    "                if len(state) == 0:\n",
    "                    state['step'] = 0\n",
    "                    state['exp_avg'] = torch.zeros_like(p_data_fp32)\n",
    "                    state['exp_avg_sq'] = torch.zeros_like(p_data_fp32)\n",
    "                else:\n",
    "                    state['exp_avg'] = state['exp_avg'].type_as(p_data_fp32)\n",
    "                    state['exp_avg_sq'] = state['exp_avg_sq'].type_as(p_data_fp32)\n",
    "\n",
    "                exp_avg, exp_avg_sq = state['exp_avg'], state['exp_avg_sq']\n",
    "                beta1, beta2 = group['betas']\n",
    "\n",
    "                exp_avg_sq.mul_(beta2).addcmul_(1 - beta2, grad, grad)\n",
    "                exp_avg.mul_(beta1).add_(1 - beta1, grad)\n",
    "\n",
    "                state['step'] += 1\n",
    "                buffered = self.buffer[int(state['step'] % 10)]\n",
    "                if state['step'] == buffered[0]:\n",
    "                    N_sma, step_size = buffered[1], buffered[2]\n",
    "                else:\n",
    "                    buffered[0] = state['step']\n",
    "                    beta2_t = beta2 ** state['step']\n",
    "                    N_sma_max = 2 / (1 - beta2) - 1\n",
    "                    N_sma = N_sma_max - 2 * state['step'] * beta2_t / (1 - beta2_t)\n",
    "                    buffered[1] = N_sma\n",
    "\n",
    "                    # more conservative since it's an approximated value\n",
    "                    if N_sma >= 5:\n",
    "                        step_size = group['lr'] * math.sqrt((1 - beta2_t) * (N_sma - 4) / (N_sma_max - 4) * (N_sma - 2) / N_sma * N_sma_max / (N_sma_max - 2)) / (1 - beta1 ** state['step'])\n",
    "                    else:\n",
    "                        step_size = group['lr'] / (1 - beta1 ** state['step'])\n",
    "                    buffered[2] = step_size\n",
    "\n",
    "                if group['weight_decay'] != 0:\n",
    "                    p_data_fp32.add_(-group['weight_decay'] * group['lr'], p_data_fp32)\n",
    "\n",
    "                # more conservative since it's an approximated value\n",
    "                if N_sma >= 5:                    \n",
    "                    denom = exp_avg_sq.sqrt().add_(group['eps'])\n",
    "                    p_data_fp32.addcdiv_(-step_size, exp_avg, denom)\n",
    "                else:\n",
    "                    p_data_fp32.add_(-step_size, exp_avg)\n",
    "\n",
    "                p.data.copy_(p_data_fp32)\n",
    "\n",
    "        return loss"
   ]
  },
  {
   "cell_type": "code",
   "execution_count": 62,
   "metadata": {},
   "outputs": [
    {
     "name": "stdout",
     "output_type": "stream",
     "text": [
      "error: 0.08325632284232966, epoch: 150\n"
     ]
    }
   ],
   "source": [
    "#B2 SAVED AS T2\n",
    "xd = torch.load('Temp/t1.pth')\n",
    "model = xd['bestmodel']\n",
    "lrr = xd['lr']\n",
    "ep = 300-xd['epoch']\n",
    "ep = 150\n",
    "print('error: {}, epoch: {}'.format(xd['val_error'],ep))\n",
    "\n",
    "device = torch.device('cuda' if torch.cuda.is_available() else 'cpu')\n",
    "model = model.to(device)\n",
    "optimizer = RAdam(model.parameters(), lr=lrr,weight_decay=0.00001)\n",
    "scheduler = torch.optim.lr_scheduler.ReduceLROnPlateau(optimizer, mode='min', factor=0.85, patience=5, min_lr=0.00000001)"
   ]
  },
  {
   "cell_type": "code",
   "execution_count": 63,
   "metadata": {},
   "outputs": [],
   "source": [
    "# device = torch.device('cuda' if torch.cuda.is_available() else 'cpu')\n",
    "# model = Net().to(device)\n",
    "# #model = torch.load('MPNN_64DIM_MODEL.pth')\n",
    "# optimizer = RAdam(model.parameters(), lr=0.001,weight_decay=0.00001)\n",
    "# scheduler = torch.optim.lr_scheduler.ReduceLROnPlateau(optimizer, mode='min', factor=0.85, patience=5, min_lr=0.00000001)"
   ]
  },
  {
   "cell_type": "code",
   "execution_count": 64,
   "metadata": {},
   "outputs": [],
   "source": [
    "torch.cuda.empty_cache()"
   ]
  },
  {
   "cell_type": "code",
   "execution_count": 65,
   "metadata": {},
   "outputs": [],
   "source": [
    "def train(epoch):\n",
    "    model.train()\n",
    "    loss_all = 0\n",
    "\n",
    "    for data in train_loader:\n",
    "        data = data.to(device)\n",
    "        optimizer.zero_grad()\n",
    "        #loss = torch.log(F.l1_loss(model(data),data.y)+ 4e-9)\n",
    "        loss = F.l1_loss(model(data),data.y)\n",
    "        loss.backward()\n",
    "        loss_all += loss.item() * data.num_graphs\n",
    "        optimizer.step()\n",
    "    return loss_all / len(train_loader.dataset)\n",
    "\n",
    "def test(loader):\n",
    "    model.eval()\n",
    "    error = 0\n",
    "    for data in loader:\n",
    "        data = data.to(device)\n",
    "        error += (model(data) * tsd - data.y * tsd).abs().sum().item()  # MAE\n",
    "    return error / len(loader.dataset)"
   ]
  },
  {
   "cell_type": "code",
   "execution_count": 66,
   "metadata": {},
   "outputs": [],
   "source": [
    "#optimizer = RAdam(model.parameters(), lr=0.001,weight_decay=0.00001)\n",
    "#scheduler = torch.optim.lr_scheduler.ReduceLROnPlateau(optimizer, mode='min', factor=0.85, patience=5, min_lr=0.00000001)"
   ]
  },
  {
   "cell_type": "code",
   "execution_count": 67,
   "metadata": {},
   "outputs": [],
   "source": [
    "#TRY SET2SET AFTER TOPK POOLING"
   ]
  },
  {
   "cell_type": "code",
   "execution_count": 68,
   "metadata": {
    "scrolled": true
   },
   "outputs": [
    {
     "name": "stdout",
     "output_type": "stream",
     "text": [
      "Epoch: 0001, LR:  0.000167,T Loss: 0.0185618, V MAE: 0.0820877, Time: 406.0763233\n",
      "Epoch: 0002, LR:  0.000167,T Loss: 0.0178091, V MAE: 0.0815808, Time: 404.9941483\n",
      "Epoch: 0003, LR:  0.000167,T Loss: 0.0170280, V MAE: 0.0805365, Time: 403.9799826\n",
      "Epoch: 0004, LR:  0.000167,T Loss: 0.0163375, V MAE: 0.0798608, Time: 402.9465082\n"
     ]
    },
    {
     "name": "stderr",
     "output_type": "stream",
     "text": [
      "/opt/anaconda3/lib/python3.7/site-packages/torch/serialization.py:256: UserWarning: Couldn't retrieve source code for container of type Net. It won't be checked for correctness upon loading.\n",
      "  \"type \" + obj.__name__ + \". It won't be checked \"\n"
     ]
    },
    {
     "name": "stdout",
     "output_type": "stream",
     "text": [
      "Epoch: 0005, LR:  0.000167,T Loss: 0.0157885, V MAE: 0.0795888, Time: 402.7026446\n",
      "Epoch: 0006, LR:  0.000167,T Loss: 0.0153398, V MAE: 0.0792009, Time: 402.9321980\n",
      "Epoch: 0007, LR:  0.000167,T Loss: 0.0148911, V MAE: 0.0792436, Time: 403.3659613\n",
      "Epoch: 0008, LR:  0.000167,T Loss: 0.0145333, V MAE: 0.0782590, Time: 415.3318439\n",
      "Epoch: 0009, LR:  0.000167,T Loss: 0.0142488, V MAE: 0.0785259, Time: 415.1693978\n",
      "Epoch: 0010, LR:  0.000167,T Loss: 0.0139459, V MAE: 0.0785336, Time: 415.2947795\n",
      "Epoch: 0011, LR:  0.000167,T Loss: 0.0136632, V MAE: 0.0785636, Time: 415.0437028\n",
      "Epoch: 0012, LR:  0.000167,T Loss: 0.0134043, V MAE: 0.0774100, Time: 414.8319552\n",
      "Epoch: 0013, LR:  0.000167,T Loss: 0.0131805, V MAE: 0.0782541, Time: 414.0787771\n",
      "Epoch: 0014, LR:  0.000167,T Loss: 0.0129766, V MAE: 0.0780190, Time: 414.3313618\n",
      "Epoch: 0015, LR:  0.000167,T Loss: 0.0127523, V MAE: 0.0775710, Time: 414.4709773\n",
      "Epoch: 0016, LR:  0.000167,T Loss: 0.0125622, V MAE: 0.0771157, Time: 413.3898902\n",
      "Epoch: 0017, LR:  0.000167,T Loss: 0.0124037, V MAE: 0.0770480, Time: 414.2290606\n",
      "Epoch: 0018, LR:  0.000167,T Loss: 0.0122390, V MAE: 0.0766033, Time: 414.5099435\n",
      "Epoch: 0019, LR:  0.000167,T Loss: 0.0120918, V MAE: 0.0769420, Time: 412.9843183\n",
      "Epoch: 0020, LR:  0.000167,T Loss: 0.0119062, V MAE: 0.0773292, Time: 414.4312103\n",
      "Epoch: 0021, LR:  0.000167,T Loss: 0.0117805, V MAE: 0.0762358, Time: 414.0846181\n",
      "Epoch: 0022, LR:  0.000167,T Loss: 0.0116367, V MAE: 0.0775245, Time: 413.9917867\n",
      "Epoch: 0023, LR:  0.000167,T Loss: 0.0115298, V MAE: 0.0765351, Time: 414.8363869\n",
      "Epoch: 0024, LR:  0.000167,T Loss: 0.0113836, V MAE: 0.0764992, Time: 416.0370004\n",
      "Epoch: 0025, LR:  0.000167,T Loss: 0.0112644, V MAE: 0.0775981, Time: 417.1697931\n",
      "Epoch: 0026, LR:  0.000167,T Loss: 0.0111553, V MAE: 0.0763367, Time: 412.8099360\n",
      "Epoch: 0027, LR:  0.000167,T Loss: 0.0110383, V MAE: 0.0765908, Time: 413.1954241\n",
      "Epoch: 0028, LR:  0.000142,T Loss: 0.0106998, V MAE: 0.0761706, Time: 413.4002628\n",
      "Epoch: 0029, LR:  0.000142,T Loss: 0.0105784, V MAE: 0.0759558, Time: 414.6670828\n",
      "Epoch: 0030, LR:  0.000142,T Loss: 0.0104856, V MAE: 0.0758471, Time: 415.2144856\n",
      "Epoch: 0031, LR:  0.000142,T Loss: 0.0104192, V MAE: 0.0761937, Time: 417.1796341\n",
      "Epoch: 0032, LR:  0.000142,T Loss: 0.0102929, V MAE: 0.0758664, Time: 414.8531497\n",
      "Epoch: 0033, LR:  0.000142,T Loss: 0.0102286, V MAE: 0.0755664, Time: 414.1405938\n",
      "Epoch: 0034, LR:  0.000142,T Loss: 0.0101350, V MAE: 0.0768131, Time: 414.4778638\n",
      "Epoch: 0035, LR:  0.000142,T Loss: 0.0100829, V MAE: 0.0755172, Time: 416.2110395\n",
      "Epoch: 0036, LR:  0.000142,T Loss: 0.0099977, V MAE: 0.0758114, Time: 417.6235757\n",
      "Epoch: 0037, LR:  0.000142,T Loss: 0.0099249, V MAE: 0.0766252, Time: 415.6255722\n",
      "Epoch: 0038, LR:  0.000142,T Loss: 0.0098696, V MAE: 0.0754969, Time: 414.6102786\n",
      "Epoch: 0039, LR:  0.000142,T Loss: 0.0097783, V MAE: 0.0754618, Time: 414.5798910\n",
      "Epoch: 0040, LR:  0.000142,T Loss: 0.0097117, V MAE: 0.0755401, Time: 416.5463893\n",
      "Epoch: 0041, LR:  0.000142,T Loss: 0.0096601, V MAE: 0.0750914, Time: 414.4933853\n",
      "Epoch: 0042, LR:  0.000142,T Loss: 0.0095951, V MAE: 0.0755159, Time: 415.5564406\n",
      "Epoch: 0043, LR:  0.000142,T Loss: 0.0095253, V MAE: 0.0756360, Time: 413.8448870\n",
      "Epoch: 0044, LR:  0.000142,T Loss: 0.0094728, V MAE: 0.0767883, Time: 412.5178728\n",
      "Epoch: 0045, LR:  0.000142,T Loss: 0.0094146, V MAE: 0.0754695, Time: 412.8925357\n",
      "Epoch: 0046, LR:  0.000142,T Loss: 0.0093405, V MAE: 0.0753345, Time: 413.3012197\n",
      "Epoch: 0047, LR:  0.000142,T Loss: 0.0093004, V MAE: 0.0763273, Time: 413.6258087\n",
      "Epoch: 0048, LR:  0.000121,T Loss: 0.0090437, V MAE: 0.0749025, Time: 413.4004488\n",
      "Epoch: 0049, LR:  0.000121,T Loss: 0.0089626, V MAE: 0.0749047, Time: 412.9070871\n",
      "Epoch: 0050, LR:  0.000121,T Loss: 0.0089230, V MAE: 0.0751823, Time: 414.5703769\n",
      "Epoch: 0051, LR:  0.000121,T Loss: 0.0088504, V MAE: 0.0748190, Time: 412.7221994\n",
      "Epoch: 0052, LR:  0.000121,T Loss: 0.0088147, V MAE: 0.0753628, Time: 411.9984086\n",
      "Epoch: 0053, LR:  0.000121,T Loss: 0.0087695, V MAE: 0.0753239, Time: 413.2345228\n",
      "Epoch: 0054, LR:  0.000121,T Loss: 0.0087024, V MAE: 0.0750571, Time: 413.0921845\n",
      "Epoch: 0055, LR:  0.000121,T Loss: 0.0086556, V MAE: 0.0752863, Time: 413.5560710\n",
      "Epoch: 0056, LR:  0.000121,T Loss: 0.0086468, V MAE: 0.0750431, Time: 412.3919213\n",
      "Epoch: 0057, LR:  0.000121,T Loss: 0.0086001, V MAE: 0.0747703, Time: 414.4766240\n",
      "Epoch: 0058, LR:  0.000121,T Loss: 0.0085490, V MAE: 0.0751507, Time: 414.9643788\n",
      "Epoch: 0059, LR:  0.000121,T Loss: 0.0085107, V MAE: 0.0750922, Time: 418.4119248\n",
      "Epoch: 0060, LR:  0.000121,T Loss: 0.0084792, V MAE: 0.0750813, Time: 414.3275125\n",
      "Epoch: 0061, LR:  0.000121,T Loss: 0.0084307, V MAE: 0.0752769, Time: 413.7000947\n",
      "Epoch: 0062, LR:  0.000121,T Loss: 0.0084065, V MAE: 0.0753270, Time: 413.5155597\n",
      "Epoch: 0063, LR:  0.000121,T Loss: 0.0083636, V MAE: 0.0751321, Time: 412.8721159\n",
      "Epoch: 0064, LR:  0.000103,T Loss: 0.0081619, V MAE: 0.0747670, Time: 413.6763322\n",
      "Epoch: 0065, LR:  0.000103,T Loss: 0.0080936, V MAE: 0.0748305, Time: 413.0442512\n",
      "Epoch: 0066, LR:  0.000103,T Loss: 0.0080520, V MAE: 0.0751236, Time: 413.0056593\n",
      "Epoch: 0067, LR:  0.000103,T Loss: 0.0080110, V MAE: 0.0746280, Time: 412.5116444\n",
      "Epoch: 0068, LR:  0.000103,T Loss: 0.0079817, V MAE: 0.0749846, Time: 413.5691414\n",
      "Epoch: 0069, LR:  0.000103,T Loss: 0.0079547, V MAE: 0.0745791, Time: 414.7286272\n",
      "Epoch: 0070, LR:  0.000103,T Loss: 0.0079160, V MAE: 0.0749193, Time: 415.3105881\n",
      "Epoch: 0071, LR:  0.000103,T Loss: 0.0078834, V MAE: 0.0747881, Time: 416.2215714\n",
      "Epoch: 0072, LR:  0.000103,T Loss: 0.0078634, V MAE: 0.0746595, Time: 415.4078531\n",
      "Epoch: 0073, LR:  0.000103,T Loss: 0.0078293, V MAE: 0.0749727, Time: 413.8937895\n",
      "Epoch: 0074, LR:  0.000103,T Loss: 0.0078094, V MAE: 0.0746279, Time: 412.5734158\n",
      "Epoch: 0075, LR:  0.000103,T Loss: 0.0077704, V MAE: 0.0747199, Time: 412.1447515\n",
      "Epoch: 0076, LR:  0.000087,T Loss: 0.0076155, V MAE: 0.0747288, Time: 416.0715084\n",
      "Epoch: 0077, LR:  0.000087,T Loss: 0.0075661, V MAE: 0.0749730, Time: 412.8068929\n",
      "Epoch: 0078, LR:  0.000087,T Loss: 0.0075358, V MAE: 0.0744044, Time: 413.8158231\n",
      "Epoch: 0079, LR:  0.000087,T Loss: 0.0074845, V MAE: 0.0744820, Time: 413.3682196\n",
      "Epoch: 0080, LR:  0.000087,T Loss: 0.0074918, V MAE: 0.0745696, Time: 414.8662136\n",
      "Epoch: 0081, LR:  0.000087,T Loss: 0.0074594, V MAE: 0.0743639, Time: 414.4429698\n",
      "Epoch: 0082, LR:  0.000087,T Loss: 0.0074301, V MAE: 0.0746674, Time: 413.3937619\n",
      "Epoch: 0083, LR:  0.000087,T Loss: 0.0074116, V MAE: 0.0750741, Time: 412.2743232\n",
      "Epoch: 0084, LR:  0.000087,T Loss: 0.0073799, V MAE: 0.0745579, Time: 412.3499968\n",
      "Epoch: 0085, LR:  0.000087,T Loss: 0.0073747, V MAE: 0.0749126, Time: 411.4362400\n",
      "Epoch: 0086, LR:  0.000087,T Loss: 0.0073364, V MAE: 0.0747309, Time: 412.6831470\n",
      "Epoch: 0087, LR:  0.000087,T Loss: 0.0073219, V MAE: 0.0745213, Time: 412.5374126\n",
      "Epoch: 0088, LR:  0.000074,T Loss: 0.0071858, V MAE: 0.0746339, Time: 412.4533522\n",
      "Epoch: 0089, LR:  0.000074,T Loss: 0.0071514, V MAE: 0.0744378, Time: 412.1271517\n",
      "Epoch: 0090, LR:  0.000074,T Loss: 0.0071188, V MAE: 0.0745252, Time: 412.1036539\n",
      "Epoch: 0091, LR:  0.000074,T Loss: 0.0070918, V MAE: 0.0742192, Time: 412.6475716\n",
      "Epoch: 0092, LR:  0.000074,T Loss: 0.0070773, V MAE: 0.0745596, Time: 413.1861591\n",
      "Epoch: 0093, LR:  0.000074,T Loss: 0.0070543, V MAE: 0.0743767, Time: 417.3705082\n",
      "Epoch: 0094, LR:  0.000074,T Loss: 0.0070306, V MAE: 0.0743966, Time: 414.8835971\n",
      "Epoch: 0095, LR:  0.000074,T Loss: 0.0070168, V MAE: 0.0742616, Time: 415.8133833\n",
      "Epoch: 0096, LR:  0.000074,T Loss: 0.0070008, V MAE: 0.0743421, Time: 416.6110024\n",
      "Epoch: 0097, LR:  0.000074,T Loss: 0.0069800, V MAE: 0.0745204, Time: 419.6492746\n",
      "Epoch: 0098, LR:  0.000063,T Loss: 0.0068736, V MAE: 0.0743777, Time: 420.9183815\n",
      "Epoch: 0099, LR:  0.000063,T Loss: 0.0068375, V MAE: 0.0742789, Time: 419.5696456\n",
      "Epoch: 0100, LR:  0.000063,T Loss: 0.0068264, V MAE: 0.0742593, Time: 422.3911874\n",
      "Epoch: 0101, LR:  0.000063,T Loss: 0.0068035, V MAE: 0.0743387, Time: 418.9832582\n"
     ]
    },
    {
     "ename": "KeyboardInterrupt",
     "evalue": "",
     "output_type": "error",
     "traceback": [
      "\u001b[0;31m---------------------------------------------------------------------------\u001b[0m",
      "\u001b[0;31mKeyboardInterrupt\u001b[0m                         Traceback (most recent call last)",
      "\u001b[0;32m<ipython-input-68-caffc6f4422f>\u001b[0m in \u001b[0;36m<module>\u001b[0;34m\u001b[0m\n\u001b[1;32m      4\u001b[0m     \u001b[0mstart\u001b[0m \u001b[0;34m=\u001b[0m \u001b[0mtime\u001b[0m\u001b[0;34m.\u001b[0m\u001b[0mtime\u001b[0m\u001b[0;34m(\u001b[0m\u001b[0;34m)\u001b[0m\u001b[0;34m\u001b[0m\u001b[0;34m\u001b[0m\u001b[0m\n\u001b[1;32m      5\u001b[0m     \u001b[0mlr\u001b[0m \u001b[0;34m=\u001b[0m \u001b[0mscheduler\u001b[0m\u001b[0;34m.\u001b[0m\u001b[0moptimizer\u001b[0m\u001b[0;34m.\u001b[0m\u001b[0mparam_groups\u001b[0m\u001b[0;34m[\u001b[0m\u001b[0;36m0\u001b[0m\u001b[0;34m]\u001b[0m\u001b[0;34m[\u001b[0m\u001b[0;34m'lr'\u001b[0m\u001b[0;34m]\u001b[0m\u001b[0;34m\u001b[0m\u001b[0;34m\u001b[0m\u001b[0m\n\u001b[0;32m----> 6\u001b[0;31m     \u001b[0mloss\u001b[0m \u001b[0;34m=\u001b[0m \u001b[0mtrain\u001b[0m\u001b[0;34m(\u001b[0m\u001b[0mepoch\u001b[0m\u001b[0;34m)\u001b[0m\u001b[0;34m\u001b[0m\u001b[0;34m\u001b[0m\u001b[0m\n\u001b[0m\u001b[1;32m      7\u001b[0m     \u001b[0mval_error\u001b[0m \u001b[0;34m=\u001b[0m \u001b[0mtest\u001b[0m\u001b[0;34m(\u001b[0m\u001b[0mval_loader\u001b[0m\u001b[0;34m)\u001b[0m\u001b[0;34m\u001b[0m\u001b[0;34m\u001b[0m\u001b[0m\n\u001b[1;32m      8\u001b[0m     \u001b[0mscheduler\u001b[0m\u001b[0;34m.\u001b[0m\u001b[0mstep\u001b[0m\u001b[0;34m(\u001b[0m\u001b[0mval_error\u001b[0m\u001b[0;34m)\u001b[0m\u001b[0;34m\u001b[0m\u001b[0;34m\u001b[0m\u001b[0m\n",
      "\u001b[0;32m<ipython-input-65-9681852bf16b>\u001b[0m in \u001b[0;36mtrain\u001b[0;34m(epoch)\u001b[0m\n\u001b[1;32m      8\u001b[0m         \u001b[0;31m#loss = torch.log(F.l1_loss(model(data),data.y)+ 4e-9)\u001b[0m\u001b[0;34m\u001b[0m\u001b[0;34m\u001b[0m\u001b[0;34m\u001b[0m\u001b[0m\n\u001b[1;32m      9\u001b[0m         \u001b[0mloss\u001b[0m \u001b[0;34m=\u001b[0m \u001b[0mF\u001b[0m\u001b[0;34m.\u001b[0m\u001b[0ml1_loss\u001b[0m\u001b[0;34m(\u001b[0m\u001b[0mmodel\u001b[0m\u001b[0;34m(\u001b[0m\u001b[0mdata\u001b[0m\u001b[0;34m)\u001b[0m\u001b[0;34m,\u001b[0m\u001b[0mdata\u001b[0m\u001b[0;34m.\u001b[0m\u001b[0my\u001b[0m\u001b[0;34m)\u001b[0m\u001b[0;34m\u001b[0m\u001b[0;34m\u001b[0m\u001b[0m\n\u001b[0;32m---> 10\u001b[0;31m         \u001b[0mloss\u001b[0m\u001b[0;34m.\u001b[0m\u001b[0mbackward\u001b[0m\u001b[0;34m(\u001b[0m\u001b[0;34m)\u001b[0m\u001b[0;34m\u001b[0m\u001b[0;34m\u001b[0m\u001b[0m\n\u001b[0m\u001b[1;32m     11\u001b[0m         \u001b[0mloss_all\u001b[0m \u001b[0;34m+=\u001b[0m \u001b[0mloss\u001b[0m\u001b[0;34m.\u001b[0m\u001b[0mitem\u001b[0m\u001b[0;34m(\u001b[0m\u001b[0;34m)\u001b[0m \u001b[0;34m*\u001b[0m \u001b[0mdata\u001b[0m\u001b[0;34m.\u001b[0m\u001b[0mnum_graphs\u001b[0m\u001b[0;34m\u001b[0m\u001b[0;34m\u001b[0m\u001b[0m\n\u001b[1;32m     12\u001b[0m         \u001b[0moptimizer\u001b[0m\u001b[0;34m.\u001b[0m\u001b[0mstep\u001b[0m\u001b[0;34m(\u001b[0m\u001b[0;34m)\u001b[0m\u001b[0;34m\u001b[0m\u001b[0;34m\u001b[0m\u001b[0m\n",
      "\u001b[0;32m/opt/anaconda3/lib/python3.7/site-packages/torch/tensor.py\u001b[0m in \u001b[0;36mbackward\u001b[0;34m(self, gradient, retain_graph, create_graph)\u001b[0m\n\u001b[1;32m    105\u001b[0m                 \u001b[0mproducts\u001b[0m\u001b[0;34m.\u001b[0m \u001b[0mDefaults\u001b[0m \u001b[0mto\u001b[0m\u001b[0;31m \u001b[0m\u001b[0;31m`\u001b[0m\u001b[0;31m`\u001b[0m\u001b[0;32mFalse\u001b[0m\u001b[0;31m`\u001b[0m\u001b[0;31m`\u001b[0m\u001b[0;34m.\u001b[0m\u001b[0;34m\u001b[0m\u001b[0;34m\u001b[0m\u001b[0m\n\u001b[1;32m    106\u001b[0m         \"\"\"\n\u001b[0;32m--> 107\u001b[0;31m         \u001b[0mtorch\u001b[0m\u001b[0;34m.\u001b[0m\u001b[0mautograd\u001b[0m\u001b[0;34m.\u001b[0m\u001b[0mbackward\u001b[0m\u001b[0;34m(\u001b[0m\u001b[0mself\u001b[0m\u001b[0;34m,\u001b[0m \u001b[0mgradient\u001b[0m\u001b[0;34m,\u001b[0m \u001b[0mretain_graph\u001b[0m\u001b[0;34m,\u001b[0m \u001b[0mcreate_graph\u001b[0m\u001b[0;34m)\u001b[0m\u001b[0;34m\u001b[0m\u001b[0;34m\u001b[0m\u001b[0m\n\u001b[0m\u001b[1;32m    108\u001b[0m \u001b[0;34m\u001b[0m\u001b[0m\n\u001b[1;32m    109\u001b[0m     \u001b[0;32mdef\u001b[0m \u001b[0mregister_hook\u001b[0m\u001b[0;34m(\u001b[0m\u001b[0mself\u001b[0m\u001b[0;34m,\u001b[0m \u001b[0mhook\u001b[0m\u001b[0;34m)\u001b[0m\u001b[0;34m:\u001b[0m\u001b[0;34m\u001b[0m\u001b[0;34m\u001b[0m\u001b[0m\n",
      "\u001b[0;32m/opt/anaconda3/lib/python3.7/site-packages/torch/autograd/__init__.py\u001b[0m in \u001b[0;36mbackward\u001b[0;34m(tensors, grad_tensors, retain_graph, create_graph, grad_variables)\u001b[0m\n\u001b[1;32m     91\u001b[0m     Variable._execution_engine.run_backward(\n\u001b[1;32m     92\u001b[0m         \u001b[0mtensors\u001b[0m\u001b[0;34m,\u001b[0m \u001b[0mgrad_tensors\u001b[0m\u001b[0;34m,\u001b[0m \u001b[0mretain_graph\u001b[0m\u001b[0;34m,\u001b[0m \u001b[0mcreate_graph\u001b[0m\u001b[0;34m,\u001b[0m\u001b[0;34m\u001b[0m\u001b[0;34m\u001b[0m\u001b[0m\n\u001b[0;32m---> 93\u001b[0;31m         allow_unreachable=True)  # allow_unreachable flag\n\u001b[0m\u001b[1;32m     94\u001b[0m \u001b[0;34m\u001b[0m\u001b[0m\n\u001b[1;32m     95\u001b[0m \u001b[0;34m\u001b[0m\u001b[0m\n",
      "\u001b[0;31mKeyboardInterrupt\u001b[0m: "
     ]
    }
   ],
   "source": [
    "best_val_error = None\n",
    "bestmodel = None\n",
    "for epoch in range(1, ep):\n",
    "    start = time.time()\n",
    "    lr = scheduler.optimizer.param_groups[0]['lr']\n",
    "    loss = train(epoch)\n",
    "    val_error = test(val_loader)\n",
    "    scheduler.step(val_error)\n",
    "    if best_val_error is None or val_error <= best_val_error:\n",
    "        best_val_error = val_error\n",
    "        bestmodel = deepcopy(model)\n",
    "    if epoch%5 == 0:\n",
    "        torch.save({'bestmodel':bestmodel,\n",
    "                    'lr':lr,\n",
    "                   'epoch':epoch,\n",
    "                   'val_error':val_error},'Temp/t2.pth')\n",
    "    end = time.time()\n",
    "    print('Epoch: {:04d}, LR: {:9f},T Loss: {:.7f}, V MAE: {:.7f}, Time: {:.7f}'.format(epoch, lr, loss, val_error,end-start))"
   ]
  },
  {
   "cell_type": "code",
   "execution_count": null,
   "metadata": {},
   "outputs": [],
   "source": [
    "#del train_loader,val_loader,model\n",
    "#gc.collect()\n",
    "#torch.cuda.empty_cache()"
   ]
  },
  {
   "cell_type": "code",
   "execution_count": 70,
   "metadata": {},
   "outputs": [],
   "source": [
    "torch.save(bestmodel,'MPNN_2JHC_2FE.pth')#OG SELU AND CONNECTED TO TARGETS"
   ]
  },
  {
   "cell_type": "code",
   "execution_count": 69,
   "metadata": {},
   "outputs": [
    {
     "name": "stdout",
     "output_type": "stream",
     "text": [
      "Best Validation MAE: 0.07421922094460437\n",
      "Best Log Validation MAE: -2.600732119974374\n"
     ]
    }
   ],
   "source": [
    "print('Best Validation MAE: {}'.format(best_val_error))\n",
    "print('Best Log Validation MAE: {}'.format(np.log(best_val_error)))"
   ]
  },
  {
   "cell_type": "code",
   "execution_count": null,
   "metadata": {},
   "outputs": [],
   "source": [
    "print(tmean,tsd)"
   ]
  },
  {
   "cell_type": "code",
   "execution_count": null,
   "metadata": {},
   "outputs": [],
   "source": []
  }
 ],
 "metadata": {
  "kernelspec": {
   "display_name": "Python 3",
   "language": "python",
   "name": "python3"
  },
  "language_info": {
   "codemirror_mode": {
    "name": "ipython",
    "version": 3
   },
   "file_extension": ".py",
   "mimetype": "text/x-python",
   "name": "python",
   "nbconvert_exporter": "python",
   "pygments_lexer": "ipython3",
   "version": "3.7.3"
  }
 },
 "nbformat": 4,
 "nbformat_minor": 4
}
