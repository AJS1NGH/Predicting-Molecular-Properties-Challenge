{
 "cells": [
  {
   "cell_type": "markdown",
   "metadata": {},
   "source": [
    "1JHC,2JHN(REDO W DROPOUT),3JHN"
   ]
  },
  {
   "cell_type": "code",
   "execution_count": 1,
   "metadata": {},
   "outputs": [],
   "source": [
    "import pandas as pd, numpy as np, matplotlib.pyplot as plt, seaborn as sns, pickle, numba, torch, tqdm, random, utils, os, gc, time\n",
    "import networkx as nx\n",
    "from collections import OrderedDict, defaultdict\n",
    "from copy import deepcopy\n",
    "\n",
    "from rdkit.Chem.AtomPairs.Utils import NumPiElectrons\n",
    "from rdkit.Chem.rdMolTransforms import GetAngleRad, GetBondLength\n",
    "from rdkit.Chem.rdchem import Atom, Bond\n",
    "from rdkit.Chem.AtomPairs.Pairs import rdMolDescriptors as rdmd\n",
    "from rdkit import Chem, RDConfig\n",
    "from rdkit.Chem import ChemicalFeatures\n",
    "\n",
    "import torch_geometric.transforms as T\n",
    "import torch.nn.functional as F\n",
    "from torch.nn import Sequential, Linear, ReLU, GRU, BatchNorm1d, Dropout, SELU\n",
    "from torch_geometric.data import Data\n",
    "from torch_geometric.nn import NNConv, Set2Set, GATConv\n",
    "from torch_geometric.data import DataLoader\n",
    "\n",
    "\n",
    "%config InlineBackend.figure_format ='retina'"
   ]
  },
  {
   "cell_type": "code",
   "execution_count": 2,
   "metadata": {},
   "outputs": [],
   "source": [
    "structures = pd.read_csv(\"structures.csv\")\n",
    "test = pd.read_csv('test.csv')"
   ]
  },
  {
   "cell_type": "code",
   "execution_count": 3,
   "metadata": {},
   "outputs": [],
   "source": [
    "gratio = pd.DataFrame({\"atom\":[\"H\",\"C\",\"N\",\"O\",\"F\"],\n",
    "                       \"Gratio\": [42.576,10.705,-4.316,-5.772,40.060],\n",
    "                       \"Eneg\": [2.2,2.55,3.04,3.44,3.98],\n",
    "                       \"radius\":[110,170,155,152,147],\n",
    "                       \"atomic_num\":[1,6,7,8,9],\n",
    "                       \"numv\":[1,4,5,6,7]})\n",
    "structures = structures.merge(gratio,how='left',on='atom')"
   ]
  },
  {
   "cell_type": "code",
   "execution_count": 4,
   "metadata": {},
   "outputs": [],
   "source": [
    "test = test.groupby('type').get_group('2JHC')"
   ]
  },
  {
   "cell_type": "code",
   "execution_count": 5,
   "metadata": {},
   "outputs": [],
   "source": [
    "t2 = pd.read_csv('test.csv')\n",
    "t2 = t2[t2['molecule_name'].isin(test['molecule_name'])]\n",
    "t2.drop(['id','type'],axis=1,inplace=True)"
   ]
  },
  {
   "cell_type": "code",
   "execution_count": 6,
   "metadata": {},
   "outputs": [
    {
     "data": {
      "text/html": [
       "<div>\n",
       "<style scoped>\n",
       "    .dataframe tbody tr th:only-of-type {\n",
       "        vertical-align: middle;\n",
       "    }\n",
       "\n",
       "    .dataframe tbody tr th {\n",
       "        vertical-align: top;\n",
       "    }\n",
       "\n",
       "    .dataframe thead th {\n",
       "        text-align: right;\n",
       "    }\n",
       "</style>\n",
       "<table border=\"1\" class=\"dataframe\">\n",
       "  <thead>\n",
       "    <tr style=\"text-align: right;\">\n",
       "      <th></th>\n",
       "      <th>molecule_name</th>\n",
       "      <th>atom_index_0</th>\n",
       "      <th>atom_index_1</th>\n",
       "    </tr>\n",
       "  </thead>\n",
       "  <tbody>\n",
       "    <tr>\n",
       "      <th>0</th>\n",
       "      <td>dsgdb9nsd_000004</td>\n",
       "      <td>2</td>\n",
       "      <td>0</td>\n",
       "    </tr>\n",
       "    <tr>\n",
       "      <th>1</th>\n",
       "      <td>dsgdb9nsd_000004</td>\n",
       "      <td>2</td>\n",
       "      <td>1</td>\n",
       "    </tr>\n",
       "    <tr>\n",
       "      <th>2</th>\n",
       "      <td>dsgdb9nsd_000004</td>\n",
       "      <td>2</td>\n",
       "      <td>3</td>\n",
       "    </tr>\n",
       "    <tr>\n",
       "      <th>3</th>\n",
       "      <td>dsgdb9nsd_000004</td>\n",
       "      <td>3</td>\n",
       "      <td>0</td>\n",
       "    </tr>\n",
       "    <tr>\n",
       "      <th>4</th>\n",
       "      <td>dsgdb9nsd_000004</td>\n",
       "      <td>3</td>\n",
       "      <td>1</td>\n",
       "    </tr>\n",
       "  </tbody>\n",
       "</table>\n",
       "</div>"
      ],
      "text/plain": [
       "      molecule_name  atom_index_0  atom_index_1\n",
       "0  dsgdb9nsd_000004             2             0\n",
       "1  dsgdb9nsd_000004             2             1\n",
       "2  dsgdb9nsd_000004             2             3\n",
       "3  dsgdb9nsd_000004             3             0\n",
       "4  dsgdb9nsd_000004             3             1"
      ]
     },
     "execution_count": 6,
     "metadata": {},
     "output_type": "execute_result"
    }
   ],
   "source": [
    "t2.head()"
   ]
  },
  {
   "cell_type": "code",
   "execution_count": 7,
   "metadata": {},
   "outputs": [],
   "source": [
    "from collections import defaultdict\n",
    "molcouples = defaultdict(list)\n",
    "cpv = t2.values.tolist()"
   ]
  },
  {
   "cell_type": "code",
   "execution_count": 8,
   "metadata": {},
   "outputs": [
    {
     "data": {
      "application/vnd.jupyter.widget-view+json": {
       "model_id": "00bbbfcee3404565b27ec0af3688cfa3",
       "version_major": 2,
       "version_minor": 0
      },
      "text/plain": [
       "HBox(children=(IntProgress(value=0, max=2503729), HTML(value='')))"
      ]
     },
     "metadata": {},
     "output_type": "display_data"
    },
    {
     "name": "stdout",
     "output_type": "stream",
     "text": [
      "\n"
     ]
    }
   ],
   "source": [
    "for c in tqdm.tqdm_notebook(cpv):\n",
    "    molcouples[c[0]].append((c[1],c[2]))"
   ]
  },
  {
   "cell_type": "code",
   "execution_count": 9,
   "metadata": {},
   "outputs": [],
   "source": [
    "test.drop('type',axis=1,inplace=True)"
   ]
  },
  {
   "cell_type": "code",
   "execution_count": 10,
   "metadata": {},
   "outputs": [],
   "source": [
    "test = utils.map_atom_info(test,0,structures)\n",
    "test = utils.map_atom_info(test,1,structures)"
   ]
  },
  {
   "cell_type": "code",
   "execution_count": 11,
   "metadata": {},
   "outputs": [],
   "source": [
    "with open('rdkitmolecules.p', 'rb') as fp:\n",
    "    d = pickle.load(fp)"
   ]
  },
  {
   "cell_type": "code",
   "execution_count": 12,
   "metadata": {},
   "outputs": [
    {
     "data": {
      "text/html": [
       "<div>\n",
       "<style scoped>\n",
       "    .dataframe tbody tr th:only-of-type {\n",
       "        vertical-align: middle;\n",
       "    }\n",
       "\n",
       "    .dataframe tbody tr th {\n",
       "        vertical-align: top;\n",
       "    }\n",
       "\n",
       "    .dataframe thead th {\n",
       "        text-align: right;\n",
       "    }\n",
       "</style>\n",
       "<table border=\"1\" class=\"dataframe\">\n",
       "  <thead>\n",
       "    <tr style=\"text-align: right;\">\n",
       "      <th></th>\n",
       "      <th>molecule_name</th>\n",
       "      <th>atom_index</th>\n",
       "      <th>atom</th>\n",
       "      <th>x</th>\n",
       "      <th>y</th>\n",
       "      <th>z</th>\n",
       "      <th>Gratio</th>\n",
       "      <th>Eneg</th>\n",
       "      <th>radius</th>\n",
       "      <th>atomic_num</th>\n",
       "      <th>numv</th>\n",
       "    </tr>\n",
       "  </thead>\n",
       "  <tbody>\n",
       "    <tr>\n",
       "      <th>12</th>\n",
       "      <td>dsgdb9nsd_000004</td>\n",
       "      <td>0</td>\n",
       "      <td>C</td>\n",
       "      <td>0.599539</td>\n",
       "      <td>0.000000</td>\n",
       "      <td>1.000000</td>\n",
       "      <td>10.705</td>\n",
       "      <td>2.55</td>\n",
       "      <td>170</td>\n",
       "      <td>6</td>\n",
       "      <td>4</td>\n",
       "    </tr>\n",
       "    <tr>\n",
       "      <th>13</th>\n",
       "      <td>dsgdb9nsd_000004</td>\n",
       "      <td>1</td>\n",
       "      <td>C</td>\n",
       "      <td>-0.599539</td>\n",
       "      <td>0.000000</td>\n",
       "      <td>1.000000</td>\n",
       "      <td>10.705</td>\n",
       "      <td>2.55</td>\n",
       "      <td>170</td>\n",
       "      <td>6</td>\n",
       "      <td>4</td>\n",
       "    </tr>\n",
       "    <tr>\n",
       "      <th>14</th>\n",
       "      <td>dsgdb9nsd_000004</td>\n",
       "      <td>2</td>\n",
       "      <td>H</td>\n",
       "      <td>-1.661639</td>\n",
       "      <td>0.000000</td>\n",
       "      <td>1.000000</td>\n",
       "      <td>42.576</td>\n",
       "      <td>2.20</td>\n",
       "      <td>110</td>\n",
       "      <td>1</td>\n",
       "      <td>1</td>\n",
       "    </tr>\n",
       "    <tr>\n",
       "      <th>15</th>\n",
       "      <td>dsgdb9nsd_000004</td>\n",
       "      <td>3</td>\n",
       "      <td>H</td>\n",
       "      <td>1.661639</td>\n",
       "      <td>0.000000</td>\n",
       "      <td>1.000000</td>\n",
       "      <td>42.576</td>\n",
       "      <td>2.20</td>\n",
       "      <td>110</td>\n",
       "      <td>1</td>\n",
       "      <td>1</td>\n",
       "    </tr>\n",
       "    <tr>\n",
       "      <th>88</th>\n",
       "      <td>dsgdb9nsd_000016</td>\n",
       "      <td>0</td>\n",
       "      <td>C</td>\n",
       "      <td>-0.011933</td>\n",
       "      <td>1.514332</td>\n",
       "      <td>0.010317</td>\n",
       "      <td>10.705</td>\n",
       "      <td>2.55</td>\n",
       "      <td>170</td>\n",
       "      <td>6</td>\n",
       "      <td>4</td>\n",
       "    </tr>\n",
       "  </tbody>\n",
       "</table>\n",
       "</div>"
      ],
      "text/plain": [
       "       molecule_name  atom_index atom         x         y         z  Gratio  \\\n",
       "12  dsgdb9nsd_000004           0    C  0.599539  0.000000  1.000000  10.705   \n",
       "13  dsgdb9nsd_000004           1    C -0.599539  0.000000  1.000000  10.705   \n",
       "14  dsgdb9nsd_000004           2    H -1.661639  0.000000  1.000000  42.576   \n",
       "15  dsgdb9nsd_000004           3    H  1.661639  0.000000  1.000000  42.576   \n",
       "88  dsgdb9nsd_000016           0    C -0.011933  1.514332  0.010317  10.705   \n",
       "\n",
       "    Eneg  radius  atomic_num  numv  \n",
       "12  2.55     170           6     4  \n",
       "13  2.55     170           6     4  \n",
       "14  2.20     110           1     1  \n",
       "15  2.20     110           1     1  \n",
       "88  2.55     170           6     4  "
      ]
     },
     "execution_count": 12,
     "metadata": {},
     "output_type": "execute_result"
    }
   ],
   "source": [
    "molnames = list(test['molecule_name'].unique())\n",
    "mols = OrderedDict()\n",
    "for name in molnames:\n",
    "    mols[name] = d[name]\n",
    "struct =  structures[structures['molecule_name'].isin(molnames)]\n",
    "g = struct.groupby('molecule_name')\n",
    "struct.head()"
   ]
  },
  {
   "cell_type": "code",
   "execution_count": 13,
   "metadata": {},
   "outputs": [],
   "source": [
    "from rdkit import Chem\n",
    "from rdkit.Chem import ChemicalFeatures\n",
    "from rdkit import RDConfig\n",
    "import os\n",
    "fdefName = os.path.join(RDConfig.RDDataDir,'BaseFeatures.fdef')\n",
    "factory = ChemicalFeatures.BuildFeatureFactory(fdefName)"
   ]
  },
  {
   "cell_type": "code",
   "execution_count": 14,
   "metadata": {},
   "outputs": [],
   "source": [
    "atfn = {'Acceptor':0,\n",
    "         'Aromatic':1,\n",
    "         'Donor':2,\n",
    "         'Hydrophobe':3,\n",
    "         'LumpedHydrophobe':4,\n",
    "         'NegIonizable':5,\n",
    "         'PosIonizable':6,\n",
    "         'ZnBinder':7}"
   ]
  },
  {
   "cell_type": "code",
   "execution_count": 15,
   "metadata": {},
   "outputs": [],
   "source": [
    "#ADD DISTANCE TO TARGET FEATURE\n",
    "def getAtomNodeFeats(molname, mols, data):\n",
    "    symbol, x, y, z, gr,eneg,radius,atomnum,nv = 2,3,4,5,6,7,8,9,10\n",
    "    mol = mols[molname]\n",
    "    feats = factory.GetFeaturesForMol(mol)\n",
    "    atfdict = defaultdict(list)\n",
    "    for i in range(len(feats)):\n",
    "        fam = feats[i].GetFamily()\n",
    "        dl = feats[i].GetAtomIds()\n",
    "        for aid in dl:\n",
    "            atfdict[aid].append(fam)\n",
    "    \n",
    "    l = len(data)\n",
    "    nodef = []\n",
    "    \n",
    "    eems = rdmd.CalcEEMcharges(mol)\n",
    "    spfd = {'S':0,'SP':0.5,'SP2':1/3,'SP3':1/4}\n",
    "    \n",
    "    for i in range(l):\n",
    "        d = data[i]\n",
    "        atom = mol.GetAtomWithIdx(i)\n",
    "        ahyb =  str(atom.GetHybridization())\n",
    "        sym = d[symbol]\n",
    "        hf = 'NONE'\n",
    "        if i in atfdict:\n",
    "            hf = atfdict[i]\n",
    "        ff = [sym=='H',sym=='C',sym=='N',sym=='O',sym=='F',d[atomnum],(int)(atom.IsInRing() == True),\n",
    "              ahyb=='S',ahyb=='SP', ahyb=='SP2', ahyb=='SP3',d[x],d[y],d[z],eems[i],spfd[ahyb],\n",
    "              d[radius],d[eneg],d[gr],NumPiElectrons(atom),0,0]\n",
    "        ff += ([0]*135)#        #AT3 FEATS   -24,-12\n",
    "        newf = [0,0,0,0,0,0,0,0, 0,0,0,0,0,0,0,0,0,0,0,0,0,  0, 0,0,0,0,0,0,0,0,0,0]\n",
    "        newf[-11] = d[nv]\n",
    "        if hf != 'NONE':\n",
    "            for t in hf:\n",
    "                newf[atfn[t]] = 1\n",
    "            \n",
    "        ff += newf\n",
    "        nodef.append(ff)\n",
    "    \n",
    "    lm = molcouples[molname]\n",
    "    for i,(a0,a1) in enumerate(lm):\n",
    "        nodef[a0][22+i] = 1\n",
    "        nodef[a1][22+i] = 1\n",
    "    return nodef"
   ]
  },
  {
   "cell_type": "code",
   "execution_count": 16,
   "metadata": {},
   "outputs": [],
   "source": [
    "@numba.jit(nopython=True)\n",
    "def getAngle(x0,y0,z0,x1,y1,z1):\n",
    "    mag_x0 = np.sqrt(x0**2 + y0**2 + z0**2)\n",
    "    mag_x1 = np.sqrt(x1**2 + y1**2 + z1**2)\n",
    "    dotp = (x0*x1) + (y0* y1) + (z0*z1)\n",
    "    c = dotp/(mag_x0*mag_x1)\n",
    "    if c < -1:\n",
    "        c = -1\n",
    "    elif c > 1:\n",
    "        c = 1\n",
    "    theta = np.arccos(c)\n",
    "    return theta, np.cos(theta), np.sin(theta)"
   ]
  },
  {
   "cell_type": "code",
   "execution_count": 17,
   "metadata": {},
   "outputs": [],
   "source": [
    "def getBondEdgeFeats(molname, mols, data):\n",
    "    x, y, z = 3,4,5\n",
    "    mol = mols[molname]\n",
    "    bonds = mol.GetBonds()\n",
    "    src,dst = [],[]\n",
    "    bondf = []\n",
    "    aed = defaultdict(list)\n",
    "    \n",
    "    btd = {'AROMATIC':0,'SINGLE':1,'DOUBLE':2, 'TRIPLE':3}\n",
    "    #make bidirectional\n",
    "    for bond in bonds:\n",
    "        id0,id1 = bond.GetBeginAtomIdx(), bond.GetEndAtomIdx()\n",
    "        \n",
    "        src.append(id0)\n",
    "        dst.append(id1)\n",
    "        src.append(id1)\n",
    "        dst.append(id0)\n",
    "        \n",
    "        aed[id0].append(id1)\n",
    "        aed[id1].append(id0)\n",
    "        \n",
    "        t0,t1 = data[id0],data[id1]\n",
    "        x0,y0,z0,x1,y1,z1 = t0[x],t0[y],t0[z],t1[x],t1[y],t1[z]   \n",
    "                \n",
    "        d = GetBondLength(mol.GetConformer(),id0,id1)\n",
    "        a,cos,sin = getAngle(x0,y0,z0,x1,y1,z1)\n",
    "        isconj = (int)(bond.GetIsConjugated() == True)\n",
    "        btype =  str(bond.GetBondType())\n",
    "        bt = [0,0,0,0]\n",
    "        bt[btd[btype]] = 1\n",
    "        #angle t0, cos t0, sin t0, angle t1, cos t1, sin t1, angle tv, cos tv, sin tv\n",
    "        # -16,-10\n",
    "        ff = [d,a,cos,sin,isconj] + bt + [0,0,0,0,0,0,0] + [0,0,0,0,0,0,0,0,0]\n",
    "        bondf.append(ff)\n",
    "        bondf.append(ff)\n",
    "        #[blen,angle,cos,sin,isconj,bt,bt,bt,bt]\n",
    "    edge_index = []\n",
    "    edge_index.append(src)\n",
    "    edge_index.append(dst)\n",
    "    #tonorm: 0,1,2,3,4\n",
    "    return bondf, edge_index, aed    "
   ]
  },
  {
   "cell_type": "code",
   "execution_count": 18,
   "metadata": {},
   "outputs": [
    {
     "data": {
      "application/vnd.jupyter.widget-view+json": {
       "model_id": "e61a77a2507f4fdbbf8069e3a0a91ba9",
       "version_major": 2,
       "version_minor": 0
      },
      "text/plain": [
       "HBox(children=(IntProgress(value=0, max=45660), HTML(value='')))"
      ]
     },
     "metadata": {},
     "output_type": "display_data"
    },
    {
     "name": "stdout",
     "output_type": "stream",
     "text": [
      "\n"
     ]
    }
   ],
   "source": [
    "mnames = list(mols.keys())\n",
    "\n",
    "datadir = {}\n",
    "for name in tqdm.tqdm_notebook(mnames):\n",
    "    a = g.get_group(name)\n",
    "    nodef = getAtomNodeFeats(name,mols,a.values.tolist())\n",
    "    bondf, edgeidx, aed = getBondEdgeFeats(name,mols,a.values.tolist())\n",
    "    datadir[name] = [nodef, bondf, edgeidx, aed]"
   ]
  },
  {
   "cell_type": "code",
   "execution_count": 19,
   "metadata": {},
   "outputs": [],
   "source": [
    "test= test.drop(['atom_0', 'x_0', 'y_0', 'z_0', 'Gratio_x',\n",
    "            'Eneg_x', 'radius_x', 'atomic_num_x', 'atom_1', 'x_1', 'y_1', 'z_1',\n",
    "            'Gratio_y', 'Eneg_y', 'radius_y', 'atomic_num_y','numv_x','numv_y'],axis=1)"
   ]
  },
  {
   "cell_type": "code",
   "execution_count": 20,
   "metadata": {},
   "outputs": [],
   "source": [
    "t = test.values.tolist()"
   ]
  },
  {
   "cell_type": "code",
   "execution_count": 21,
   "metadata": {},
   "outputs": [],
   "source": [
    "@numba.jit(nopython=True)\n",
    "def getDist(x0,y0,z0,x1,y1,z1):\n",
    "    return np.sqrt((x0-x1)**2 + (y0-y1)**2 + (z0-z1)**2)"
   ]
  },
  {
   "cell_type": "code",
   "execution_count": 22,
   "metadata": {},
   "outputs": [],
   "source": [
    "olds = np.seterr(all='raise')"
   ]
  },
  {
   "cell_type": "code",
   "execution_count": 23,
   "metadata": {},
   "outputs": [
    {
     "data": {
      "application/vnd.jupyter.widget-view+json": {
       "model_id": "95b80c481c6246a5a36fcd5195ac514f",
       "version_major": 2,
       "version_minor": 0
      },
      "text/plain": [
       "HBox(children=(IntProgress(value=0, max=613138), HTML(value='')))"
      ]
     },
     "metadata": {},
     "output_type": "display_data"
    },
    {
     "name": "stdout",
     "output_type": "stream",
     "text": [
      "\n"
     ]
    }
   ],
   "source": [
    "testlist = []\n",
    "l = len(t)\n",
    "ids = []\n",
    "for dp in tqdm.tqdm_notebook(t):\n",
    "    name, id0, id1 = dp[1], dp[2], dp[3]\n",
    "    n,b,e,aed = datadir[name]\n",
    "    nodef,bondf,edgeidx = np.array(n), np.array(b), np.array(e)\n",
    "    nodef,bondf,edgeidx = nodef.tolist(),bondf.tolist(),edgeidx.tolist()\n",
    "\n",
    "    nodef[id0][-1] = 1\n",
    "    nodef[id1][-1] = 1\n",
    "\n",
    "    nid0 = nodef[id0]\n",
    "    nid1 = nodef[id1]\n",
    "    x0,y0,z0 = nid0[11],nid0[12],nid0[13]\n",
    "    x1,y1,z1 = nid1[11],nid1[12],nid1[13]\n",
    "\n",
    "    ll = len(nodef)\n",
    "    ai0 = aed[id0]\n",
    "    ai1 = aed[id1]\n",
    "\n",
    "    G = nx.Graph()\n",
    "    eds = [x for x in zip(edgeidx[0],edgeidx[1])]\n",
    "    G.add_edges_from(eds)\n",
    "    sp = nx.dijkstra_path(G,id0,id1)\n",
    "    \n",
    "    mp = sp[1]\n",
    "    nodef[mp][-1] = 1\n",
    "    tnm = nodef[mp]\n",
    "    xm,ym,zm = tnm[11],tnm[12],tnm[13]\n",
    "    xm0,ym0,zm0 = xm-x0,ym-y0,zm-z0\n",
    "    xm1,ym1,zm1 = xm-x1,ym-y1,zm-z1\n",
    "    for i in range(ll):\n",
    "        if i not in ai0 and i != id0:\n",
    "            temp = [0,0,0,0,0,0,0,0,0,0,0,0,0,0,0,0,0,0,0,0,0,0,0,0,0]\n",
    "            tnf = nodef[i]\n",
    "            xi,yi,zi = tnf[11],tnf[12],tnf[13]\n",
    "            temp[0] = getDist(xi,yi,zi,x0,y0,z0)\n",
    "            theta,cos,sin = getAngle(xi,yi,zi,x0,y0,z0)\n",
    "            temp[1] = theta\n",
    "            temp[2] = cos\n",
    "            temp[3] = sin\n",
    "\n",
    "            bondf.append(temp)\n",
    "            bondf.append(temp)\n",
    "\n",
    "            edgeidx[0].append(i)\n",
    "            edgeidx[1].append(id0)\n",
    "\n",
    "            edgeidx[0].append(id0)\n",
    "            edgeidx[1].append(i)\n",
    "        if i not in ai1 and  i != id1:\n",
    "            temp = [0,0,0,0,0,0,0,0,0,0,0,0,0,0,0,0,0,0,0,0,0,0,0,0,0]\n",
    "            tnf = nodef[i]\n",
    "            xi,yi,zi = tnf[11],tnf[12],tnf[13]\n",
    "            temp[0] = getDist(xi,yi,zi,x1,y1,z1)\n",
    "            theta,cos,sin = getAngle(xi,yi,zi,x1,y1,z1)\n",
    "            temp[1] = theta\n",
    "            temp[2] = cos\n",
    "            temp[3] = sin\n",
    "\n",
    "            bondf.append(temp)\n",
    "            bondf.append(temp)\n",
    "\n",
    "            edgeidx[0].append(i)\n",
    "            edgeidx[1].append(id1)\n",
    "\n",
    "            edgeidx[0].append(id1)\n",
    "            edgeidx[1].append(i)\n",
    "\n",
    "    G = nx.Graph()\n",
    "    eds = [x for x in zip(edgeidx[0],edgeidx[1])]\n",
    "    G.add_edges_from(eds)\n",
    "    for i in range(ll):\n",
    "        if (not G.has_edge(i,mp)) and i != mp:\n",
    "            temp = [0,0,0,0,0,0,0,0,0,0,0,0,0,0,0,0,0,0,0,0,0,0,0,0,0]\n",
    "            tnf = nodef[i]\n",
    "            xi,yi,zi = tnf[11],tnf[12],tnf[13]\n",
    "            temp[0] = getDist(xi,yi,zi,xm,ym,zm)\n",
    "            theta,cos,sin = getAngle(xi,yi,zi,xm,ym,zm)\n",
    "            temp[1] = theta\n",
    "            temp[2] = cos\n",
    "            temp[3] = sin\n",
    "\n",
    "            bondf.append(temp)\n",
    "            bondf.append(temp)\n",
    "\n",
    "            edgeidx[0].append(i)\n",
    "            edgeidx[1].append(mp)\n",
    "\n",
    "            edgeidx[0].append(mp)\n",
    "            edgeidx[1].append(i)\n",
    "\n",
    "    bonds = [x for x in zip(edgeidx[0],edgeidx[1])]\n",
    "    intbonds = [(id0,mp),(mp,id1),(mp,id0),(id1,mp)]\n",
    "    for i,bf in enumerate(bondf):\n",
    "        i0,i1 = bonds[i]\n",
    "        if (i0,i1) in intbonds:\n",
    "            bf[-10] = 1\n",
    "        nfa,nfb = nodef[i0],nodef[i1]\n",
    "        xa,ya,za = nfa[11],nfa[12],nfa[13]\n",
    "        xb,yb,zb = nfb[11],nfb[12],nfb[13]\n",
    "        xi,yi,zi = xa-xb,ya-yb,za-zb\n",
    "        a0,cos0,sin0 = getAngle(xi,yi,zi,x0,y0,z0)\n",
    "        a1,cos1,sin1 = getAngle(xi,yi,zi,x1,y1,z1)\n",
    "        am,cosm,sinm = getAngle(xi,yi,zi,xm,ym,zm)\n",
    "        am0,cosm0,sinm0 = getAngle(xi,yi,zi,xm0,ym0,zm0)\n",
    "        am1,cosm1,sinm1 = getAngle(xi,yi,zi,xm1,ym1,zm1)\n",
    "\n",
    "        bf[-16] = am0\n",
    "        bf[-15] = cosm0\n",
    "        bf[-14] = sinm0\n",
    "        bf[-13] = am1\n",
    "        bf[-12] = cosm1\n",
    "        bf[-11] = sinm1\n",
    "\n",
    "        bf[-9] = a0\n",
    "        bf[-8] = cos0\n",
    "        bf[-7] = sin0\n",
    "        bf[-6] = a1\n",
    "        bf[-5] = cos1\n",
    "        bf[-4] = sin1\n",
    "        bf[-3] = am\n",
    "        bf[-2] = cosm\n",
    "        bf[-1] = sinm\n",
    "#-24: dist at3 #-23: angle at3 #-22: cos at3 #-21: sin at3 #-20: angle m0 #-19: cos m0 #-18: sin m0\n",
    "#-17: angle m1 #-16: cos m1 #-15: sin m1 #-14: x rel at3 #-13: y ---- #-12: z -----\n",
    "    for i,nf in enumerate(nodef):\n",
    "        if i == mp:\n",
    "            nf[20] = getDist(x0,y0,z0,xm,ym,zm)\n",
    "            nf[21] = getDist(x1,y1,z1,xm,ym,zm)\n",
    "            #dist,angle,cos,sin to at3\n",
    "            nf[-24] = 0\n",
    "            nf[-23] = 0\n",
    "            nf[-22] = 1\n",
    "            nf[-21] = 0\n",
    "            am0,cosm0,sinm0 =  getAngle(xm,ym,zm,xm0,ym0,zm0)\n",
    "            nf[-20] = am0\n",
    "            nf[-19] = cosm0\n",
    "            nf[-18] = sinm0\n",
    "            am1,cosm1,sinm1 =  getAngle(xm,ym,zm,xm1,ym1,zm1)\n",
    "            nf[-17] = am1\n",
    "            nf[-16] = cosm1\n",
    "            nf[-15] = sinm1\n",
    "            #xyz rel to at3\n",
    "            nf[-14] = 0\n",
    "            nf[-13] = 0\n",
    "            nf[-12] = 0 \n",
    "\n",
    "            ang0,cos0,sin0 = getAngle(xm,ym,zm,x0,y0,z0)\n",
    "            nf[-7] = ang0 #angle with at0\n",
    "            nf[-6] = cos0 #cos with at0\n",
    "            nf[-5] = sin0 #sin with at0\n",
    "            ang1,cos1,sin1 = getAngle(xm,ym,zm,x1,y1,z1)\n",
    "            nf[-4] = ang1 #angle with at1\n",
    "            nf[-3] = cos1 #cos with at1\n",
    "            nf[-2] = sin1 #sin with at1\n",
    "\n",
    "            nf[-10] = x1-xm\n",
    "            nf[-9] = y1-ym\n",
    "            nf[-8] = z1-zm#xyz rel to at1\n",
    "            nf[11] = x0-xm\n",
    "            nf[12] = y0-ym\n",
    "            nf[13] = z0-zm#xyz rel to at1\n",
    "        elif i == id0:\n",
    "            nf[20] = 0\n",
    "            nf[21] = getDist(x0,y0,z0,x1,y1,z1)\n",
    "\n",
    "            am3,cosm3,sinm3 =  getAngle(x0,y0,z0,xm,ym,zm)\n",
    "            nf[-24] = getDist(x0,y0,z0,xm,ym,zm)\n",
    "            nf[-23] = am3\n",
    "            nf[-22] = cosm3\n",
    "            nf[-21] = sinm3\n",
    "            am0,cosm0,sinm0 =  getAngle(x0,y0,z0,xm0,ym0,zm0)\n",
    "            nf[-20] = am0\n",
    "            nf[-19] = cosm0\n",
    "            nf[-18] = sinm0\n",
    "            am1,cosm1,sinm1 =  getAngle(x0,y0,z0,xm1,ym1,zm1)\n",
    "            nf[-17] = am1\n",
    "            nf[-16] = cosm1\n",
    "            nf[-15] = sinm1\n",
    "            #xyz rel to at3\n",
    "            nf[-14] = xm-x0\n",
    "            nf[-13] = ym-y0\n",
    "            nf[-12] = zm-z0\n",
    "\n",
    "            nf[-7] = 0\n",
    "            nf[-6] = 1\n",
    "            nf[-5] = 0\n",
    "            a1,cos,sin = getAngle(x0,y0,z0,x1,y1,z1)\n",
    "            nf[-4] = a1\n",
    "            nf[-3] = cos\n",
    "            nf[-2] = sin\n",
    "            nf[-10] = x1-x0\n",
    "            nf[-9] = y1-y0\n",
    "            nf[-8] = z1-z0\n",
    "            nf[11] = 0\n",
    "            nf[12] = 0\n",
    "            nf[13] = 0\n",
    "\n",
    "        elif i == id1:\n",
    "            nf[21] = 0\n",
    "            nf[20] = getDist(x0,y0,z0,x1,y1,z1)\n",
    "\n",
    "            am3,cosm3,sinm3 =  getAngle(x1,y1,z1,xm,ym,zm)\n",
    "            nf[-24] = getDist(x1,y1,z1,xm,ym,zm)\n",
    "            nf[-23] = am3\n",
    "            nf[-22] = cosm3\n",
    "            nf[-21] = sinm3\n",
    "            am0,cosm0,sinm0 =  getAngle(x1,y1,z1,xm0,ym0,zm0)\n",
    "            nf[-20] = am0\n",
    "            nf[-19] = cosm0\n",
    "            nf[-18] = sinm0\n",
    "            am1,cosm1,sinm1 =  getAngle(x1,y1,z1,xm1,ym1,zm1)\n",
    "            nf[-17] = am1\n",
    "            nf[-16] = cosm1\n",
    "            nf[-15] = sinm1\n",
    "            #xyz rel to at3\n",
    "            nf[-14] = xm-x1\n",
    "            nf[-13] = ym-y1\n",
    "            nf[-12] = zm-z1\n",
    "\n",
    "            a0,cos,sin = getAngle(x0,y0,z0,x1,y1,z1)\n",
    "            nf[-7] = a0\n",
    "            nf[-6] = cos\n",
    "            nf[-5] = sin\n",
    "            nf[-4] = 0\n",
    "            nf[-3] = 1\n",
    "            nf[-2] = 0\n",
    "            nf[-10] = 0\n",
    "            nf[-9] = 0\n",
    "            nf[-8] = 0\n",
    "            nf[11] = x0-x1\n",
    "            nf[12] = y0-y1\n",
    "            nf[13] = z0-z1\n",
    "        else:\n",
    "            xi,yi,zi = nf[11],nf[12],nf[13]\n",
    "            nf[21] = getDist(xi,yi,zi,x1,y1,z1)\n",
    "            nf[20] = getDist(xi,yi,zi,x0,y0,z0)\n",
    "\n",
    "            am3,cosm3,sinm3 =  getAngle(xi,yi,zi,xm,ym,zm)\n",
    "            nf[-24] = getDist(xi,yi,zi,xm,ym,zm)\n",
    "            nf[-23] = am3\n",
    "            nf[-22] = cosm3\n",
    "            nf[-21] = sinm3\n",
    "            am0,cosm0,sinm0 =  getAngle(xi,yi,zi,xm0,ym0,zm0)\n",
    "            nf[-20] = am0\n",
    "            nf[-19] = cosm0\n",
    "            nf[-18] = sinm0\n",
    "            am1,cosm1,sinm1 =  getAngle(xi,yi,zi,xm1,ym1,zm1)\n",
    "            nf[-17] = am1\n",
    "            nf[-16] = cosm1\n",
    "            nf[-15] = sinm1\n",
    "            #xyz rel to at3\n",
    "            nf[-14] = xm-x1\n",
    "            nf[-13] = ym-y1\n",
    "            nf[-12] = zm-z1\n",
    "\n",
    "            a0,cos0,sin0 = getAngle(xi,yi,zi,x0,y0,z0)\n",
    "            a1,cos1,sin1 = getAngle(xi,yi,zi,x1,y1,z1)\n",
    "            nf[-7] = a0\n",
    "            nf[-6] = cos0\n",
    "            nf[-5] = sin0\n",
    "            nf[-4] = a1\n",
    "            nf[-3] = cos1\n",
    "            nf[-2] = sin1\n",
    "            nf[-10] = x1-xi\n",
    "            nf[-9] = y1-yi\n",
    "            nf[-8] = z1-zi\n",
    "            nf[11] = x0-xi\n",
    "            nf[12] = y0-yi\n",
    "            nf[13] = z0-zi\n",
    "\n",
    "    ids.append(dp[0])        \n",
    "    x = torch.tensor(nodef, dtype=torch.float)\n",
    "    edge_index = torch.tensor(edgeidx, dtype=torch.long)\n",
    "    edge_attr = torch.tensor(bondf,dtype=torch.float)\n",
    "    data = Data(x=x, edge_index=edge_index, edge_attr=edge_attr)\n",
    "\n",
    "    testlist.append(data)\n"
   ]
  },
  {
   "cell_type": "code",
   "execution_count": 24,
   "metadata": {},
   "outputs": [],
   "source": [
    "tmean = -0.27623939703519823\n",
    "tsd = 4.524107451327379"
   ]
  },
  {
   "cell_type": "code",
   "execution_count": 25,
   "metadata": {},
   "outputs": [],
   "source": [
    "test_loader = DataLoader(testlist, batch_size=256,shuffle=False)"
   ]
  },
  {
   "cell_type": "code",
   "execution_count": 26,
   "metadata": {},
   "outputs": [],
   "source": [
    "ndim =128\n",
    "edim = 64"
   ]
  },
  {
   "cell_type": "code",
   "execution_count": 27,
   "metadata": {},
   "outputs": [],
   "source": [
    "torch.cuda.empty_cache()"
   ]
  },
  {
   "cell_type": "code",
   "execution_count": 28,
   "metadata": {},
   "outputs": [],
   "source": [
    "class Net(torch.nn.Module):\n",
    "    def __init__(self):\n",
    "        super(Net, self).__init__()\n",
    "        \n",
    "        self.lin0 = torch.nn.Linear(189, ndim)\n",
    "        self.bn0 = BatchNorm1d(ndim)\n",
    "        self.d0 = Dropout(0.1)\n",
    "        \n",
    "        nn = Sequential(Linear(25, edim), ReLU(), Linear(edim,2*edim), ReLU(),Linear(2*edim, ndim * ndim))\n",
    "        self.conv = NNConv(ndim, ndim, nn, aggr='max', root_weight=True)\n",
    "        self.gru = GRU(ndim, ndim)\n",
    "        \n",
    "        self.set2set = Set2Set(ndim, processing_steps=3)\n",
    "        self.lin1 = torch.nn.Linear(2*ndim, 192)\n",
    "        self.lin2 = torch.nn.Linear(192,160)\n",
    "        self.lin3 = torch.nn.Linear(160, ndim)\n",
    "        self.lin4 = torch.nn.Linear(ndim, 1)\n",
    "\n",
    "    def forward(self, data):\n",
    "        out = F.selu(self.lin0(data.x))\n",
    "        out = self.bn0(out)\n",
    "        out = self.d0(out)\n",
    "        h = out.unsqueeze(0)\n",
    "        \n",
    "        for i in range(3):\n",
    "            m = F.selu(self.conv(out, data.edge_index, data.edge_attr))\n",
    "            out, h = self.gru(m.unsqueeze(0), h)\n",
    "            out = out.squeeze(0)\n",
    "        \n",
    "        out = self.set2set(out, data.batch)\n",
    "        out = F.selu(self.lin1(out))\n",
    "        out = F.selu(self.lin2(out))\n",
    "        out = F.selu(self.lin3(out))\n",
    "        out = self.lin4(out)\n",
    "        \n",
    "        return out.view(-1)"
   ]
  },
  {
   "cell_type": "code",
   "execution_count": 29,
   "metadata": {},
   "outputs": [],
   "source": [
    "#model2 = torch.load('MPNN_1JHN_SELU__MODEL_.pth')\n",
    "model2 = torch.load('MPNN_2JHC_2FE.pth')\n",
    "#xd = torch.load('Temp/t1.pth')"
   ]
  },
  {
   "cell_type": "code",
   "execution_count": 30,
   "metadata": {},
   "outputs": [],
   "source": [
    "#model2 = xd['bestmodel']"
   ]
  },
  {
   "cell_type": "code",
   "execution_count": 31,
   "metadata": {
    "scrolled": true
   },
   "outputs": [
    {
     "data": {
      "application/vnd.jupyter.widget-view+json": {
       "model_id": "997b95d6b7b94f688bd32783ef647417",
       "version_major": 2,
       "version_minor": 0
      },
      "text/plain": [
       "HBox(children=(IntProgress(value=0, max=2396), HTML(value='')))"
      ]
     },
     "metadata": {},
     "output_type": "display_data"
    },
    {
     "name": "stdout",
     "output_type": "stream",
     "text": [
      "\n"
     ]
    }
   ],
   "source": [
    "device = torch.device('cuda' if torch.cuda.is_available() else 'cpu')\n",
    "model2.to(device)\n",
    "model2.eval()\n",
    "preds = []\n",
    "for dd in tqdm.tqdm_notebook(test_loader):\n",
    "    dd = dd.to(device)\n",
    "    x = model2(dd)\n",
    "    x = x.cpu().detach().numpy()\n",
    "    x = (x*tsd)+tmean\n",
    "    x = list(x)\n",
    "    preds +=x\n"
   ]
  },
  {
   "cell_type": "code",
   "execution_count": 32,
   "metadata": {},
   "outputs": [
    {
     "name": "stdout",
     "output_type": "stream",
     "text": [
      "613138 613138\n"
     ]
    }
   ],
   "source": [
    "print(len(preds),len(ids))"
   ]
  },
  {
   "cell_type": "code",
   "execution_count": 33,
   "metadata": {},
   "outputs": [],
   "source": [
    "s = pd.read_csv(\"75_MPNN_NFR_1_2JHN_2JHH3C_B1.csv\")"
   ]
  },
  {
   "cell_type": "code",
   "execution_count": 34,
   "metadata": {},
   "outputs": [],
   "source": [
    "s =  s[~s['id'].isin(ids)]"
   ]
  },
  {
   "cell_type": "code",
   "execution_count": 35,
   "metadata": {},
   "outputs": [
    {
     "data": {
      "text/html": [
       "<div>\n",
       "<style scoped>\n",
       "    .dataframe tbody tr th:only-of-type {\n",
       "        vertical-align: middle;\n",
       "    }\n",
       "\n",
       "    .dataframe tbody tr th {\n",
       "        vertical-align: top;\n",
       "    }\n",
       "\n",
       "    .dataframe thead th {\n",
       "        text-align: right;\n",
       "    }\n",
       "</style>\n",
       "<table border=\"1\" class=\"dataframe\">\n",
       "  <thead>\n",
       "    <tr style=\"text-align: right;\">\n",
       "      <th></th>\n",
       "      <th>id</th>\n",
       "      <th>scalar_coupling_constant</th>\n",
       "    </tr>\n",
       "  </thead>\n",
       "  <tbody>\n",
       "    <tr>\n",
       "      <th>613138</th>\n",
       "      <td>4658154</td>\n",
       "      <td>-7.576379</td>\n",
       "    </tr>\n",
       "    <tr>\n",
       "      <th>613139</th>\n",
       "      <td>4658155</td>\n",
       "      <td>-9.711175</td>\n",
       "    </tr>\n",
       "    <tr>\n",
       "      <th>613140</th>\n",
       "      <td>4658158</td>\n",
       "      <td>-9.709909</td>\n",
       "    </tr>\n",
       "    <tr>\n",
       "      <th>613141</th>\n",
       "      <td>4658163</td>\n",
       "      <td>-7.572326</td>\n",
       "    </tr>\n",
       "    <tr>\n",
       "      <th>613142</th>\n",
       "      <td>4658164</td>\n",
       "      <td>-9.710675</td>\n",
       "    </tr>\n",
       "  </tbody>\n",
       "</table>\n",
       "</div>"
      ],
      "text/plain": [
       "             id  scalar_coupling_constant\n",
       "613138  4658154                 -7.576379\n",
       "613139  4658155                 -9.711175\n",
       "613140  4658158                 -9.709909\n",
       "613141  4658163                 -7.572326\n",
       "613142  4658164                 -9.710675"
      ]
     },
     "execution_count": 35,
     "metadata": {},
     "output_type": "execute_result"
    }
   ],
   "source": [
    "s.head()"
   ]
  },
  {
   "cell_type": "code",
   "execution_count": 36,
   "metadata": {},
   "outputs": [],
   "source": [
    "new = pd.DataFrame({'id':ids, 'scalar_coupling_constant':preds})"
   ]
  },
  {
   "cell_type": "code",
   "execution_count": 37,
   "metadata": {},
   "outputs": [],
   "source": [
    "ff = pd.concat([new,s])"
   ]
  },
  {
   "cell_type": "code",
   "execution_count": 38,
   "metadata": {},
   "outputs": [
    {
     "data": {
      "text/plain": [
       "2505542"
      ]
     },
     "execution_count": 38,
     "metadata": {},
     "output_type": "execute_result"
    }
   ],
   "source": [
    "len(ff)"
   ]
  },
  {
   "cell_type": "code",
   "execution_count": 39,
   "metadata": {},
   "outputs": [],
   "source": [
    "ff.to_csv(\"76_MPNN_NFR_1_2.csv\",index=False)"
   ]
  },
  {
   "cell_type": "code",
   "execution_count": null,
   "metadata": {},
   "outputs": [],
   "source": [
    "len(ff)"
   ]
  },
  {
   "cell_type": "code",
   "execution_count": null,
   "metadata": {},
   "outputs": [],
   "source": [
    "ff.head()"
   ]
  },
  {
   "cell_type": "code",
   "execution_count": null,
   "metadata": {},
   "outputs": [],
   "source": [
    "s = pd.read_csv(\"C:/Users/Alamjeet Singh/AA_SCCKaggle/Restart/26_lgbm_RDKCCType.csv\")"
   ]
  },
  {
   "cell_type": "code",
   "execution_count": null,
   "metadata": {},
   "outputs": [],
   "source": [
    "len(s)"
   ]
  },
  {
   "cell_type": "markdown",
   "metadata": {},
   "source": [
    "Ensemble"
   ]
  },
  {
   "cell_type": "code",
   "execution_count": null,
   "metadata": {},
   "outputs": [],
   "source": [
    "import pandas as pd, numpy as np"
   ]
  },
  {
   "cell_type": "code",
   "execution_count": null,
   "metadata": {},
   "outputs": [],
   "source": [
    "lgb = pd.read_csv(\"C:/Users/Alamjeet Singh/AA_SCCKaggle/Restart/26_lgbm_RDKCCType.csv\")\n",
    "nn = pd.read_csv(\"C:/Users/Alamjeet Singh/AA_SCCKaggle/AA/27_MPNN1JHC_LGBM.csv\")"
   ]
  },
  {
   "cell_type": "code",
   "execution_count": null,
   "metadata": {},
   "outputs": [],
   "source": [
    "train = pd.read_csv(\"C:/Users/Alamjeet Singh/Downloads/champs-scalar-coupling/test.csv\")\n",
    "train = train.groupby('type').get_group('1JHC')"
   ]
  },
  {
   "cell_type": "code",
   "execution_count": null,
   "metadata": {},
   "outputs": [],
   "source": [
    "train.head()"
   ]
  },
  {
   "cell_type": "code",
   "execution_count": null,
   "metadata": {},
   "outputs": [],
   "source": [
    "ids = train['id'].tolist()"
   ]
  },
  {
   "cell_type": "code",
   "execution_count": null,
   "metadata": {},
   "outputs": [],
   "source": [
    "nn = nn[nn['id'].isin(ids)]\n",
    "lgb = lgb[lgb['id'].isin(ids)]"
   ]
  },
  {
   "cell_type": "code",
   "execution_count": null,
   "metadata": {},
   "outputs": [],
   "source": [
    "nn.sort_values(by=['id'],inplace=True)\n",
    "lgb.sort_values(by=['id'],inplace=True)"
   ]
  },
  {
   "cell_type": "code",
   "execution_count": null,
   "metadata": {},
   "outputs": [],
   "source": [
    "nn.reset_index(inplace=True)\n",
    "lgb.reset_index(inplace=True)"
   ]
  },
  {
   "cell_type": "code",
   "execution_count": null,
   "metadata": {},
   "outputs": [],
   "source": [
    "ens = (nn['scalar_coupling_constant'] + lgb['scalar_coupling_constant'])/2"
   ]
  },
  {
   "cell_type": "code",
   "execution_count": null,
   "metadata": {},
   "outputs": [],
   "source": [
    "ff = pd.DataFrame({'id':nn['id'],'scalar_coupling_constant':ens})"
   ]
  },
  {
   "cell_type": "code",
   "execution_count": null,
   "metadata": {},
   "outputs": [],
   "source": [
    "len(ff)"
   ]
  },
  {
   "cell_type": "code",
   "execution_count": null,
   "metadata": {},
   "outputs": [],
   "source": [
    "n = pd.read_csv(\"C:/Users/Alamjeet Singh/AA_SCCKaggle/AA/27_MPNN1JHC_LGBM.csv\")"
   ]
  },
  {
   "cell_type": "code",
   "execution_count": null,
   "metadata": {},
   "outputs": [],
   "source": [
    "len(n)"
   ]
  },
  {
   "cell_type": "code",
   "execution_count": null,
   "metadata": {},
   "outputs": [],
   "source": [
    "n = n[~n['id'].isin(ff['id'])]"
   ]
  },
  {
   "cell_type": "code",
   "execution_count": null,
   "metadata": {},
   "outputs": [],
   "source": [
    "len(n)"
   ]
  },
  {
   "cell_type": "code",
   "execution_count": null,
   "metadata": {},
   "outputs": [],
   "source": [
    "ff.head()"
   ]
  },
  {
   "cell_type": "code",
   "execution_count": null,
   "metadata": {},
   "outputs": [],
   "source": [
    "n.head()"
   ]
  },
  {
   "cell_type": "code",
   "execution_count": null,
   "metadata": {},
   "outputs": [],
   "source": [
    "d = pd.concat([ff,n])"
   ]
  },
  {
   "cell_type": "code",
   "execution_count": null,
   "metadata": {},
   "outputs": [],
   "source": [
    "len(d)"
   ]
  },
  {
   "cell_type": "code",
   "execution_count": null,
   "metadata": {},
   "outputs": [],
   "source": [
    "d.to_csv(\"28_MPNN1JHC_LGBM_ENS.csv\",index=False)"
   ]
  },
  {
   "cell_type": "code",
   "execution_count": null,
   "metadata": {},
   "outputs": [],
   "source": [
    "#add GAT layer\n",
    "#try lin first, then conv3 in for loop only\n",
    "class Net(torch.nn.Module):\n",
    "    def __init__(self):\n",
    "        super(Net, self).__init__()\n",
    "        \n",
    "        self.lin0 = torch.nn.Linear(166, ndim)\n",
    "        self.bn0 = BatchNorm1d(ndim)\n",
    "        self.d0 = torch.nn.Dropout(0.1)\n",
    "        \n",
    "        nn = Sequential(Linear(9, edim), ReLU(), Linear(edim, ndim * ndim))\n",
    "        self.conv = NNConv(ndim, ndim, nn, aggr='max', root_weight=True)\n",
    "        self.gru = GRU(ndim, ndim)\n",
    "\n",
    "        self.set2set = Set2Set(ndim, processing_steps=3)\n",
    "        self.lin1 = torch.nn.Linear(2*ndim, ndim)\n",
    "        #self.d1 = torch.nn.Dropout(0.5)\n",
    "        self.lin2 = torch.nn.Linear(ndim, 1)\n",
    "\n",
    "    def forward(self, data):\n",
    "        out = F.relu(self.lin0(data.x))\n",
    "        out = self.bn0(out)\n",
    "        out = self.d0(out)\n",
    "        h = out.unsqueeze(0)\n",
    "        \n",
    "        for i in range(3):\n",
    "            m = F.relu(self.conv(out, data.edge_index, data.edge_attr))\n",
    "            out, h = self.gru(m.unsqueeze(0), h)\n",
    "            out = out.squeeze(0)\n",
    "        \n",
    "        out = self.set2set(out, data.batch)\n",
    "        out = F.relu(self.lin1(out))\n",
    "        #out = self.d1(out)\n",
    "        out = self.lin2(out)\n",
    "        \n",
    "        return out.view(-1)"
   ]
  }
 ],
 "metadata": {
  "kernelspec": {
   "display_name": "Python 3",
   "language": "python",
   "name": "python3"
  },
  "language_info": {
   "codemirror_mode": {
    "name": "ipython",
    "version": 3
   },
   "file_extension": ".py",
   "mimetype": "text/x-python",
   "name": "python",
   "nbconvert_exporter": "python",
   "pygments_lexer": "ipython3",
   "version": "3.7.3"
  }
 },
 "nbformat": 4,
 "nbformat_minor": 4
}
