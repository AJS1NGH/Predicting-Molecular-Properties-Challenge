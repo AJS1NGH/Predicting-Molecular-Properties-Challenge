{
 "cells": [
  {
   "cell_type": "markdown",
   "metadata": {},
   "source": [
    "CT2 TRAINING:\n",
    "- 1JHN DONE (-1.55)\n",
    "- 2JHN DONE (-2.65)\n",
    "- 3JHN DONE (-2.96)\n",
    "- 2JHH DONE (-2.66)\n",
    "- 3JHH DONE (-2.93)\n",
    "- 1JHC\n",
    "\n",
    "CT2 NF TRAINING:\n",
    "- 1JHN DONE (-1.55)\n",
    "- 1JHC DONE (-1.38) (~100 epoch left)"
   ]
  },
  {
   "cell_type": "code",
   "execution_count": 1,
   "metadata": {},
   "outputs": [],
   "source": [
    "import pandas as pd, numpy as np, matplotlib.pyplot as plt, seaborn as sns, pickle, numba, torch, tqdm, random, utils, os, gc, time\n",
    "\n",
    "from collections import OrderedDict, defaultdict\n",
    "from copy import deepcopy\n",
    "\n",
    "from rdkit.Chem.AtomPairs.Utils import NumPiElectrons\n",
    "from rdkit.Chem.rdMolTransforms import GetAngleRad, GetBondLength\n",
    "from rdkit.Chem.rdchem import Atom, Bond\n",
    "from rdkit.Chem.AtomPairs.Pairs import rdMolDescriptors as rdmd\n",
    "from rdkit import Chem, RDConfig\n",
    "from rdkit.Chem import ChemicalFeatures\n",
    "\n",
    "import torch_geometric.transforms as T\n",
    "import torch.nn.functional as F\n",
    "from torch.nn import Sequential, Linear, ReLU, GRU, BatchNorm1d, Dropout, SELU\n",
    "from torch_geometric.data import Data\n",
    "from torch_geometric.nn import NNConv, Set2Set, GATConv\n",
    "from torch_geometric.data import DataLoader\n",
    "\n",
    "\n",
    "%config InlineBackend.figure_format ='retina'"
   ]
  },
  {
   "cell_type": "code",
   "execution_count": 2,
   "metadata": {},
   "outputs": [],
   "source": [
    "train = pd.read_csv('train.csv')\n",
    "structures = pd.read_csv(\"structures.csv\")"
   ]
  },
  {
   "cell_type": "code",
   "execution_count": 3,
   "metadata": {},
   "outputs": [],
   "source": [
    "gratio = pd.DataFrame({\"atom\":[\"H\",\"C\",\"N\",\"O\",\"F\"],\n",
    "                       \"Gratio\": [42.576,10.705,-4.316,-5.772,40.060],\n",
    "                       \"Eneg\": [2.2,2.55,3.04,3.44,3.98],\n",
    "                       \"radius\":[110,170,155,152,147],\n",
    "                       \"atomic_num\":[1,6,7,8,9],\n",
    "                       \"numv\":[1,4,5,6,7]})\n",
    "structures = structures.merge(gratio,how='left',on='atom')"
   ]
  },
  {
   "cell_type": "code",
   "execution_count": 4,
   "metadata": {},
   "outputs": [],
   "source": [
    "train = train.groupby('type').get_group('1JHC')"
   ]
  },
  {
   "cell_type": "code",
   "execution_count": 5,
   "metadata": {},
   "outputs": [],
   "source": [
    "t2 = pd.read_csv('train.csv')\n",
    "t2 = t2[t2['molecule_name'].isin(train['molecule_name'])]\n",
    "t2.drop(['id','type','scalar_coupling_constant'],axis=1,inplace=True)"
   ]
  },
  {
   "cell_type": "code",
   "execution_count": 6,
   "metadata": {},
   "outputs": [
    {
     "data": {
      "application/vnd.jupyter.widget-view+json": {
       "model_id": "ab1dee99f65c43558c0503caed1aa202",
       "version_major": 2,
       "version_minor": 0
      },
      "text/plain": [
       "HBox(children=(IntProgress(value=0, max=4654472), HTML(value='')))"
      ]
     },
     "metadata": {},
     "output_type": "display_data"
    },
    {
     "name": "stdout",
     "output_type": "stream",
     "text": [
      "\n"
     ]
    }
   ],
   "source": [
    "from collections import defaultdict\n",
    "molcouples = defaultdict(list)\n",
    "cpv = t2.values.tolist()\n",
    "for c in tqdm.tqdm_notebook(cpv):\n",
    "    molcouples[c[0]].append((c[1],c[2]))"
   ]
  },
  {
   "cell_type": "code",
   "execution_count": 7,
   "metadata": {},
   "outputs": [],
   "source": [
    "train.drop('type',axis=1,inplace=True)"
   ]
  },
  {
   "cell_type": "code",
   "execution_count": 8,
   "metadata": {},
   "outputs": [],
   "source": [
    "train = utils.map_atom_info(train,0,structures)\n",
    "train = utils.map_atom_info(train,1,structures)"
   ]
  },
  {
   "cell_type": "code",
   "execution_count": 9,
   "metadata": {},
   "outputs": [],
   "source": [
    "with open('rdkitmolecules.p', 'rb') as fp:\n",
    "    d = pickle.load(fp)"
   ]
  },
  {
   "cell_type": "code",
   "execution_count": 10,
   "metadata": {},
   "outputs": [],
   "source": [
    "tf = train.groupby('molecule_name')"
   ]
  },
  {
   "cell_type": "code",
   "execution_count": 11,
   "metadata": {},
   "outputs": [],
   "source": [
    "groups = list(tf.groups.keys())"
   ]
  },
  {
   "cell_type": "code",
   "execution_count": 12,
   "metadata": {},
   "outputs": [
    {
     "data": {
      "text/plain": [
       "84747"
      ]
     },
     "execution_count": 12,
     "metadata": {},
     "output_type": "execute_result"
    }
   ],
   "source": [
    "len(groups)"
   ]
  },
  {
   "cell_type": "code",
   "execution_count": 13,
   "metadata": {},
   "outputs": [],
   "source": [
    "with open(\"trainmols1JHC.txt\", \"rb\") as fp:   # Unpickling\n",
    "    trainmols = pickle.load(fp)    \n",
    "with open(\"valmols1JHC.txt\", \"rb\") as fp:   # Unpickling\n",
    "    valmols = pickle.load(fp)    "
   ]
  },
  {
   "cell_type": "code",
   "execution_count": 14,
   "metadata": {},
   "outputs": [
    {
     "data": {
      "text/plain": [
       "84747"
      ]
     },
     "execution_count": 14,
     "metadata": {},
     "output_type": "execute_result"
    }
   ],
   "source": [
    "len(trainmols)+len(valmols)"
   ]
  },
  {
   "cell_type": "code",
   "execution_count": 15,
   "metadata": {},
   "outputs": [
    {
     "data": {
      "text/plain": [
       "70000"
      ]
     },
     "execution_count": 15,
     "metadata": {},
     "output_type": "execute_result"
    }
   ],
   "source": [
    "len(trainmols)"
   ]
  },
  {
   "cell_type": "code",
   "execution_count": 16,
   "metadata": {},
   "outputs": [
    {
     "data": {
      "text/plain": [
       "14747"
      ]
     },
     "execution_count": 16,
     "metadata": {},
     "output_type": "execute_result"
    }
   ],
   "source": [
    "len(valmols)"
   ]
  },
  {
   "cell_type": "code",
   "execution_count": 17,
   "metadata": {},
   "outputs": [
    {
     "data": {
      "application/vnd.jupyter.widget-view+json": {
       "model_id": "11f04742680140dbaf483c74f788f9ce",
       "version_major": 2,
       "version_minor": 0
      },
      "text/plain": [
       "HBox(children=(IntProgress(value=0, max=70000), HTML(value='')))"
      ]
     },
     "metadata": {},
     "output_type": "display_data"
    },
    {
     "name": "stdout",
     "output_type": "stream",
     "text": [
      "\n"
     ]
    },
    {
     "data": {
      "application/vnd.jupyter.widget-view+json": {
       "model_id": "f1ca5fa40dfe4931ab4d113b4a9e7e6c",
       "version_major": 2,
       "version_minor": 0
      },
      "text/plain": [
       "HBox(children=(IntProgress(value=0, max=14747), HTML(value='')))"
      ]
     },
     "metadata": {},
     "output_type": "display_data"
    },
    {
     "name": "stdout",
     "output_type": "stream",
     "text": [
      "\n"
     ]
    }
   ],
   "source": [
    "tc = []\n",
    "vc = [] \n",
    "for i in tqdm.tqdm_notebook(trainmols):\n",
    "    g = tf.get_group(i)\n",
    "    tc.append(g)\n",
    "for i in tqdm.tqdm_notebook(valmols):\n",
    "    g = tf.get_group(i)\n",
    "    vc.append(g)"
   ]
  },
  {
   "cell_type": "code",
   "execution_count": 18,
   "metadata": {},
   "outputs": [],
   "source": [
    "train = pd.concat(tc)"
   ]
  },
  {
   "cell_type": "code",
   "execution_count": 19,
   "metadata": {},
   "outputs": [
    {
     "name": "stdout",
     "output_type": "stream",
     "text": [
      "586078 70000\n"
     ]
    }
   ],
   "source": [
    "print(len(train),train['molecule_name'].nunique())"
   ]
  },
  {
   "cell_type": "code",
   "execution_count": 20,
   "metadata": {},
   "outputs": [],
   "source": [
    "val = pd.concat(vc)"
   ]
  },
  {
   "cell_type": "code",
   "execution_count": 21,
   "metadata": {},
   "outputs": [
    {
     "name": "stdout",
     "output_type": "stream",
     "text": [
      "123338 14747\n"
     ]
    }
   ],
   "source": [
    "print(len(val),val['molecule_name'].nunique())"
   ]
  },
  {
   "cell_type": "code",
   "execution_count": 22,
   "metadata": {},
   "outputs": [
    {
     "data": {
      "text/html": [
       "<div>\n",
       "<style scoped>\n",
       "    .dataframe tbody tr th:only-of-type {\n",
       "        vertical-align: middle;\n",
       "    }\n",
       "\n",
       "    .dataframe tbody tr th {\n",
       "        vertical-align: top;\n",
       "    }\n",
       "\n",
       "    .dataframe thead th {\n",
       "        text-align: right;\n",
       "    }\n",
       "</style>\n",
       "<table border=\"1\" class=\"dataframe\">\n",
       "  <thead>\n",
       "    <tr style=\"text-align: right;\">\n",
       "      <th></th>\n",
       "      <th>molecule_name</th>\n",
       "      <th>atom_index</th>\n",
       "      <th>atom</th>\n",
       "      <th>x</th>\n",
       "      <th>y</th>\n",
       "      <th>z</th>\n",
       "      <th>Gratio</th>\n",
       "      <th>Eneg</th>\n",
       "      <th>radius</th>\n",
       "      <th>atomic_num</th>\n",
       "      <th>numv</th>\n",
       "    </tr>\n",
       "  </thead>\n",
       "  <tbody>\n",
       "    <tr>\n",
       "      <th>16</th>\n",
       "      <td>dsgdb9nsd_000005</td>\n",
       "      <td>0</td>\n",
       "      <td>C</td>\n",
       "      <td>-0.013324</td>\n",
       "      <td>1.132466</td>\n",
       "      <td>0.008276</td>\n",
       "      <td>10.705</td>\n",
       "      <td>2.55</td>\n",
       "      <td>170</td>\n",
       "      <td>6</td>\n",
       "      <td>4</td>\n",
       "    </tr>\n",
       "    <tr>\n",
       "      <th>17</th>\n",
       "      <td>dsgdb9nsd_000005</td>\n",
       "      <td>1</td>\n",
       "      <td>N</td>\n",
       "      <td>0.002311</td>\n",
       "      <td>-0.019159</td>\n",
       "      <td>0.001929</td>\n",
       "      <td>-4.316</td>\n",
       "      <td>3.04</td>\n",
       "      <td>155</td>\n",
       "      <td>7</td>\n",
       "      <td>5</td>\n",
       "    </tr>\n",
       "    <tr>\n",
       "      <th>18</th>\n",
       "      <td>dsgdb9nsd_000005</td>\n",
       "      <td>2</td>\n",
       "      <td>H</td>\n",
       "      <td>-0.027803</td>\n",
       "      <td>2.198949</td>\n",
       "      <td>0.014154</td>\n",
       "      <td>42.576</td>\n",
       "      <td>2.20</td>\n",
       "      <td>110</td>\n",
       "      <td>1</td>\n",
       "      <td>1</td>\n",
       "    </tr>\n",
       "    <tr>\n",
       "      <th>19</th>\n",
       "      <td>dsgdb9nsd_000007</td>\n",
       "      <td>0</td>\n",
       "      <td>C</td>\n",
       "      <td>-0.018704</td>\n",
       "      <td>1.525582</td>\n",
       "      <td>0.010433</td>\n",
       "      <td>10.705</td>\n",
       "      <td>2.55</td>\n",
       "      <td>170</td>\n",
       "      <td>6</td>\n",
       "      <td>4</td>\n",
       "    </tr>\n",
       "    <tr>\n",
       "      <th>20</th>\n",
       "      <td>dsgdb9nsd_000007</td>\n",
       "      <td>1</td>\n",
       "      <td>C</td>\n",
       "      <td>0.002104</td>\n",
       "      <td>-0.003882</td>\n",
       "      <td>0.001999</td>\n",
       "      <td>10.705</td>\n",
       "      <td>2.55</td>\n",
       "      <td>170</td>\n",
       "      <td>6</td>\n",
       "      <td>4</td>\n",
       "    </tr>\n",
       "  </tbody>\n",
       "</table>\n",
       "</div>"
      ],
      "text/plain": [
       "       molecule_name  atom_index atom         x         y         z  Gratio  \\\n",
       "16  dsgdb9nsd_000005           0    C -0.013324  1.132466  0.008276  10.705   \n",
       "17  dsgdb9nsd_000005           1    N  0.002311 -0.019159  0.001929  -4.316   \n",
       "18  dsgdb9nsd_000005           2    H -0.027803  2.198949  0.014154  42.576   \n",
       "19  dsgdb9nsd_000007           0    C -0.018704  1.525582  0.010433  10.705   \n",
       "20  dsgdb9nsd_000007           1    C  0.002104 -0.003882  0.001999  10.705   \n",
       "\n",
       "    Eneg  radius  atomic_num  numv  \n",
       "16  2.55     170           6     4  \n",
       "17  3.04     155           7     5  \n",
       "18  2.20     110           1     1  \n",
       "19  2.55     170           6     4  \n",
       "20  2.55     170           6     4  "
      ]
     },
     "execution_count": 22,
     "metadata": {},
     "output_type": "execute_result"
    }
   ],
   "source": [
    "molnames = list(train['molecule_name'].unique())\n",
    "mols = OrderedDict()\n",
    "\n",
    "for name in molnames:\n",
    "    mols[name] = d[name]\n",
    "    \n",
    "struct =  structures[structures['molecule_name'].isin(molnames)]\n",
    "g = struct.groupby('molecule_name')\n",
    "\n",
    "struct.head()"
   ]
  },
  {
   "cell_type": "code",
   "execution_count": 23,
   "metadata": {},
   "outputs": [
    {
     "data": {
      "text/plain": [
       "70000"
      ]
     },
     "execution_count": 23,
     "metadata": {},
     "output_type": "execute_result"
    }
   ],
   "source": [
    "struct['molecule_name'].nunique()"
   ]
  },
  {
   "cell_type": "code",
   "execution_count": 24,
   "metadata": {},
   "outputs": [],
   "source": [
    "fdefName = os.path.join(RDConfig.RDDataDir,'BaseFeatures.fdef')\n",
    "factory = ChemicalFeatures.BuildFeatureFactory(fdefName)"
   ]
  },
  {
   "cell_type": "code",
   "execution_count": 25,
   "metadata": {},
   "outputs": [],
   "source": [
    "atfn = {'Acceptor':0,\n",
    "         'Aromatic':1,\n",
    "         'Donor':2,\n",
    "         'Hydrophobe':3,\n",
    "         'LumpedHydrophobe':4,\n",
    "         'NegIonizable':5,\n",
    "         'PosIonizable':6,\n",
    "         'ZnBinder':7}"
   ]
  },
  {
   "cell_type": "code",
   "execution_count": 26,
   "metadata": {},
   "outputs": [],
   "source": [
    "#ADD DISTANCE TO TARGET FEATURE\n",
    "def getAtomNodeFeats(molname, mols, data):\n",
    "    symbol, x, y, z, gr,eneg,radius,atomnum,nv = 2,3,4,5,6,7,8,9,10\n",
    "    mol = mols[molname]\n",
    "    feats = factory.GetFeaturesForMol(mol)\n",
    "    atfdict = defaultdict(list)\n",
    "    for i in range(len(feats)):\n",
    "        fam = feats[i].GetFamily()\n",
    "        dl = feats[i].GetAtomIds()\n",
    "        for aid in dl:\n",
    "            atfdict[aid].append(fam)\n",
    "    \n",
    "    l = len(data)\n",
    "    nodef = []\n",
    "    \n",
    "    eems = rdmd.CalcEEMcharges(mol)\n",
    "    spfd = {'S':0,'SP':0.5,'SP2':1/3,'SP3':1/4}\n",
    "    \n",
    "    for i in range(l):\n",
    "        d = data[i]\n",
    "        atom = mol.GetAtomWithIdx(i)\n",
    "        ahyb =  str(atom.GetHybridization())\n",
    "        sym = d[symbol]\n",
    "        hf = 'NONE'\n",
    "        if i in atfdict:\n",
    "            hf = atfdict[i]\n",
    "        ff = [sym=='H',sym=='C',sym=='N',sym=='O',sym=='F',d[atomnum],(int)(atom.IsInRing() == True),\n",
    "              ahyb=='S',ahyb=='SP', ahyb=='SP2', ahyb=='SP3',d[x],d[y],d[z],eems[i],spfd[ahyb],\n",
    "              d[radius],d[eneg],d[gr],NumPiElectrons(atom),0,0]\n",
    "        ff += ([0]*135)#         \n",
    "        newf = [0,0,0,0,0,0,0,0, 0,0,0,0, 0,0,0,0,0,0,0,0,0,0]\n",
    "        newf[-11] = d[nv]\n",
    "        if hf != 'NONE':\n",
    "            for t in hf:\n",
    "                newf[atfn[t]] = 1\n",
    "            \n",
    "        ff += newf\n",
    "        nodef.append(ff)\n",
    "    \n",
    "    lm = molcouples[molname]\n",
    "    for i,(a0,a1) in enumerate(lm):\n",
    "        nodef[a0][22+i] = 1\n",
    "        nodef[a1][22+i] = 1\n",
    "    return nodef"
   ]
  },
  {
   "cell_type": "code",
   "execution_count": 27,
   "metadata": {},
   "outputs": [],
   "source": [
    "@numba.jit(nopython=True)\n",
    "def getAngle(x0,y0,z0,x1,y1,z1):\n",
    "    mag_x0 = np.sqrt(x0**2 + y0**2 + z0**2)\n",
    "    mag_x1 = np.sqrt(x1**2 + y1**2 + z1**2)\n",
    "    dotp = (x0*x1) + (y0* y1) + (z0*z1)\n",
    "    c = dotp/(mag_x0*mag_x1)\n",
    "    if c < -1:\n",
    "        c = -1\n",
    "    elif c > 1:\n",
    "        c = 1\n",
    "    theta = np.arccos(c)\n",
    "    return theta, np.cos(theta), np.sin(theta)"
   ]
  },
  {
   "cell_type": "code",
   "execution_count": 28,
   "metadata": {},
   "outputs": [],
   "source": [
    "def getBondEdgeFeats(molname, mols, data):\n",
    "    x, y, z = 3,4,5\n",
    "    mol = mols[molname]\n",
    "    bonds = mol.GetBonds()\n",
    "    src,dst = [],[]\n",
    "    bondf = []\n",
    "    aed = defaultdict(list)\n",
    "    \n",
    "    btd = {'AROMATIC':0,'SINGLE':1,'DOUBLE':2, 'TRIPLE':3}\n",
    "    #make bidirectional\n",
    "    for bond in bonds:\n",
    "        id0,id1 = bond.GetBeginAtomIdx(), bond.GetEndAtomIdx()\n",
    "        \n",
    "        src.append(id0)\n",
    "        dst.append(id1)\n",
    "        src.append(id1)\n",
    "        dst.append(id0)\n",
    "        \n",
    "        aed[id0].append(id1)\n",
    "        aed[id1].append(id0)\n",
    "        \n",
    "        t0,t1 = data[id0],data[id1]\n",
    "        x0,y0,z0,x1,y1,z1 = t0[x],t0[y],t0[z],t1[x],t1[y],t1[z]   \n",
    "                \n",
    "        d = GetBondLength(mol.GetConformer(),id0,id1)\n",
    "        a,cos,sin = getAngle(x0,y0,z0,x1,y1,z1)\n",
    "        isconj = (int)(bond.GetIsConjugated() == True)\n",
    "        btype =  str(bond.GetBondType())\n",
    "        bt = [0,0,0,0]\n",
    "        bt[btd[btype]] = 1\n",
    "        #angle t0, cos t0, sin t0, angle t1, cos t1, sin t1, angle tv, cos tv, sin tv\n",
    "        ff = [d,a,cos,sin,isconj] + bt + [0,0,0,0,0,0,0,0,0]\n",
    "        bondf.append(ff)\n",
    "        bondf.append(ff)\n",
    "        #[blen,angle,cos,sin,isconj,bt,bt,bt,bt]\n",
    "    edge_index = []\n",
    "    edge_index.append(src)\n",
    "    edge_index.append(dst)\n",
    "    #tonorm: 0,1,2,3,4\n",
    "    return bondf, edge_index, aed    "
   ]
  },
  {
   "cell_type": "code",
   "execution_count": 29,
   "metadata": {
    "scrolled": true
   },
   "outputs": [
    {
     "data": {
      "application/vnd.jupyter.widget-view+json": {
       "model_id": "048824f571e146f1aefe4e415efb807b",
       "version_major": 2,
       "version_minor": 0
      },
      "text/plain": [
       "HBox(children=(IntProgress(value=0, max=70000), HTML(value='')))"
      ]
     },
     "metadata": {},
     "output_type": "display_data"
    },
    {
     "name": "stdout",
     "output_type": "stream",
     "text": [
      "\n"
     ]
    }
   ],
   "source": [
    "mnames = list(mols.keys())\n",
    "\n",
    "datadir = {}\n",
    "for name in tqdm.tqdm_notebook(mnames):\n",
    "    a = g.get_group(name)\n",
    "    nodef = getAtomNodeFeats(name,mols,a.values.tolist())\n",
    "    bondf, edgeidx, aed = getBondEdgeFeats(name,mols,a.values.tolist())\n",
    "    datadir[name] = [nodef, bondf, edgeidx, aed]"
   ]
  },
  {
   "cell_type": "code",
   "execution_count": 30,
   "metadata": {},
   "outputs": [],
   "source": [
    "train= train.drop(['atom_0', 'x_0', 'y_0', 'z_0', 'Gratio_x',\n",
    "            'Eneg_x', 'radius_x', 'atomic_num_x', 'atom_1', 'x_1', 'y_1', 'z_1',\n",
    "            'Gratio_y', 'Eneg_y', 'radius_y', 'atomic_num_y'],axis=1)"
   ]
  },
  {
   "cell_type": "code",
   "execution_count": 31,
   "metadata": {},
   "outputs": [],
   "source": [
    "t = train.values.tolist()"
   ]
  },
  {
   "cell_type": "code",
   "execution_count": 32,
   "metadata": {},
   "outputs": [],
   "source": [
    "@numba.jit(nopython=True)\n",
    "def getDist(x0,y0,z0,x1,y1,z1):\n",
    "    return np.sqrt((x0-x1)**2 + (y0-y1)**2 + (z0-z1)**2)"
   ]
  },
  {
   "cell_type": "code",
   "execution_count": 33,
   "metadata": {},
   "outputs": [],
   "source": [
    "olds = np.seterr(all='raise')"
   ]
  },
  {
   "cell_type": "code",
   "execution_count": 34,
   "metadata": {},
   "outputs": [],
   "source": [
    "train = train.drop(['numv_x','numv_y'],axis=1)"
   ]
  },
  {
   "cell_type": "code",
   "execution_count": 35,
   "metadata": {
    "scrolled": true
   },
   "outputs": [
    {
     "data": {
      "application/vnd.jupyter.widget-view+json": {
       "model_id": "cd920e2dbee643888542cef13a30986d",
       "version_major": 2,
       "version_minor": 0
      },
      "text/plain": [
       "HBox(children=(IntProgress(value=0, max=586078), HTML(value='')))"
      ]
     },
     "metadata": {},
     "output_type": "display_data"
    },
    {
     "name": "stdout",
     "output_type": "stream",
     "text": [
      "\n"
     ]
    }
   ],
   "source": [
    "trainlist = []\n",
    "l = len(t)\n",
    "for dp in tqdm.tqdm_notebook(t):\n",
    "    name, id0, id1, y = dp[1], dp[2], dp[3], dp[4]\n",
    "    n,b,e,aed = datadir[name]\n",
    "    nodef,bondf,edgeidx = np.array(n), np.array(b), np.array(e)\n",
    "    nodef,bondf,edgeidx = nodef.tolist(),bondf.tolist(),edgeidx.tolist()\n",
    "    \n",
    "    nodef[id0][-1] = 1\n",
    "    nodef[id1][-1] = 1\n",
    "    \n",
    "    nid0 = nodef[id0]\n",
    "    nid1 = nodef[id1]\n",
    "    x0,y0,z0 = nid0[11],nid0[12],nid0[13]\n",
    "    x1,y1,z1 = nid1[11],nid1[12],nid1[13]\n",
    "    xf,yf,zf = x0-x1,y0-y1,z0-z1\n",
    "    \n",
    "    ll = len(nodef)\n",
    "    ai0 = aed[id0]\n",
    "    ai1 = aed[id1]\n",
    "    for i in range(ll):\n",
    "        if i not in ai0 and i != id0:\n",
    "            temp = [0,0,0,0,0,0,0,0,0,0,0,0,0,0,0,0,0,0]\n",
    "            tnf = nodef[i]\n",
    "            xi,yi,zi = tnf[11],tnf[12],tnf[13]\n",
    "            temp[0] = getDist(xi,yi,zi,x0,y0,z0)\n",
    "            theta,cos,sin = getAngle(xi,yi,zi,x0,y0,z0)\n",
    "            temp[1] = theta\n",
    "            temp[2] = cos\n",
    "            temp[3] = sin\n",
    "            \n",
    "            bondf.append(temp)\n",
    "            bondf.append(temp)\n",
    "            \n",
    "            edgeidx[0].append(i)\n",
    "            edgeidx[1].append(id0)\n",
    "            \n",
    "            edgeidx[0].append(id0)\n",
    "            edgeidx[1].append(i)\n",
    "        if i not in ai1 and  i != id1:\n",
    "            temp = [0,0,0,0,0,0,0,0,0,0,0,0,0,0,0,0,0,0]\n",
    "            tnf = nodef[i]\n",
    "            xi,yi,zi = tnf[11],tnf[12],tnf[13]\n",
    "            temp[0] = getDist(xi,yi,zi,x1,y1,z1)\n",
    "            theta,cos,sin = getAngle(xi,yi,zi,x1,y1,z1)\n",
    "            temp[1] = theta\n",
    "            temp[2] = cos\n",
    "            temp[3] = sin\n",
    "            \n",
    "            bondf.append(temp)\n",
    "            bondf.append(temp)\n",
    "            \n",
    "            edgeidx[0].append(i)\n",
    "            edgeidx[1].append(id1)\n",
    "            \n",
    "            edgeidx[0].append(id1)\n",
    "            edgeidx[1].append(i)\n",
    "    bonds = [x for x in zip(edgeidx[0],edgeidx[1])]\n",
    "    for i,bf in enumerate(bondf):\n",
    "        i0,i1 = bonds[i]\n",
    "        nfa,nfb = nodef[i0],nodef[i1]\n",
    "        xa,ya,za = nfa[11],nfa[12],nfa[13]\n",
    "        xb,yb,zb = nfb[11],nfb[12],nfb[13]\n",
    "        xi,yi,zi = xa-xb,ya-yb,za-zb\n",
    "        a0,cos0,sin0 = getAngle(xi,yi,zi,x0,y0,z0)\n",
    "        a1,cos1,sin1 = getAngle(xi,yi,zi,x1,y1,z1)\n",
    "        a2,cos2,sin2 = getAngle(xi,yi,zi,xf,yf,zf)\n",
    "        bf[-9] = a0\n",
    "        bf[-8] = cos0\n",
    "        bf[-7] = sin0\n",
    "        bf[-6] = a1\n",
    "        bf[-5] = cos1\n",
    "        bf[-4] = sin1\n",
    "        bf[-3] = a2\n",
    "        bf[-2] = cos2\n",
    "        bf[-1] = sin2\n",
    "\n",
    "    for i,nf in enumerate(nodef):\n",
    "        if i == id0:\n",
    "            nf[20] = 0\n",
    "            nf[21] = getDist(x0,y0,z0,x1,y1,z1)\n",
    "            ang,cos,sin = getAngle(x0,y0,z0,xf,yf,zf)\n",
    "            nf[-14] = ang\n",
    "            nf[-13] = cos\n",
    "            nf[-12] = sin\n",
    "            nf[-7] = 0\n",
    "            nf[-6] = 1\n",
    "            nf[-5] = 0\n",
    "            a1,cos,sin = getAngle(x0,y0,z0,x1,y1,z1)\n",
    "            nf[-4] = a1\n",
    "            nf[-3] = cos\n",
    "            nf[-2] = sin\n",
    "            nf[-10] = x1-x0\n",
    "            nf[-9] = y1-y0\n",
    "            nf[-8] = z1-z0\n",
    "            nf[11] = 0\n",
    "            nf[12] = 0\n",
    "            nf[13] = 0\n",
    "            \n",
    "        elif i == id1:\n",
    "            nf[21] = 0\n",
    "            nf[20] = getDist(x0,y0,z0,x1,y1,z1)\n",
    "            ang,cos,sin = getAngle(x1,y1,z1,xf,yf,zf)\n",
    "            nf[-14] = ang\n",
    "            nf[-13] = cos\n",
    "            nf[-12] = sin\n",
    "            a0,cos,sin = getAngle(x0,y0,z0,x1,y1,z1)\n",
    "            nf[-7] = a0\n",
    "            nf[-6] = cos\n",
    "            nf[-5] = sin\n",
    "            nf[-4] = 0\n",
    "            nf[-3] = 1\n",
    "            nf[-2] = 0\n",
    "            nf[-10] = 0\n",
    "            nf[-9] = 0\n",
    "            nf[-8] = 0\n",
    "            nf[11] = x0-x1\n",
    "            nf[12] = y0-y1\n",
    "            nf[13] = z0-z1\n",
    "        else:\n",
    "            xi,yi,zi = nf[11],nf[12],nf[13]\n",
    "            nf[21] = getDist(xi,yi,zi,x1,y1,z1)\n",
    "            nf[20] = getDist(xi,yi,zi,x0,y0,z0)\n",
    "            ang,cos,sin = getAngle(xi,yi,zi,xf,yf,zf)\n",
    "            nf[-14] = ang\n",
    "            nf[-13] = cos\n",
    "            nf[-12] = sin\n",
    "            a0,cos0,sin0 = getAngle(xi,yi,zi,x0,y0,z0)\n",
    "            a1,cos1,sin1 = getAngle(xi,yi,zi,x1,y1,z1)\n",
    "            nf[-7] = a0\n",
    "            nf[-6] = cos0\n",
    "            nf[-5] = sin0\n",
    "            nf[-4] = a1\n",
    "            nf[-3] = cos1\n",
    "            nf[-2] = sin1\n",
    "            nf[-10] = x1-xi\n",
    "            nf[-9] = y1-yi\n",
    "            nf[-8] = z1-zi\n",
    "            nf[11] = x0-xi\n",
    "            nf[12] = y0-yi\n",
    "            nf[13] = z0-zi\n",
    "\n",
    "    x = torch.tensor(nodef, dtype=torch.float)\n",
    "    edge_index = torch.tensor(edgeidx, dtype=torch.long)\n",
    "    edge_attr = torch.tensor(bondf,dtype=torch.float)\n",
    "    data = Data(x=x, edge_index=edge_index, edge_attr=edge_attr,y=y)\n",
    "\n",
    "    trainlist.append(data)"
   ]
  },
  {
   "cell_type": "code",
   "execution_count": 36,
   "metadata": {},
   "outputs": [],
   "source": [
    "val= val.drop(['atom_0', 'x_0', 'y_0', 'z_0', 'Gratio_x',\n",
    "            'Eneg_x', 'radius_x', 'atomic_num_x', 'atom_1', 'x_1', 'y_1', 'z_1',\n",
    "            'Gratio_y', 'Eneg_y', 'radius_y', 'atomic_num_y','numv_x','numv_y'],axis=1)"
   ]
  },
  {
   "cell_type": "code",
   "execution_count": 37,
   "metadata": {},
   "outputs": [],
   "source": [
    "v = val.values.tolist()"
   ]
  },
  {
   "cell_type": "code",
   "execution_count": 38,
   "metadata": {},
   "outputs": [
    {
     "data": {
      "text/html": [
       "<div>\n",
       "<style scoped>\n",
       "    .dataframe tbody tr th:only-of-type {\n",
       "        vertical-align: middle;\n",
       "    }\n",
       "\n",
       "    .dataframe tbody tr th {\n",
       "        vertical-align: top;\n",
       "    }\n",
       "\n",
       "    .dataframe thead th {\n",
       "        text-align: right;\n",
       "    }\n",
       "</style>\n",
       "<table border=\"1\" class=\"dataframe\">\n",
       "  <thead>\n",
       "    <tr style=\"text-align: right;\">\n",
       "      <th></th>\n",
       "      <th>molecule_name</th>\n",
       "      <th>atom_index</th>\n",
       "      <th>atom</th>\n",
       "      <th>x</th>\n",
       "      <th>y</th>\n",
       "      <th>z</th>\n",
       "      <th>Gratio</th>\n",
       "      <th>Eneg</th>\n",
       "      <th>radius</th>\n",
       "      <th>atomic_num</th>\n",
       "      <th>numv</th>\n",
       "    </tr>\n",
       "  </thead>\n",
       "  <tbody>\n",
       "    <tr>\n",
       "      <th>0</th>\n",
       "      <td>dsgdb9nsd_000001</td>\n",
       "      <td>0</td>\n",
       "      <td>C</td>\n",
       "      <td>-0.012698</td>\n",
       "      <td>1.085804</td>\n",
       "      <td>0.008001</td>\n",
       "      <td>10.705</td>\n",
       "      <td>2.55</td>\n",
       "      <td>170</td>\n",
       "      <td>6</td>\n",
       "      <td>4</td>\n",
       "    </tr>\n",
       "    <tr>\n",
       "      <th>1</th>\n",
       "      <td>dsgdb9nsd_000001</td>\n",
       "      <td>1</td>\n",
       "      <td>H</td>\n",
       "      <td>0.002150</td>\n",
       "      <td>-0.006031</td>\n",
       "      <td>0.001976</td>\n",
       "      <td>42.576</td>\n",
       "      <td>2.20</td>\n",
       "      <td>110</td>\n",
       "      <td>1</td>\n",
       "      <td>1</td>\n",
       "    </tr>\n",
       "    <tr>\n",
       "      <th>2</th>\n",
       "      <td>dsgdb9nsd_000001</td>\n",
       "      <td>2</td>\n",
       "      <td>H</td>\n",
       "      <td>1.011731</td>\n",
       "      <td>1.463751</td>\n",
       "      <td>0.000277</td>\n",
       "      <td>42.576</td>\n",
       "      <td>2.20</td>\n",
       "      <td>110</td>\n",
       "      <td>1</td>\n",
       "      <td>1</td>\n",
       "    </tr>\n",
       "    <tr>\n",
       "      <th>3</th>\n",
       "      <td>dsgdb9nsd_000001</td>\n",
       "      <td>3</td>\n",
       "      <td>H</td>\n",
       "      <td>-0.540815</td>\n",
       "      <td>1.447527</td>\n",
       "      <td>-0.876644</td>\n",
       "      <td>42.576</td>\n",
       "      <td>2.20</td>\n",
       "      <td>110</td>\n",
       "      <td>1</td>\n",
       "      <td>1</td>\n",
       "    </tr>\n",
       "    <tr>\n",
       "      <th>4</th>\n",
       "      <td>dsgdb9nsd_000001</td>\n",
       "      <td>4</td>\n",
       "      <td>H</td>\n",
       "      <td>-0.523814</td>\n",
       "      <td>1.437933</td>\n",
       "      <td>0.906397</td>\n",
       "      <td>42.576</td>\n",
       "      <td>2.20</td>\n",
       "      <td>110</td>\n",
       "      <td>1</td>\n",
       "      <td>1</td>\n",
       "    </tr>\n",
       "  </tbody>\n",
       "</table>\n",
       "</div>"
      ],
      "text/plain": [
       "      molecule_name  atom_index atom         x         y         z  Gratio  \\\n",
       "0  dsgdb9nsd_000001           0    C -0.012698  1.085804  0.008001  10.705   \n",
       "1  dsgdb9nsd_000001           1    H  0.002150 -0.006031  0.001976  42.576   \n",
       "2  dsgdb9nsd_000001           2    H  1.011731  1.463751  0.000277  42.576   \n",
       "3  dsgdb9nsd_000001           3    H -0.540815  1.447527 -0.876644  42.576   \n",
       "4  dsgdb9nsd_000001           4    H -0.523814  1.437933  0.906397  42.576   \n",
       "\n",
       "   Eneg  radius  atomic_num  numv  \n",
       "0  2.55     170           6     4  \n",
       "1  2.20     110           1     1  \n",
       "2  2.20     110           1     1  \n",
       "3  2.20     110           1     1  \n",
       "4  2.20     110           1     1  "
      ]
     },
     "execution_count": 38,
     "metadata": {},
     "output_type": "execute_result"
    }
   ],
   "source": [
    "molnames = list(val['molecule_name'].unique())\n",
    "mols = OrderedDict()\n",
    "for name in molnames:\n",
    "    mols[name] = d[name]\n",
    "struct =  structures[structures['molecule_name'].isin(molnames)]\n",
    "g = struct.groupby('molecule_name')\n",
    "struct.head()"
   ]
  },
  {
   "cell_type": "code",
   "execution_count": 39,
   "metadata": {},
   "outputs": [
    {
     "data": {
      "application/vnd.jupyter.widget-view+json": {
       "model_id": "98d99c41fb4649189dc5bf47f85083d9",
       "version_major": 2,
       "version_minor": 0
      },
      "text/plain": [
       "HBox(children=(IntProgress(value=0, max=14747), HTML(value='')))"
      ]
     },
     "metadata": {},
     "output_type": "display_data"
    },
    {
     "name": "stdout",
     "output_type": "stream",
     "text": [
      "\n"
     ]
    }
   ],
   "source": [
    "mnames = list(mols.keys())\n",
    "datadir = {}\n",
    "for name in tqdm.tqdm_notebook(mnames):\n",
    "    a = g.get_group(name)\n",
    "    nodef = getAtomNodeFeats(name,mols,a.values.tolist())\n",
    "    bondf, edgeidx, aed = getBondEdgeFeats(name,mols,a.values.tolist())\n",
    "    datadir[name] = [nodef, bondf, edgeidx, aed]"
   ]
  },
  {
   "cell_type": "code",
   "execution_count": 40,
   "metadata": {},
   "outputs": [
    {
     "data": {
      "application/vnd.jupyter.widget-view+json": {
       "model_id": "bde37771a18c4ce681d8988502ea3421",
       "version_major": 2,
       "version_minor": 0
      },
      "text/plain": [
       "HBox(children=(IntProgress(value=0, max=123338), HTML(value='')))"
      ]
     },
     "metadata": {},
     "output_type": "display_data"
    },
    {
     "name": "stdout",
     "output_type": "stream",
     "text": [
      "\n"
     ]
    }
   ],
   "source": [
    "vallist = []\n",
    "l = len(v)\n",
    "for dp in tqdm.tqdm_notebook(v):\n",
    "    name, id0, id1, y = dp[1], dp[2], dp[3], dp[4]\n",
    "    n,b,e,aed = datadir[name]\n",
    "    nodef,bondf,edgeidx = np.array(n), np.array(b), np.array(e)\n",
    "    nodef,bondf,edgeidx = nodef.tolist(),bondf.tolist(),edgeidx.tolist()\n",
    "    \n",
    "    nodef[id0][-1] = 1\n",
    "    nodef[id1][-1] = 1\n",
    "    \n",
    "    nid0 = nodef[id0]\n",
    "    nid1 = nodef[id1]\n",
    "    x0,y0,z0 = nid0[11],nid0[12],nid0[13]\n",
    "    x1,y1,z1 = nid1[11],nid1[12],nid1[13]\n",
    "    xf,yf,zf = x0-x1,y0-y1,z0-z1\n",
    "    \n",
    "    ll = len(nodef)\n",
    "    ai0 = aed[id0]\n",
    "    ai1 = aed[id1]\n",
    "    for i in range(ll):\n",
    "        if i not in ai0 and i != id0:\n",
    "            temp = [0,0,0,0,0,0,0,0,0,0,0,0,0,0,0,0,0,0]\n",
    "            tnf = nodef[i]\n",
    "            xi,yi,zi = tnf[11],tnf[12],tnf[13]\n",
    "            temp[0] = getDist(xi,yi,zi,x0,y0,z0)\n",
    "            theta,cos,sin = getAngle(xi,yi,zi,x0,y0,z0)\n",
    "            temp[1] = theta\n",
    "            temp[2] = cos\n",
    "            temp[3] = sin\n",
    "            \n",
    "            bondf.append(temp)\n",
    "            bondf.append(temp)\n",
    "            \n",
    "            edgeidx[0].append(i)\n",
    "            edgeidx[1].append(id0)\n",
    "            \n",
    "            edgeidx[0].append(id0)\n",
    "            edgeidx[1].append(i)\n",
    "        if i not in ai1 and  i != id1:\n",
    "            temp = [0,0,0,0,0,0,0,0,0,0,0,0,0,0,0,0,0,0]\n",
    "            tnf = nodef[i]\n",
    "            xi,yi,zi = tnf[11],tnf[12],tnf[13]\n",
    "            temp[0] = getDist(xi,yi,zi,x1,y1,z1)\n",
    "            theta,cos,sin = getAngle(xi,yi,zi,x1,y1,z1)\n",
    "            temp[1] = theta\n",
    "            temp[2] = cos\n",
    "            temp[3] = sin\n",
    "            \n",
    "            bondf.append(temp)\n",
    "            bondf.append(temp)\n",
    "            \n",
    "            edgeidx[0].append(i)\n",
    "            edgeidx[1].append(id1)\n",
    "            \n",
    "            edgeidx[0].append(id1)\n",
    "            edgeidx[1].append(i)\n",
    "    bonds = [x for x in zip(edgeidx[0],edgeidx[1])]\n",
    "    for i,bf in enumerate(bondf):\n",
    "        i0,i1 = bonds[i]\n",
    "        nfa,nfb = nodef[i0],nodef[i1]\n",
    "        xa,ya,za = nfa[11],nfa[12],nfa[13]\n",
    "        xb,yb,zb = nfb[11],nfb[12],nfb[13]\n",
    "        xi,yi,zi = xa-xb,ya-yb,za-zb\n",
    "        a0,cos0,sin0 = getAngle(xi,yi,zi,x0,y0,z0)\n",
    "        a1,cos1,sin1 = getAngle(xi,yi,zi,x1,y1,z1)\n",
    "        a2,cos2,sin2 = getAngle(xi,yi,zi,xf,yf,zf)\n",
    "        bf[-9] = a0\n",
    "        bf[-8] = cos0\n",
    "        bf[-7] = sin0\n",
    "        bf[-6] = a1\n",
    "        bf[-5] = cos1\n",
    "        bf[-4] = sin1\n",
    "        bf[-3] = a2\n",
    "        bf[-2] = cos2\n",
    "        bf[-1] = sin2\n",
    "    for i,nf in enumerate(nodef):\n",
    "        if i == id0:\n",
    "            nf[20] = 0\n",
    "            nf[21] = getDist(x0,y0,z0,x1,y1,z1)\n",
    "            ang,cos,sin = getAngle(x0,y0,z0,xf,yf,zf)\n",
    "            nf[-14] = ang\n",
    "            nf[-13] = cos\n",
    "            nf[-12] = sin\n",
    "            nf[-7] = 0\n",
    "            nf[-6] = 1\n",
    "            nf[-5] = 0\n",
    "            a1,cos,sin = getAngle(x0,y0,z0,x1,y1,z1)\n",
    "            nf[-4] = a1\n",
    "            nf[-3] = cos\n",
    "            nf[-2] = sin\n",
    "            nf[-10] = x1-x0\n",
    "            nf[-9] = y1-y0\n",
    "            nf[-8] = z1-z0\n",
    "            nf[11] = 0\n",
    "            nf[12] = 0\n",
    "            nf[13] = 0\n",
    "            \n",
    "        elif i == id1:\n",
    "            nf[21] = 0\n",
    "            nf[20] = getDist(x0,y0,z0,x1,y1,z1)\n",
    "            ang,cos,sin = getAngle(x1,y1,z1,xf,yf,zf)\n",
    "            nf[-14] = ang\n",
    "            nf[-13] = cos\n",
    "            nf[-12] = sin\n",
    "            a0,cos,sin = getAngle(x0,y0,z0,x1,y1,z1)\n",
    "            nf[-7] = a0\n",
    "            nf[-6] = cos\n",
    "            nf[-5] = sin\n",
    "            nf[-4] = 0\n",
    "            nf[-3] = 1\n",
    "            nf[-2] = 0\n",
    "            nf[-10] = 0\n",
    "            nf[-9] = 0\n",
    "            nf[-8] = 0\n",
    "            nf[11] = x0-x1\n",
    "            nf[12] = y0-y1\n",
    "            nf[13] = z0-z1\n",
    "        else:\n",
    "            xi,yi,zi = nf[11],nf[12],nf[13]\n",
    "            nf[21] = getDist(xi,yi,zi,x1,y1,z1)\n",
    "            nf[20] = getDist(xi,yi,zi,x0,y0,z0)\n",
    "            ang,cos,sin = getAngle(xi,yi,zi,xf,yf,zf)\n",
    "            nf[-14] = ang\n",
    "            nf[-13] = cos\n",
    "            nf[-12] = sin\n",
    "            a0,cos0,sin0 = getAngle(xi,yi,zi,x0,y0,z0)\n",
    "            a1,cos1,sin1 = getAngle(xi,yi,zi,x1,y1,z1)\n",
    "            nf[-7] = a0\n",
    "            nf[-6] = cos0\n",
    "            nf[-5] = sin0\n",
    "            nf[-4] = a1\n",
    "            nf[-3] = cos1\n",
    "            nf[-2] = sin1\n",
    "            nf[-10] = x1-xi\n",
    "            nf[-9] = y1-yi\n",
    "            nf[-8] = z1-zi\n",
    "            nf[11] = x0-xi\n",
    "            nf[12] = y0-yi\n",
    "            nf[13] = z0-zi\n",
    "            \n",
    "    x = torch.tensor(nodef, dtype=torch.float)\n",
    "    edge_index = torch.tensor(edgeidx, dtype=torch.long)\n",
    "    edge_attr = torch.tensor(bondf,dtype=torch.float)\n",
    "    data = Data(x=x, edge_index=edge_index, edge_attr=edge_attr,y=y)\n",
    "    \n",
    "    vallist.append(data)"
   ]
  },
  {
   "cell_type": "code",
   "execution_count": 41,
   "metadata": {},
   "outputs": [],
   "source": [
    "tt = []\n",
    "for d in trainlist:\n",
    "    tt.append(d.y)\n",
    "for d in vallist:\n",
    "    tt.append(d.y)"
   ]
  },
  {
   "cell_type": "code",
   "execution_count": 42,
   "metadata": {},
   "outputs": [],
   "source": [
    "tmean = np.mean(tt)\n",
    "tsd = np.std(tt)"
   ]
  },
  {
   "cell_type": "code",
   "execution_count": 43,
   "metadata": {},
   "outputs": [
    {
     "name": "stdout",
     "output_type": "stream",
     "text": [
      "94.97615286418686 18.27722399839607\n"
     ]
    }
   ],
   "source": [
    "print(tmean,tsd)"
   ]
  },
  {
   "cell_type": "code",
   "execution_count": 44,
   "metadata": {},
   "outputs": [
    {
     "data": {
      "image/png": "[encoded data removed]",
      "text/plain": [
       "<Figure size 432x288 with 1 Axes>"
      ]
     },
     "metadata": {
      "image/png": {
       "height": 248,
       "width": 388
      },
      "needs_background": "light"
     },
     "output_type": "display_data"
    }
   ],
   "source": [
    "plt.hist(tt,bins=500)\n",
    "plt.show()"
   ]
  },
  {
   "cell_type": "code",
   "execution_count": 45,
   "metadata": {},
   "outputs": [],
   "source": [
    "tt = np.array(tt)"
   ]
  },
  {
   "cell_type": "code",
   "execution_count": 46,
   "metadata": {},
   "outputs": [],
   "source": [
    "for d in trainlist:\n",
    "    d.y = (d.y-tmean)/tsd\n",
    "for d in vallist:\n",
    "    d.y = (d.y-tmean)/tsd"
   ]
  },
  {
   "cell_type": "code",
   "execution_count": 47,
   "metadata": {},
   "outputs": [],
   "source": [
    "tt2 = []\n",
    "for d in trainlist:\n",
    "    tt2.append(d.y)\n",
    "for d in vallist:\n",
    "    tt2.append(d.y)"
   ]
  },
  {
   "cell_type": "code",
   "execution_count": 48,
   "metadata": {},
   "outputs": [],
   "source": [
    "tt2 = np.array(tt2)"
   ]
  },
  {
   "cell_type": "code",
   "execution_count": 49,
   "metadata": {
    "scrolled": false
   },
   "outputs": [
    {
     "data": {
      "image/png": "[encoded data removed]",
      "text/plain": [
       "<Figure size 432x288 with 1 Axes>"
      ]
     },
     "metadata": {
      "image/png": {
       "height": 248,
       "width": 388
      },
      "needs_background": "light"
     },
     "output_type": "display_data"
    }
   ],
   "source": [
    "plt.hist(tt2,bins=500)\n",
    "plt.show()"
   ]
  },
  {
   "cell_type": "code",
   "execution_count": 50,
   "metadata": {},
   "outputs": [],
   "source": [
    "val_loader = DataLoader(vallist, batch_size=256,shuffle=False)\n",
    "train_loader = DataLoader(trainlist, batch_size=256,shuffle=True)"
   ]
  },
  {
   "cell_type": "code",
   "execution_count": 51,
   "metadata": {},
   "outputs": [],
   "source": [
    "#import gc\n",
    "#del train_loader,val_loader,model\n",
    "#gc.collect()\n",
    "#torch.cuda.empty_cache()"
   ]
  },
  {
   "cell_type": "code",
   "execution_count": 52,
   "metadata": {},
   "outputs": [],
   "source": [
    "ndim =128\n",
    "edim = 64"
   ]
  },
  {
   "cell_type": "code",
   "execution_count": 53,
   "metadata": {},
   "outputs": [],
   "source": [
    "class Net(torch.nn.Module):\n",
    "    def __init__(self):\n",
    "        super(Net, self).__init__()\n",
    "        \n",
    "        self.lin0 = torch.nn.Linear(179, ndim)\n",
    "        self.bn0 = BatchNorm1d(ndim)\n",
    "        self.d0 = Dropout(0.1)\n",
    "        \n",
    "        nn = Sequential(Linear(18, edim), ReLU(), Linear(edim,2*edim), ReLU(),Linear(2*edim, ndim * ndim))\n",
    "        self.conv = NNConv(ndim, ndim, nn, aggr='max', root_weight=True)\n",
    "        self.gru = GRU(ndim, ndim)\n",
    "        \n",
    "        self.set2set = Set2Set(ndim, processing_steps=3)\n",
    "        self.lin1 = torch.nn.Linear(2*ndim, 192)\n",
    "        self.lin2 = torch.nn.Linear(192,160)\n",
    "        self.lin3 = torch.nn.Linear(160, ndim)\n",
    "        self.lin4 = torch.nn.Linear(ndim, 1)\n",
    "\n",
    "    def forward(self, data):\n",
    "        out = F.selu(self.lin0(data.x))\n",
    "        out = self.bn0(out)\n",
    "        out = self.d0(out)\n",
    "        h = out.unsqueeze(0)\n",
    "        \n",
    "        for i in range(3):\n",
    "            m = F.selu(self.conv(out, data.edge_index, data.edge_attr))\n",
    "            out, h = self.gru(m.unsqueeze(0), h)\n",
    "            out = out.squeeze(0)\n",
    "        \n",
    "        out = self.set2set(out, data.batch)\n",
    "        out = F.selu(self.lin1(out))\n",
    "        out = F.selu(self.lin2(out))\n",
    "        out = F.selu(self.lin3(out))\n",
    "        out = self.lin4(out)\n",
    "        \n",
    "        return out.view(-1)"
   ]
  },
  {
   "cell_type": "code",
   "execution_count": 54,
   "metadata": {},
   "outputs": [],
   "source": [
    "# device = torch.device('cuda' if torch.cuda.is_available() else 'cpu')\n",
    "# model = Net().to(device)\n",
    "# #model = torch.load('MPNN_64DIM_MODEL.pth')\n",
    "# optimizer = torch.optim.Adam(model.parameters(), lr=0.001,weight_decay=0.00001)\n",
    "# scheduler = torch.optim.lr_scheduler.ReduceLROnPlateau(optimizer, mode='min', factor=0.85, patience=5, min_lr=0.00000001)"
   ]
  },
  {
   "cell_type": "code",
   "execution_count": 55,
   "metadata": {},
   "outputs": [],
   "source": [
    "import math\n",
    "import torch\n",
    "from torch.optim.optimizer import Optimizer, required\n",
    "\n",
    "class RAdam(Optimizer):\n",
    "\n",
    "    def __init__(self, params, lr=1e-3, betas=(0.9, 0.999), eps=1e-8, weight_decay=0):\n",
    "        defaults = dict(lr=lr, betas=betas, eps=eps, weight_decay=weight_decay)\n",
    "        self.buffer = [[None, None, None] for ind in range(10)]\n",
    "        super(RAdam, self).__init__(params, defaults)\n",
    "\n",
    "    def __setstate__(self, state):\n",
    "        super(RAdam, self).__setstate__(state)\n",
    "\n",
    "    def step(self, closure=None):\n",
    "\n",
    "        loss = None\n",
    "        if closure is not None:\n",
    "            loss = closure()\n",
    "\n",
    "        for group in self.param_groups:\n",
    "\n",
    "            for p in group['params']:\n",
    "                if p.grad is None:\n",
    "                    continue\n",
    "                grad = p.grad.data.float()\n",
    "                if grad.is_sparse:\n",
    "                    raise RuntimeError('RAdam does not support sparse gradients')\n",
    "\n",
    "                p_data_fp32 = p.data.float()\n",
    "\n",
    "                state = self.state[p]\n",
    "\n",
    "                if len(state) == 0:\n",
    "                    state['step'] = 0\n",
    "                    state['exp_avg'] = torch.zeros_like(p_data_fp32)\n",
    "                    state['exp_avg_sq'] = torch.zeros_like(p_data_fp32)\n",
    "                else:\n",
    "                    state['exp_avg'] = state['exp_avg'].type_as(p_data_fp32)\n",
    "                    state['exp_avg_sq'] = state['exp_avg_sq'].type_as(p_data_fp32)\n",
    "\n",
    "                exp_avg, exp_avg_sq = state['exp_avg'], state['exp_avg_sq']\n",
    "                beta1, beta2 = group['betas']\n",
    "\n",
    "                exp_avg_sq.mul_(beta2).addcmul_(1 - beta2, grad, grad)\n",
    "                exp_avg.mul_(beta1).add_(1 - beta1, grad)\n",
    "\n",
    "                state['step'] += 1\n",
    "                buffered = self.buffer[int(state['step'] % 10)]\n",
    "                if state['step'] == buffered[0]:\n",
    "                    N_sma, step_size = buffered[1], buffered[2]\n",
    "                else:\n",
    "                    buffered[0] = state['step']\n",
    "                    beta2_t = beta2 ** state['step']\n",
    "                    N_sma_max = 2 / (1 - beta2) - 1\n",
    "                    N_sma = N_sma_max - 2 * state['step'] * beta2_t / (1 - beta2_t)\n",
    "                    buffered[1] = N_sma\n",
    "\n",
    "                    # more conservative since it's an approximated value\n",
    "                    if N_sma >= 5:\n",
    "                        step_size = group['lr'] * math.sqrt((1 - beta2_t) * (N_sma - 4) / (N_sma_max - 4) * (N_sma - 2) / N_sma * N_sma_max / (N_sma_max - 2)) / (1 - beta1 ** state['step'])\n",
    "                    else:\n",
    "                        step_size = group['lr'] / (1 - beta1 ** state['step'])\n",
    "                    buffered[2] = step_size\n",
    "\n",
    "                if group['weight_decay'] != 0:\n",
    "                    p_data_fp32.add_(-group['weight_decay'] * group['lr'], p_data_fp32)\n",
    "\n",
    "                # more conservative since it's an approximated value\n",
    "                if N_sma >= 5:                    \n",
    "                    denom = exp_avg_sq.sqrt().add_(group['eps'])\n",
    "                    p_data_fp32.addcdiv_(-step_size, exp_avg, denom)\n",
    "                else:\n",
    "                    p_data_fp32.add_(-step_size, exp_avg)\n",
    "\n",
    "                p.data.copy_(p_data_fp32)\n",
    "\n",
    "        return loss"
   ]
  },
  {
   "cell_type": "code",
   "execution_count": 56,
   "metadata": {},
   "outputs": [
    {
     "name": "stdout",
     "output_type": "stream",
     "text": [
      "0.2955807857491468\n"
     ]
    }
   ],
   "source": [
    "xd = torch.load('Temp/t1.pth')\n",
    "model = xd['bestmodel']\n",
    "lrr = xd['lr']\n",
    "ep = 301-xd['epoch']\n",
    "print(xd['val_error'])"
   ]
  },
  {
   "cell_type": "code",
   "execution_count": 57,
   "metadata": {},
   "outputs": [],
   "source": [
    "device = torch.device('cuda' if torch.cuda.is_available() else 'cpu')\n",
    "model = model.to(device)\n",
    "optimizer = RAdam(model.parameters(), lr=0.001,weight_decay=0.00001)\n",
    "scheduler = torch.optim.lr_scheduler.ReduceLROnPlateau(optimizer, mode='min', factor=0.85, patience=5, min_lr=0.00000001)"
   ]
  },
  {
   "cell_type": "code",
   "execution_count": 58,
   "metadata": {},
   "outputs": [],
   "source": [
    "# device = torch.device('cuda' if torch.cuda.is_available() else 'cpu')\n",
    "# model = Net().to(device)\n",
    "# #model = torch.load('MPNN_64DIM_MODEL.pth')\n",
    "# optimizer = RAdam(model.parameters(), lr=0.001,weight_decay=0.00001)\n",
    "# scheduler = torch.optim.lr_scheduler.ReduceLROnPlateau(optimizer, mode='min', factor=0.85, patience=5, min_lr=0.00000001)"
   ]
  },
  {
   "cell_type": "code",
   "execution_count": 59,
   "metadata": {},
   "outputs": [],
   "source": [
    "torch.cuda.empty_cache()"
   ]
  },
  {
   "cell_type": "code",
   "execution_count": 60,
   "metadata": {},
   "outputs": [],
   "source": [
    "def train(epoch):\n",
    "    model.train()\n",
    "    loss_all = 0\n",
    "\n",
    "    for data in train_loader:\n",
    "        data = data.to(device)\n",
    "        optimizer.zero_grad()\n",
    "        #loss = torch.log(F.l1_loss(model(data),data.y)+ 4e-9)\n",
    "        loss = F.l1_loss(model(data),data.y)\n",
    "        loss.backward()\n",
    "        loss_all += loss.item() * data.num_graphs\n",
    "        optimizer.step()\n",
    "    return loss_all / len(train_loader.dataset)\n",
    "\n",
    "def test(loader):\n",
    "    model.eval()\n",
    "    error = 0\n",
    "    for data in loader:\n",
    "        data = data.to(device)\n",
    "        error += (model(data) * tsd - data.y * tsd).abs().sum().item()  # MAE\n",
    "    return error / len(loader.dataset)"
   ]
  },
  {
   "cell_type": "code",
   "execution_count": 61,
   "metadata": {},
   "outputs": [],
   "source": [
    "optimizer = RAdam(model.parameters(), lr=lrr,weight_decay=0.00001)\n",
    "scheduler = torch.optim.lr_scheduler.ReduceLROnPlateau(optimizer, mode='min', factor=0.85, patience=5, min_lr=0.00000001)"
   ]
  },
  {
   "cell_type": "code",
   "execution_count": null,
   "metadata": {
    "scrolled": true
   },
   "outputs": [
    {
     "name": "stdout",
     "output_type": "stream",
     "text": [
      "Epoch: 0001, LR:  0.000614,T Loss: 0.0086569, V MAE: 0.2904893, Time: 381.3529985\n",
      "Epoch: 0002, LR:  0.000614,T Loss: 0.0094393, V MAE: 0.2936273, Time: 380.1291654\n",
      "Epoch: 0003, LR:  0.000614,T Loss: 0.0097619, V MAE: 0.2885325, Time: 379.6791372\n",
      "Epoch: 0004, LR:  0.000614,T Loss: 0.0097744, V MAE: 0.2862777, Time: 380.8357143\n"
     ]
    },
    {
     "name": "stderr",
     "output_type": "stream",
     "text": [
      "/opt/anaconda3/lib/python3.7/site-packages/torch/serialization.py:256: UserWarning: Couldn't retrieve source code for container of type Net. It won't be checked for correctness upon loading.\n",
      "  \"type \" + obj.__name__ + \". It won't be checked \"\n"
     ]
    },
    {
     "name": "stdout",
     "output_type": "stream",
     "text": [
      "Epoch: 0005, LR:  0.000614,T Loss: 0.0097412, V MAE: 0.2891924, Time: 381.1892405\n",
      "Epoch: 0006, LR:  0.000614,T Loss: 0.0097166, V MAE: 0.2855580, Time: 381.4744670\n",
      "Epoch: 0007, LR:  0.000614,T Loss: 0.0096769, V MAE: 0.2866718, Time: 382.9541562\n",
      "Epoch: 0008, LR:  0.000614,T Loss: 0.0096788, V MAE: 0.2923432, Time: 379.6352170\n",
      "Epoch: 0009, LR:  0.000614,T Loss: 0.0096201, V MAE: 0.2869647, Time: 380.1005368\n",
      "Epoch: 0010, LR:  0.000614,T Loss: 0.0095753, V MAE: 0.2890374, Time: 388.1671107\n",
      "Epoch: 0011, LR:  0.000614,T Loss: 0.0095754, V MAE: 0.2814566, Time: 392.5101702\n",
      "Epoch: 0012, LR:  0.000614,T Loss: 0.0095390, V MAE: 0.2834146, Time: 393.1446772\n",
      "Epoch: 0013, LR:  0.000614,T Loss: 0.0095414, V MAE: 0.2867199, Time: 398.1879888\n",
      "Epoch: 0014, LR:  0.000614,T Loss: 0.0095287, V MAE: 0.2877516, Time: 398.5375469\n",
      "Epoch: 0015, LR:  0.000614,T Loss: 0.0094222, V MAE: 0.2845605, Time: 397.8354461\n",
      "Epoch: 0016, LR:  0.000614,T Loss: 0.0094604, V MAE: 0.2841111, Time: 397.1331229\n",
      "Epoch: 0017, LR:  0.000614,T Loss: 0.0094351, V MAE: 0.2850951, Time: 397.0499668\n",
      "Epoch: 0018, LR:  0.000522,T Loss: 0.0088100, V MAE: 0.2763245, Time: 393.7434299\n",
      "Epoch: 0019, LR:  0.000522,T Loss: 0.0086741, V MAE: 0.2891666, Time: 393.4561138\n",
      "Epoch: 0020, LR:  0.000522,T Loss: 0.0085941, V MAE: 0.2748309, Time: 392.9003687\n",
      "Epoch: 0021, LR:  0.000522,T Loss: 0.0085834, V MAE: 0.2785001, Time: 393.8464398\n",
      "Epoch: 0022, LR:  0.000522,T Loss: 0.0085428, V MAE: 0.2901812, Time: 394.1572843\n",
      "Epoch: 0023, LR:  0.000522,T Loss: 0.0085114, V MAE: 0.2868765, Time: 392.6128809\n",
      "Epoch: 0024, LR:  0.000522,T Loss: 0.0084669, V MAE: 0.2795127, Time: 393.2424061\n",
      "Epoch: 0025, LR:  0.000522,T Loss: 0.0084277, V MAE: 0.2807802, Time: 393.3628917\n",
      "Epoch: 0026, LR:  0.000522,T Loss: 0.0084566, V MAE: 0.2843560, Time: 393.0698671\n",
      "Epoch: 0027, LR:  0.000444,T Loss: 0.0079084, V MAE: 0.2688455, Time: 398.7256727\n",
      "Epoch: 0028, LR:  0.000444,T Loss: 0.0077949, V MAE: 0.2714209, Time: 395.7818091\n",
      "Epoch: 0029, LR:  0.000444,T Loss: 0.0077399, V MAE: 0.2712918, Time: 393.3416569\n",
      "Epoch: 0030, LR:  0.000444,T Loss: 0.0077109, V MAE: 0.2708359, Time: 393.6533632\n",
      "Epoch: 0031, LR:  0.000444,T Loss: 0.0076856, V MAE: 0.2721868, Time: 393.3232284\n",
      "Epoch: 0032, LR:  0.000444,T Loss: 0.0076303, V MAE: 0.2756035, Time: 394.1503255\n",
      "Epoch: 0033, LR:  0.000444,T Loss: 0.0076493, V MAE: 0.2735820, Time: 396.0776243\n",
      "Epoch: 0034, LR:  0.000377,T Loss: 0.0071918, V MAE: 0.2656840, Time: 396.1229615\n",
      "Epoch: 0035, LR:  0.000377,T Loss: 0.0070929, V MAE: 0.2661841, Time: 393.7953136\n",
      "Epoch: 0036, LR:  0.000377,T Loss: 0.0070632, V MAE: 0.2688991, Time: 394.5483310\n",
      "Epoch: 0037, LR:  0.000377,T Loss: 0.0070303, V MAE: 0.2665993, Time: 394.7788227\n",
      "Epoch: 0038, LR:  0.000377,T Loss: 0.0069849, V MAE: 0.2658351, Time: 393.7045703\n",
      "Epoch: 0039, LR:  0.000377,T Loss: 0.0069783, V MAE: 0.2631478, Time: 394.1948330\n",
      "Epoch: 0040, LR:  0.000377,T Loss: 0.0069511, V MAE: 0.2631054, Time: 395.9232919\n",
      "Epoch: 0041, LR:  0.000377,T Loss: 0.0069388, V MAE: 0.2632821, Time: 396.7767096\n",
      "Epoch: 0042, LR:  0.000377,T Loss: 0.0068725, V MAE: 0.2651143, Time: 394.1302361\n",
      "Epoch: 0043, LR:  0.000377,T Loss: 0.0068658, V MAE: 0.2655898, Time: 392.5865550\n",
      "Epoch: 0044, LR:  0.000377,T Loss: 0.0068598, V MAE: 0.2677527, Time: 396.8299181\n",
      "Epoch: 0045, LR:  0.000377,T Loss: 0.0068388, V MAE: 0.2669594, Time: 393.7887838\n",
      "Epoch: 0046, LR:  0.000377,T Loss: 0.0068164, V MAE: 0.2635805, Time: 395.8400772\n",
      "Epoch: 0047, LR:  0.000321,T Loss: 0.0064682, V MAE: 0.2619356, Time: 394.0633190\n",
      "Epoch: 0048, LR:  0.000321,T Loss: 0.0063978, V MAE: 0.2604165, Time: 394.9905779\n",
      "Epoch: 0049, LR:  0.000321,T Loss: 0.0063480, V MAE: 0.2601547, Time: 395.9688344\n",
      "Epoch: 0050, LR:  0.000321,T Loss: 0.0063176, V MAE: 0.2590689, Time: 393.9153655\n",
      "Epoch: 0051, LR:  0.000321,T Loss: 0.0062961, V MAE: 0.2597901, Time: 395.0126374\n",
      "Epoch: 0052, LR:  0.000321,T Loss: 0.0062785, V MAE: 0.2603870, Time: 396.4655440\n",
      "Epoch: 0053, LR:  0.000321,T Loss: 0.0062678, V MAE: 0.2596303, Time: 394.3887734\n",
      "Epoch: 0054, LR:  0.000321,T Loss: 0.0062488, V MAE: 0.2610429, Time: 395.6103783\n",
      "Epoch: 0055, LR:  0.000321,T Loss: 0.0062286, V MAE: 0.2620548, Time: 398.1095819\n",
      "Epoch: 0056, LR:  0.000321,T Loss: 0.0062323, V MAE: 0.2627111, Time: 393.6812007\n",
      "Epoch: 0057, LR:  0.000272,T Loss: 0.0059176, V MAE: 0.2594840, Time: 389.6609166\n",
      "Epoch: 0058, LR:  0.000272,T Loss: 0.0058543, V MAE: 0.2578125, Time: 387.6457522\n",
      "Epoch: 0059, LR:  0.000272,T Loss: 0.0058289, V MAE: 0.2580838, Time: 388.0776956\n",
      "Epoch: 0060, LR:  0.000272,T Loss: 0.0057906, V MAE: 0.2581799, Time: 388.5107102\n",
      "Epoch: 0061, LR:  0.000272,T Loss: 0.0057868, V MAE: 0.2589831, Time: 388.7798293\n",
      "Epoch: 0062, LR:  0.000272,T Loss: 0.0057596, V MAE: 0.2575598, Time: 391.1288245\n",
      "Epoch: 0063, LR:  0.000272,T Loss: 0.0057490, V MAE: 0.2635346, Time: 387.4737296\n",
      "Epoch: 0064, LR:  0.000272,T Loss: 0.0057409, V MAE: 0.2589574, Time: 388.3500898\n",
      "Epoch: 0065, LR:  0.000272,T Loss: 0.0057254, V MAE: 0.2570598, Time: 387.8595479\n",
      "Epoch: 0066, LR:  0.000272,T Loss: 0.0057038, V MAE: 0.2567679, Time: 387.5092857\n",
      "Epoch: 0067, LR:  0.000272,T Loss: 0.0056978, V MAE: 0.2591181, Time: 387.9583924\n",
      "Epoch: 0068, LR:  0.000272,T Loss: 0.0056715, V MAE: 0.2588355, Time: 388.3855495\n",
      "Epoch: 0069, LR:  0.000272,T Loss: 0.0056672, V MAE: 0.2578161, Time: 389.4059963\n",
      "Epoch: 0070, LR:  0.000272,T Loss: 0.0056390, V MAE: 0.2573779, Time: 387.8356857\n",
      "Epoch: 0071, LR:  0.000272,T Loss: 0.0056372, V MAE: 0.2569440, Time: 390.4325302\n",
      "Epoch: 0072, LR:  0.000272,T Loss: 0.0056222, V MAE: 0.2631062, Time: 391.1719584\n",
      "Epoch: 0073, LR:  0.000232,T Loss: 0.0053786, V MAE: 0.2558790, Time: 387.6343460\n",
      "Epoch: 0074, LR:  0.000232,T Loss: 0.0053012, V MAE: 0.2566005, Time: 387.4085534\n",
      "Epoch: 0075, LR:  0.000232,T Loss: 0.0053045, V MAE: 0.2546921, Time: 388.0863938\n",
      "Epoch: 0076, LR:  0.000232,T Loss: 0.0052823, V MAE: 0.2550475, Time: 391.5990484\n",
      "Epoch: 0077, LR:  0.000232,T Loss: 0.0052591, V MAE: 0.2543154, Time: 390.1535370\n",
      "Epoch: 0078, LR:  0.000232,T Loss: 0.0052624, V MAE: 0.2556118, Time: 387.3953571\n",
      "Epoch: 0079, LR:  0.000232,T Loss: 0.0052407, V MAE: 0.2561821, Time: 391.6553879\n",
      "Epoch: 0080, LR:  0.000232,T Loss: 0.0052310, V MAE: 0.2573853, Time: 388.2391448\n",
      "Epoch: 0081, LR:  0.000232,T Loss: 0.0052288, V MAE: 0.2568158, Time: 390.4030600\n",
      "Epoch: 0082, LR:  0.000232,T Loss: 0.0052067, V MAE: 0.2573077, Time: 388.1041155\n",
      "Epoch: 0083, LR:  0.000232,T Loss: 0.0052024, V MAE: 0.2557728, Time: 387.1952446\n",
      "Epoch: 0084, LR:  0.000197,T Loss: 0.0049889, V MAE: 0.2536771, Time: 387.0352831\n",
      "Epoch: 0085, LR:  0.000197,T Loss: 0.0049404, V MAE: 0.2550508, Time: 387.0388069\n",
      "Epoch: 0086, LR:  0.000197,T Loss: 0.0049139, V MAE: 0.2545410, Time: 386.8460603\n",
      "Epoch: 0087, LR:  0.000197,T Loss: 0.0049114, V MAE: 0.2536464, Time: 387.4003916\n",
      "Epoch: 0088, LR:  0.000197,T Loss: 0.0048924, V MAE: 0.2535616, Time: 387.6325645\n",
      "Epoch: 0089, LR:  0.000197,T Loss: 0.0048810, V MAE: 0.2525193, Time: 387.0034359\n",
      "Epoch: 0090, LR:  0.000197,T Loss: 0.0048696, V MAE: 0.2541194, Time: 390.8846593\n",
      "Epoch: 0091, LR:  0.000197,T Loss: 0.0048753, V MAE: 0.2547261, Time: 390.2104669\n",
      "Epoch: 0092, LR:  0.000197,T Loss: 0.0048405, V MAE: 0.2535451, Time: 387.4091005\n",
      "Epoch: 0093, LR:  0.000197,T Loss: 0.0048397, V MAE: 0.2541441, Time: 387.2598774\n",
      "Epoch: 0094, LR:  0.000197,T Loss: 0.0048402, V MAE: 0.2542228, Time: 387.6421919\n",
      "Epoch: 0095, LR:  0.000197,T Loss: 0.0048076, V MAE: 0.2551828, Time: 387.0569203\n",
      "Epoch: 0096, LR:  0.000167,T Loss: 0.0046546, V MAE: 0.2529770, Time: 396.0370851\n",
      "Epoch: 0097, LR:  0.000167,T Loss: 0.0046119, V MAE: 0.2533033, Time: 391.9879994\n",
      "Epoch: 0098, LR:  0.000167,T Loss: 0.0046074, V MAE: 0.2562595, Time: 387.7025044\n",
      "Epoch: 0099, LR:  0.000167,T Loss: 0.0045867, V MAE: 0.2520514, Time: 387.9440055\n",
      "Epoch: 0100, LR:  0.000167,T Loss: 0.0045782, V MAE: 0.2530894, Time: 387.8269944\n",
      "Epoch: 0101, LR:  0.000167,T Loss: 0.0045593, V MAE: 0.2536999, Time: 387.7604270\n",
      "Epoch: 0102, LR:  0.000167,T Loss: 0.0045640, V MAE: 0.2527095, Time: 387.8155746\n",
      "Epoch: 0103, LR:  0.000167,T Loss: 0.0045400, V MAE: 0.2546188, Time: 387.3572166\n",
      "Epoch: 0104, LR:  0.000167,T Loss: 0.0045416, V MAE: 0.2529596, Time: 386.5908389\n",
      "Epoch: 0105, LR:  0.000167,T Loss: 0.0045396, V MAE: 0.2527086, Time: 387.1042557\n",
      "Epoch: 0106, LR:  0.000142,T Loss: 0.0043801, V MAE: 0.2535639, Time: 387.1185508\n",
      "Epoch: 0107, LR:  0.000142,T Loss: 0.0043579, V MAE: 0.2515102, Time: 387.0689387\n",
      "Epoch: 0108, LR:  0.000142,T Loss: 0.0043461, V MAE: 0.2512745, Time: 387.0252998\n",
      "Epoch: 0109, LR:  0.000142,T Loss: 0.0043259, V MAE: 0.2531538, Time: 387.0202096\n",
      "Epoch: 0110, LR:  0.000142,T Loss: 0.0043176, V MAE: 0.2526149, Time: 387.4268539\n",
      "Epoch: 0111, LR:  0.000142,T Loss: 0.0043180, V MAE: 0.2517222, Time: 387.6945689\n",
      "Epoch: 0112, LR:  0.000142,T Loss: 0.0042972, V MAE: 0.2534734, Time: 387.8004584\n",
      "Epoch: 0113, LR:  0.000142,T Loss: 0.0043023, V MAE: 0.2529044, Time: 391.5942190\n",
      "Epoch: 0114, LR:  0.000142,T Loss: 0.0043091, V MAE: 0.2519617, Time: 387.8804224\n",
      "Epoch: 0115, LR:  0.000121,T Loss: 0.0041685, V MAE: 0.2545827, Time: 388.0741000\n",
      "Epoch: 0116, LR:  0.000121,T Loss: 0.0041401, V MAE: 0.2515358, Time: 388.1727870\n"
     ]
    }
   ],
   "source": [
    "best_val_error = None\n",
    "bestmodel = None\n",
    "for epoch in range(1, ep):\n",
    "    start = time.time()\n",
    "    lr = scheduler.optimizer.param_groups[0]['lr']\n",
    "    loss = train(epoch)\n",
    "    val_error = test(val_loader)\n",
    "    scheduler.step(val_error)\n",
    "    if best_val_error is None or val_error <= best_val_error:\n",
    "        best_val_error = val_error\n",
    "        bestmodel = deepcopy(model)\n",
    "    if epoch%5 == 0:\n",
    "        torch.save({'bestmodel':bestmodel,\n",
    "                    'lr':lr,\n",
    "                   'epoch':epoch,\n",
    "                   'val_error':val_error},'Temp/t1.pth')\n",
    "    end = time.time()\n",
    "    print('Epoch: {:04d}, LR: {:9f},T Loss: {:.7f}, V MAE: {:.7f}, Time: {:.7f}'.format(epoch, lr, loss, val_error,end-start))"
   ]
  },
  {
   "cell_type": "code",
   "execution_count": null,
   "metadata": {},
   "outputs": [],
   "source": [
    "#del train_loader,val_loader,model\n",
    "#gc.collect()\n",
    "#torch.cuda.empty_cache()"
   ]
  },
  {
   "cell_type": "code",
   "execution_count": null,
   "metadata": {},
   "outputs": [],
   "source": [
    "torch.save(bestmodel,'MPNN_1JHC_SC2T_NFR.pth')#OG SELU AND CONNECTED TO TARGETS"
   ]
  },
  {
   "cell_type": "code",
   "execution_count": null,
   "metadata": {},
   "outputs": [],
   "source": [
    "print('Best Validation MAE: {}'.format(best_val_error))\n",
    "print('Best Log Validation MAE: {}'.format(np.log(best_val_error)))"
   ]
  },
  {
   "cell_type": "code",
   "execution_count": null,
   "metadata": {},
   "outputs": [],
   "source": [
    "print(tmean,tsd)"
   ]
  },
  {
   "cell_type": "code",
   "execution_count": null,
   "metadata": {},
   "outputs": [],
   "source": []
  }
 ],
 "metadata": {
  "kernelspec": {
   "display_name": "Python 3",
   "language": "python",
   "name": "python3"
  },
  "language_info": {
   "codemirror_mode": {
    "name": "ipython",
    "version": 3
   },
   "file_extension": ".py",
   "mimetype": "text/x-python",
   "name": "python",
   "nbconvert_exporter": "python",
   "pygments_lexer": "ipython3",
   "version": "3.7.3"
  }
 },
 "nbformat": 4,
 "nbformat_minor": 4
}
