{
 "cells": [
  {
   "cell_type": "markdown",
   "metadata": {},
   "source": [
    "1JHC,2JHN(REDO W DROPOUT),3JHN"
   ]
  },
  {
   "cell_type": "code",
   "execution_count": 1,
   "metadata": {},
   "outputs": [],
   "source": [
    "import pandas as pd, numpy as np, matplotlib.pyplot as plt, seaborn as sns, pickle, numba, torch, tqdm, random, utils, os, gc, time\n",
    "import networkx as nx\n",
    "from collections import OrderedDict, defaultdict\n",
    "from copy import deepcopy\n",
    "\n",
    "from rdkit.Chem.AtomPairs.Utils import NumPiElectrons\n",
    "from rdkit.Chem.rdMolTransforms import GetAngleRad, GetBondLength\n",
    "from rdkit.Chem.rdchem import Atom, Bond\n",
    "from rdkit.Chem.AtomPairs.Pairs import rdMolDescriptors as rdmd\n",
    "from rdkit import Chem, RDConfig\n",
    "from rdkit.Chem import ChemicalFeatures\n",
    "\n",
    "import torch_geometric.transforms as T\n",
    "import torch.nn.functional as F\n",
    "from torch.nn import Sequential, Linear, ReLU, GRU, BatchNorm1d, Dropout, SELU\n",
    "from torch_geometric.data import Data\n",
    "from torch_geometric.nn import NNConv, Set2Set, GATConv\n",
    "from torch_geometric.data import DataLoader\n",
    "\n",
    "\n",
    "%config InlineBackend.figure_format ='retina'"
   ]
  },
  {
   "cell_type": "code",
   "execution_count": 2,
   "metadata": {},
   "outputs": [],
   "source": [
    "structures = pd.read_csv(\"structures.csv\")\n",
    "test = pd.read_csv('test.csv')"
   ]
  },
  {
   "cell_type": "code",
   "execution_count": 3,
   "metadata": {},
   "outputs": [],
   "source": [
    "gratio = pd.DataFrame({\"atom\":[\"H\",\"C\",\"N\",\"O\",\"F\"],\n",
    "                       \"Gratio\": [42.576,10.705,-4.316,-5.772,40.060],\n",
    "                       \"Eneg\": [2.2,2.55,3.04,3.44,3.98],\n",
    "                       \"radius\":[110,170,155,152,147],\n",
    "                       \"atomic_num\":[1,6,7,8,9],\n",
    "                       \"numv\":[1,4,5,6,7]})\n",
    "structures = structures.merge(gratio,how='left',on='atom')"
   ]
  },
  {
   "cell_type": "code",
   "execution_count": 4,
   "metadata": {},
   "outputs": [],
   "source": [
    "test = test.groupby('type').get_group('3JHN')"
   ]
  },
  {
   "cell_type": "code",
   "execution_count": 5,
   "metadata": {},
   "outputs": [],
   "source": [
    "t2 = pd.read_csv('test.csv')\n",
    "t2 = t2[t2['molecule_name'].isin(test['molecule_name'])]\n",
    "t2.drop(['id','type'],axis=1,inplace=True)"
   ]
  },
  {
   "cell_type": "code",
   "execution_count": 6,
   "metadata": {},
   "outputs": [
    {
     "data": {
      "text/html": [
       "<div>\n",
       "<style scoped>\n",
       "    .dataframe tbody tr th:only-of-type {\n",
       "        vertical-align: middle;\n",
       "    }\n",
       "\n",
       "    .dataframe tbody tr th {\n",
       "        vertical-align: top;\n",
       "    }\n",
       "\n",
       "    .dataframe thead th {\n",
       "        text-align: right;\n",
       "    }\n",
       "</style>\n",
       "<table border=\"1\" class=\"dataframe\">\n",
       "  <thead>\n",
       "    <tr style=\"text-align: right;\">\n",
       "      <th></th>\n",
       "      <th>molecule_name</th>\n",
       "      <th>atom_index_0</th>\n",
       "      <th>atom_index_1</th>\n",
       "    </tr>\n",
       "  </thead>\n",
       "  <tbody>\n",
       "    <tr>\n",
       "      <th>56</th>\n",
       "      <td>dsgdb9nsd_000020</td>\n",
       "      <td>4</td>\n",
       "      <td>0</td>\n",
       "    </tr>\n",
       "    <tr>\n",
       "      <th>57</th>\n",
       "      <td>dsgdb9nsd_000020</td>\n",
       "      <td>4</td>\n",
       "      <td>1</td>\n",
       "    </tr>\n",
       "    <tr>\n",
       "      <th>58</th>\n",
       "      <td>dsgdb9nsd_000020</td>\n",
       "      <td>4</td>\n",
       "      <td>2</td>\n",
       "    </tr>\n",
       "    <tr>\n",
       "      <th>59</th>\n",
       "      <td>dsgdb9nsd_000020</td>\n",
       "      <td>4</td>\n",
       "      <td>5</td>\n",
       "    </tr>\n",
       "    <tr>\n",
       "      <th>60</th>\n",
       "      <td>dsgdb9nsd_000020</td>\n",
       "      <td>5</td>\n",
       "      <td>0</td>\n",
       "    </tr>\n",
       "  </tbody>\n",
       "</table>\n",
       "</div>"
      ],
      "text/plain": [
       "       molecule_name  atom_index_0  atom_index_1\n",
       "56  dsgdb9nsd_000020             4             0\n",
       "57  dsgdb9nsd_000020             4             1\n",
       "58  dsgdb9nsd_000020             4             2\n",
       "59  dsgdb9nsd_000020             4             5\n",
       "60  dsgdb9nsd_000020             5             0"
      ]
     },
     "execution_count": 6,
     "metadata": {},
     "output_type": "execute_result"
    }
   ],
   "source": [
    "t2.head()"
   ]
  },
  {
   "cell_type": "code",
   "execution_count": 7,
   "metadata": {},
   "outputs": [],
   "source": [
    "from collections import defaultdict\n",
    "molcouples = defaultdict(list)\n",
    "cpv = t2.values.tolist()"
   ]
  },
  {
   "cell_type": "code",
   "execution_count": 8,
   "metadata": {},
   "outputs": [
    {
     "data": {
      "application/vnd.jupyter.widget-view+json": {
       "model_id": "573face2b28549d6b6d8c0d0b9a60f25",
       "version_major": 2,
       "version_minor": 0
      },
      "text/plain": [
       "HBox(children=(IntProgress(value=0, max=1215256), HTML(value='')))"
      ]
     },
     "metadata": {},
     "output_type": "display_data"
    },
    {
     "name": "stdout",
     "output_type": "stream",
     "text": [
      "\n"
     ]
    }
   ],
   "source": [
    "for c in tqdm.tqdm_notebook(cpv):\n",
    "    molcouples[c[0]].append((c[1],c[2]))"
   ]
  },
  {
   "cell_type": "code",
   "execution_count": 9,
   "metadata": {},
   "outputs": [],
   "source": [
    "test.drop('type',axis=1,inplace=True)"
   ]
  },
  {
   "cell_type": "code",
   "execution_count": 10,
   "metadata": {},
   "outputs": [],
   "source": [
    "test = utils.map_atom_info(test,0,structures)\n",
    "test = utils.map_atom_info(test,1,structures)"
   ]
  },
  {
   "cell_type": "code",
   "execution_count": 11,
   "metadata": {},
   "outputs": [],
   "source": [
    "with open('rdkitmolecules.p', 'rb') as fp:\n",
    "    d = pickle.load(fp)"
   ]
  },
  {
   "cell_type": "code",
   "execution_count": 12,
   "metadata": {},
   "outputs": [
    {
     "data": {
      "text/html": [
       "<div>\n",
       "<style scoped>\n",
       "    .dataframe tbody tr th:only-of-type {\n",
       "        vertical-align: middle;\n",
       "    }\n",
       "\n",
       "    .dataframe tbody tr th {\n",
       "        vertical-align: top;\n",
       "    }\n",
       "\n",
       "    .dataframe thead th {\n",
       "        text-align: right;\n",
       "    }\n",
       "</style>\n",
       "<table border=\"1\" class=\"dataframe\">\n",
       "  <thead>\n",
       "    <tr style=\"text-align: right;\">\n",
       "      <th></th>\n",
       "      <th>molecule_name</th>\n",
       "      <th>atom_index</th>\n",
       "      <th>atom</th>\n",
       "      <th>x</th>\n",
       "      <th>y</th>\n",
       "      <th>z</th>\n",
       "      <th>Gratio</th>\n",
       "      <th>Eneg</th>\n",
       "      <th>radius</th>\n",
       "      <th>atomic_num</th>\n",
       "      <th>numv</th>\n",
       "    </tr>\n",
       "  </thead>\n",
       "  <tbody>\n",
       "    <tr>\n",
       "      <th>123</th>\n",
       "      <td>dsgdb9nsd_000020</td>\n",
       "      <td>0</td>\n",
       "      <td>N</td>\n",
       "      <td>0.036053</td>\n",
       "      <td>1.360779</td>\n",
       "      <td>-0.124164</td>\n",
       "      <td>-4.316</td>\n",
       "      <td>3.04</td>\n",
       "      <td>155</td>\n",
       "      <td>7</td>\n",
       "      <td>5</td>\n",
       "    </tr>\n",
       "    <tr>\n",
       "      <th>124</th>\n",
       "      <td>dsgdb9nsd_000020</td>\n",
       "      <td>1</td>\n",
       "      <td>C</td>\n",
       "      <td>-0.025911</td>\n",
       "      <td>-0.020766</td>\n",
       "      <td>0.002006</td>\n",
       "      <td>10.705</td>\n",
       "      <td>2.55</td>\n",
       "      <td>170</td>\n",
       "      <td>6</td>\n",
       "      <td>4</td>\n",
       "    </tr>\n",
       "    <tr>\n",
       "      <th>125</th>\n",
       "      <td>dsgdb9nsd_000020</td>\n",
       "      <td>2</td>\n",
       "      <td>N</td>\n",
       "      <td>1.219685</td>\n",
       "      <td>-0.623342</td>\n",
       "      <td>0.119632</td>\n",
       "      <td>-4.316</td>\n",
       "      <td>3.04</td>\n",
       "      <td>155</td>\n",
       "      <td>7</td>\n",
       "      <td>5</td>\n",
       "    </tr>\n",
       "    <tr>\n",
       "      <th>126</th>\n",
       "      <td>dsgdb9nsd_000020</td>\n",
       "      <td>3</td>\n",
       "      <td>O</td>\n",
       "      <td>-1.068229</td>\n",
       "      <td>-0.641746</td>\n",
       "      <td>0.008656</td>\n",
       "      <td>-5.772</td>\n",
       "      <td>3.44</td>\n",
       "      <td>152</td>\n",
       "      <td>8</td>\n",
       "      <td>6</td>\n",
       "    </tr>\n",
       "    <tr>\n",
       "      <th>127</th>\n",
       "      <td>dsgdb9nsd_000020</td>\n",
       "      <td>4</td>\n",
       "      <td>H</td>\n",
       "      <td>0.807494</td>\n",
       "      <td>1.834551</td>\n",
       "      <td>0.321449</td>\n",
       "      <td>42.576</td>\n",
       "      <td>2.20</td>\n",
       "      <td>110</td>\n",
       "      <td>1</td>\n",
       "      <td>1</td>\n",
       "    </tr>\n",
       "  </tbody>\n",
       "</table>\n",
       "</div>"
      ],
      "text/plain": [
       "        molecule_name  atom_index atom         x         y         z  Gratio  \\\n",
       "123  dsgdb9nsd_000020           0    N  0.036053  1.360779 -0.124164  -4.316   \n",
       "124  dsgdb9nsd_000020           1    C -0.025911 -0.020766  0.002006  10.705   \n",
       "125  dsgdb9nsd_000020           2    N  1.219685 -0.623342  0.119632  -4.316   \n",
       "126  dsgdb9nsd_000020           3    O -1.068229 -0.641746  0.008656  -5.772   \n",
       "127  dsgdb9nsd_000020           4    H  0.807494  1.834551  0.321449  42.576   \n",
       "\n",
       "     Eneg  radius  atomic_num  numv  \n",
       "123  3.04     155           7     5  \n",
       "124  2.55     170           6     4  \n",
       "125  3.04     155           7     5  \n",
       "126  3.44     152           8     6  \n",
       "127  2.20     110           1     1  "
      ]
     },
     "execution_count": 12,
     "metadata": {},
     "output_type": "execute_result"
    }
   ],
   "source": [
    "molnames = list(test['molecule_name'].unique())\n",
    "mols = OrderedDict()\n",
    "for name in molnames:\n",
    "    mols[name] = d[name]\n",
    "struct =  structures[structures['molecule_name'].isin(molnames)]\n",
    "g = struct.groupby('molecule_name')\n",
    "struct.head()"
   ]
  },
  {
   "cell_type": "code",
   "execution_count": 13,
   "metadata": {},
   "outputs": [],
   "source": [
    "from rdkit import Chem\n",
    "from rdkit.Chem import ChemicalFeatures\n",
    "from rdkit import RDConfig\n",
    "import os\n",
    "fdefName = os.path.join(RDConfig.RDDataDir,'BaseFeatures.fdef')\n",
    "factory = ChemicalFeatures.BuildFeatureFactory(fdefName)"
   ]
  },
  {
   "cell_type": "code",
   "execution_count": 14,
   "metadata": {},
   "outputs": [],
   "source": [
    "atfn = {'Acceptor':0,\n",
    "         'Aromatic':1,\n",
    "         'Donor':2,\n",
    "         'Hydrophobe':3,\n",
    "         'LumpedHydrophobe':4,\n",
    "         'NegIonizable':5,\n",
    "         'PosIonizable':6,\n",
    "         'ZnBinder':7}"
   ]
  },
  {
   "cell_type": "code",
   "execution_count": 15,
   "metadata": {},
   "outputs": [],
   "source": [
    "#ADD DISTANCE TO TARGET FEATURE\n",
    "def getAtomNodeFeats(molname, mols, data):\n",
    "    symbol, x, y, z, gr,eneg,radius,atomnum,nv = 2,3,4,5,6,7,8,9,10\n",
    "    mol = mols[molname]\n",
    "    feats = factory.GetFeaturesForMol(mol)\n",
    "    atfdict = defaultdict(list)\n",
    "    for i in range(len(feats)):\n",
    "        fam = feats[i].GetFamily()\n",
    "        dl = feats[i].GetAtomIds()\n",
    "        for aid in dl:\n",
    "            atfdict[aid].append(fam)\n",
    "    \n",
    "    l = len(data)\n",
    "    nodef = []\n",
    "    \n",
    "    eems = rdmd.CalcEEMcharges(mol)\n",
    "    spfd = {'S':0,'SP':0.5,'SP2':1/3,'SP3':1/4}\n",
    "    \n",
    "    for i in range(l):\n",
    "        d = data[i]\n",
    "        atom = mol.GetAtomWithIdx(i)\n",
    "        ahyb =  str(atom.GetHybridization())\n",
    "        sym = d[symbol]\n",
    "        hf = 'NONE'\n",
    "        if i in atfdict:\n",
    "            hf = atfdict[i]\n",
    "        ff = [sym=='H',sym=='C',sym=='N',sym=='O',sym=='F',d[atomnum],(int)(atom.IsInRing() == True),\n",
    "              ahyb=='S',ahyb=='SP', ahyb=='SP2', ahyb=='SP3',d[x],d[y],d[z],eems[i],spfd[ahyb],\n",
    "              d[radius],d[eneg],d[gr],NumPiElectrons(atom),0,0]\n",
    "        ff += ([0]*135)#        #AT3 FEATS   -24,-12\n",
    "        #AT4 FEATS -34,-25\n",
    "        newf = [0,0,0,0,0,0,0,0,  0,0,0,0,0,0,0,0,0,0,     0,0,0,0,0,0,0,0,0,0,0,0,0,  0, 0,0,0,0,0,0,0,0,0,0]\n",
    "        newf[-11] = d[nv]\n",
    "        if hf != 'NONE':\n",
    "            for t in hf:\n",
    "                newf[atfn[t]] = 1\n",
    "            \n",
    "        ff += newf\n",
    "        nodef.append(ff)\n",
    "    \n",
    "    lm = molcouples[molname]\n",
    "    for i,(a0,a1) in enumerate(lm):\n",
    "        nodef[a0][22+i] = 1\n",
    "        nodef[a1][22+i] = 1\n",
    "    return nodef"
   ]
  },
  {
   "cell_type": "code",
   "execution_count": 16,
   "metadata": {},
   "outputs": [],
   "source": [
    "@numba.jit(nopython=True)\n",
    "def getAngle(x0,y0,z0,x1,y1,z1):\n",
    "    mag_x0 = np.sqrt(x0**2 + y0**2 + z0**2)\n",
    "    mag_x1 = np.sqrt(x1**2 + y1**2 + z1**2)\n",
    "    dotp = (x0*x1) + (y0* y1) + (z0*z1)\n",
    "    c = dotp/(mag_x0*mag_x1)\n",
    "    if c < -1:\n",
    "        c = -1\n",
    "    elif c > 1:\n",
    "        c = 1\n",
    "    theta = np.arccos(c)\n",
    "    return theta, np.cos(theta), np.sin(theta)"
   ]
  },
  {
   "cell_type": "code",
   "execution_count": 17,
   "metadata": {},
   "outputs": [],
   "source": [
    "def getBondEdgeFeats(molname, mols, data):\n",
    "    x, y, z = 3,4,5\n",
    "    mol = mols[molname]\n",
    "    bonds = mol.GetBonds()\n",
    "    src,dst = [],[]\n",
    "    bondf = []\n",
    "    aed = defaultdict(list)\n",
    "    \n",
    "    btd = {'AROMATIC':0,'SINGLE':1,'DOUBLE':2, 'TRIPLE':3}\n",
    "    #make bidirectional\n",
    "    for bond in bonds:\n",
    "        id0,id1 = bond.GetBeginAtomIdx(), bond.GetEndAtomIdx()\n",
    "        \n",
    "        src.append(id0)\n",
    "        dst.append(id1)\n",
    "        src.append(id1)\n",
    "        dst.append(id0)\n",
    "        \n",
    "        aed[id0].append(id1)\n",
    "        aed[id1].append(id0)\n",
    "        \n",
    "        t0,t1 = data[id0],data[id1]\n",
    "        x0,y0,z0,x1,y1,z1 = t0[x],t0[y],t0[z],t1[x],t1[y],t1[z]   \n",
    "                \n",
    "        d = GetBondLength(mol.GetConformer(),id0,id1)\n",
    "        a,cos,sin = getAngle(x0,y0,z0,x1,y1,z1)\n",
    "        isconj = (int)(bond.GetIsConjugated() == True)\n",
    "        btype =  str(bond.GetBondType())\n",
    "        bt = [0,0,0,0]\n",
    "        bt[btd[btype]] = 1\n",
    "        #angle t0, cos t0, sin t0, angle t1, cos t1, sin t1, angle tv, cos tv, sin tv\n",
    "        # -16,-10\n",
    "        # -22,-17\n",
    "        ff = [d,a,cos,sin,isconj] + bt + [0,0,0,0,0,0] + [0,0,0,0,0,0,0] + [0,0,0,0,0,0,0,0,0]\n",
    "        bondf.append(ff)\n",
    "        bondf.append(ff)\n",
    "        #[blen,angle,cos,sin,isconj,bt,bt,bt,bt]\n",
    "    edge_index = []\n",
    "    edge_index.append(src)\n",
    "    edge_index.append(dst)\n",
    "    #tonorm: 0,1,2,3,4\n",
    "    return bondf, edge_index, aed    "
   ]
  },
  {
   "cell_type": "code",
   "execution_count": 18,
   "metadata": {},
   "outputs": [
    {
     "data": {
      "application/vnd.jupyter.widget-view+json": {
       "model_id": "f687f6eba8954e618b7a5e3a7677c5a5",
       "version_major": 2,
       "version_minor": 0
      },
      "text/plain": [
       "HBox(children=(IntProgress(value=0, max=24640), HTML(value='')))"
      ]
     },
     "metadata": {},
     "output_type": "display_data"
    },
    {
     "name": "stdout",
     "output_type": "stream",
     "text": [
      "\n"
     ]
    }
   ],
   "source": [
    "mnames = list(mols.keys())\n",
    "\n",
    "datadir = {}\n",
    "for name in tqdm.tqdm_notebook(mnames):\n",
    "    a = g.get_group(name)\n",
    "    nodef = getAtomNodeFeats(name,mols,a.values.tolist())\n",
    "    bondf, edgeidx, aed = getBondEdgeFeats(name,mols,a.values.tolist())\n",
    "    datadir[name] = [nodef, bondf, edgeidx, aed]"
   ]
  },
  {
   "cell_type": "code",
   "execution_count": 19,
   "metadata": {},
   "outputs": [],
   "source": [
    "test= test.drop(['atom_0', 'x_0', 'y_0', 'z_0', 'Gratio_x',\n",
    "            'Eneg_x', 'radius_x', 'atomic_num_x', 'atom_1', 'x_1', 'y_1', 'z_1',\n",
    "            'Gratio_y', 'Eneg_y', 'radius_y', 'atomic_num_y','numv_x','numv_y'],axis=1)"
   ]
  },
  {
   "cell_type": "code",
   "execution_count": 20,
   "metadata": {},
   "outputs": [],
   "source": [
    "t = test.values.tolist()"
   ]
  },
  {
   "cell_type": "code",
   "execution_count": 21,
   "metadata": {},
   "outputs": [],
   "source": [
    "@numba.jit(nopython=True)\n",
    "def getDist(x0,y0,z0,x1,y1,z1):\n",
    "    return np.sqrt((x0-x1)**2 + (y0-y1)**2 + (z0-z1)**2)"
   ]
  },
  {
   "cell_type": "code",
   "execution_count": 22,
   "metadata": {},
   "outputs": [],
   "source": [
    "olds = np.seterr(all='raise')"
   ]
  },
  {
   "cell_type": "code",
   "execution_count": 25,
   "metadata": {},
   "outputs": [
    {
     "data": {
      "application/vnd.jupyter.widget-view+json": {
       "model_id": "6d7ba84d40434119a7b0890287154cb6",
       "version_major": 2,
       "version_minor": 0
      },
      "text/plain": [
       "HBox(children=(IntProgress(value=0, max=90616), HTML(value='')))"
      ]
     },
     "metadata": {},
     "output_type": "display_data"
    }
   ],
   "source": [
    "testlist = []\n",
    "l = len(t)\n",
    "ids = []\n",
    "for dp in tqdm.tqdm_notebook(t):\n",
    "    name, id0, id1 = dp[1], dp[2], dp[3]\n",
    "    n,b,e,aed = datadir[name]\n",
    "    nodef,bondf,edgeidx = np.array(n), np.array(b), np.array(e)\n",
    "    nodef,bondf,edgeidx = nodef.tolist(),bondf.tolist(),edgeidx.tolist()\n",
    "\n",
    "    nodef[id0][-1] = 1\n",
    "    nodef[id1][-1] = 1\n",
    "\n",
    "    nid0 = nodef[id0]\n",
    "    nid1 = nodef[id1]\n",
    "    x0,y0,z0 = nid0[11],nid0[12],nid0[13]\n",
    "    x1,y1,z1 = nid1[11],nid1[12],nid1[13]\n",
    "\n",
    "    ll = len(nodef)\n",
    "    ai0 = aed[id0]\n",
    "    ai1 = aed[id1]\n",
    "\n",
    "    G = nx.Graph()\n",
    "    eds = [x for x in zip(edgeidx[0],edgeidx[1])]\n",
    "    G.add_edges_from(eds)\n",
    "    sp = nx.dijkstra_path(G,id0,id1)\n",
    "\n",
    "    mp1 = sp[1]\n",
    "    mp2 = sp[2]\n",
    "\n",
    "    nodef[mp1][-1] = 1\n",
    "    nodef[mp2][-1] = 1\n",
    "\n",
    "    tnm1 = nodef[mp1]\n",
    "    tnm2 = nodef[mp2]\n",
    "\n",
    "    xa1,ya1,za1 = tnm1[11],tnm1[12],tnm1[13]\n",
    "    xa2,ya2,za2 = tnm2[11],tnm2[12],tnm2[13]\n",
    "\n",
    "    xm0,ym0,zm0 = xa1-x0,ya1-y0,za1-z0\n",
    "    xm1,ym1,zm1 = xa2-xa1,ya2-ya1,za2-za1\n",
    "    xm2,ym2,zm2 = x1-xa2,y1-ya2,z1-za2\n",
    "    for i in range(ll):\n",
    "        if i not in ai0 and i != id0:\n",
    "            temp = [0]*31\n",
    "            tnf = nodef[i]\n",
    "            xi,yi,zi = tnf[11],tnf[12],tnf[13]\n",
    "            temp[0] = getDist(xi,yi,zi,x0,y0,z0)\n",
    "            theta,cos,sin = getAngle(xi,yi,zi,x0,y0,z0)\n",
    "            temp[1] = theta\n",
    "            temp[2] = cos\n",
    "            temp[3] = sin\n",
    "\n",
    "            bondf.append(temp)\n",
    "            bondf.append(temp)\n",
    "\n",
    "            edgeidx[0].append(i)\n",
    "            edgeidx[1].append(id0)\n",
    "\n",
    "            edgeidx[0].append(id0)\n",
    "            edgeidx[1].append(i)\n",
    "        if i not in ai1 and  i != id1:\n",
    "            temp = [0]*31\n",
    "            tnf = nodef[i]\n",
    "            xi,yi,zi = tnf[11],tnf[12],tnf[13]\n",
    "            temp[0] = getDist(xi,yi,zi,x1,y1,z1)\n",
    "            theta,cos,sin = getAngle(xi,yi,zi,x1,y1,z1)\n",
    "            temp[1] = theta\n",
    "            temp[2] = cos\n",
    "            temp[3] = sin\n",
    "\n",
    "            bondf.append(temp)\n",
    "            bondf.append(temp)\n",
    "\n",
    "            edgeidx[0].append(i)\n",
    "            edgeidx[1].append(id1)\n",
    "\n",
    "            edgeidx[0].append(id1)\n",
    "            edgeidx[1].append(i)\n",
    "\n",
    "    G = nx.Graph()\n",
    "    eds = [x for x in zip(edgeidx[0],edgeidx[1])]\n",
    "    G.add_edges_from(eds)\n",
    "    for i in range(ll):\n",
    "        if (not G.has_edge(i,mp1)) and i != mp1:\n",
    "            temp = [0]*31\n",
    "            tnf = nodef[i]\n",
    "            xi,yi,zi = tnf[11],tnf[12],tnf[13]\n",
    "            temp[0] = getDist(xi,yi,zi,xa1,ya1,za1)\n",
    "            theta,cos,sin = getAngle(xi,yi,zi,xa1,ya1,za1)\n",
    "            temp[1] = theta\n",
    "            temp[2] = cos\n",
    "            temp[3] = sin\n",
    "\n",
    "            bondf.append(temp)\n",
    "            bondf.append(temp)\n",
    "\n",
    "            edgeidx[0].append(i)\n",
    "            edgeidx[1].append(mp1)\n",
    "\n",
    "            edgeidx[0].append(mp1)\n",
    "            edgeidx[1].append(i)\n",
    "        if (not G.has_edge(i,mp2)) and i != mp2:\n",
    "            temp = [0]*31\n",
    "            tnf = nodef[i]\n",
    "            xi,yi,zi = tnf[11],tnf[12],tnf[13]\n",
    "            temp[0] = getDist(xi,yi,zi,xa2,ya2,za2)\n",
    "            theta,cos,sin = getAngle(xi,yi,zi,xa2,ya2,za2)\n",
    "            temp[1] = theta\n",
    "            temp[2] = cos\n",
    "            temp[3] = sin\n",
    "\n",
    "            bondf.append(temp)\n",
    "            bondf.append(temp)\n",
    "\n",
    "            edgeidx[0].append(i)\n",
    "            edgeidx[1].append(mp2)\n",
    "\n",
    "            edgeidx[0].append(mp2)\n",
    "            edgeidx[1].append(i)\n",
    "\n",
    "    bonds = [x for x in zip(edgeidx[0],edgeidx[1])]\n",
    "    intbonds = [(id0,mp1),(mp1,mp2),(mp2,id1),(mp1,id0),(mp2,mp1),(id1,mp2)]\n",
    "    for i,bf in enumerate(bondf):\n",
    "        i0,i1 = bonds[i]\n",
    "        if (i0,i1) in intbonds:\n",
    "            bf[-10] = 1\n",
    "        nfa,nfb = nodef[i0],nodef[i1]\n",
    "        xa,ya,za = nfa[11],nfa[12],nfa[13]\n",
    "        xb,yb,zb = nfb[11],nfb[12],nfb[13]\n",
    "        xi,yi,zi = xa-xb,ya-yb,za-zb\n",
    "        #xi,yi,zi is bond vector\n",
    "        a0,cos0,sin0 = getAngle(xi,yi,zi,x0,y0,z0)#ang tatom 0\n",
    "        a1,cos1,sin1 = getAngle(xi,yi,zi,x1,y1,z1)#ang tatom 1\n",
    "\n",
    "        am1,cosm1,sinm1 = getAngle(xi,yi,zi,xa1,ya1,za1) #ang mpatom 1\n",
    "        am2,cosm2,sinm2 = getAngle(xi,yi,zi,xa2,ya2,za2) #ang mpatom 2\n",
    "\n",
    "        av0,cosv0,sinv0 = getAngle(xi,yi,zi,xm0,ym0,zm0)\n",
    "        av1,cosv1,sinv1 = getAngle(xi,yi,zi,xm1,ym1,zm1)\n",
    "        av2,cosv2,sinv2 = getAngle(xi,yi,zi,xm2,ym2,zm2)\n",
    "\n",
    "        bf[-22] = a0\n",
    "        bf[-21] = cos0\n",
    "        bf[-20] = sin0\n",
    "        bf[-19] = a1\n",
    "        bf[-18] = cos1\n",
    "        bf[-17] = sin1\n",
    "        #CONTINUE FROM HERE\n",
    "        bf[-16] = am1\n",
    "        bf[-15] = cosm1\n",
    "        bf[-14] = sinm1\n",
    "        bf[-13] = am2\n",
    "        bf[-12] = cosm2\n",
    "        bf[-11] = sinm2\n",
    "\n",
    "        bf[-9] = av0\n",
    "        bf[-8] = cosv0\n",
    "        bf[-7] = sinv0\n",
    "        bf[-6] = av1\n",
    "        bf[-5] = cosv1\n",
    "        bf[-4] = sinv1\n",
    "        bf[-3] = av2\n",
    "        bf[-2] = cosv2\n",
    "        bf[-1] = sinv2\n",
    "\n",
    "    for i,nf in enumerate(nodef):\n",
    "        if i == mp1:\n",
    "            nf[20] = getDist(x0,y0,z0,xa1,ya1,za1)\n",
    "            nf[21] = getDist(x1,y1,z1,xa1,ya1,za1)\n",
    "\n",
    "            nf[-34] = 0#dist mpat1\n",
    "            nf[-33] = 0#angle \n",
    "            nf[-32] = 1#cos\n",
    "            nf[-31] = 0#sin\n",
    "            theta,cos,sin = getAngle(xa1,ya1,za1,xa2,ya2,za2)\n",
    "            dist = getDist(xa1,ya1,za1,xa2,ya2,za2)\n",
    "            nf[-30] = dist#dist mpat2\n",
    "            nf[-29] = theta#angle \n",
    "            nf[-28] = cos#cos\n",
    "            nf[-27] = sin#sin\n",
    "            theta,cos,sin = getAngle(xa1,ya1,za1,xm0,ym0,zm0)\n",
    "            nf[-26] = theta#angle mv0\n",
    "            nf[-25] = cos#cos mv0\n",
    "            nf[-24] = sin#sin mv0\n",
    "            theta,cos,sin = getAngle(xa1,ya1,za1,xm1,ym1,zm1)\n",
    "            nf[-23] = theta#angle mv1\n",
    "            nf[-22] = cos#cos mv1\n",
    "            nf[-21] = sin#sin mv1\n",
    "            theta,cos,sin = getAngle(xa1,ya1,za1,xm2,ym2,zm2)\n",
    "            nf[-20] = theta#angle mv2\n",
    "            nf[-19] = cos#cos mv2\n",
    "            nf[-18] = sin#sin mv2\n",
    "\n",
    "            nf[-17] = 0#rel to mat1\n",
    "            nf[-16] = 0\n",
    "            nf[-15] = 0\n",
    "\n",
    "            nf[-14] = xa2-xa1#rel to mat2\n",
    "            nf[-13] = ya2-ya1\n",
    "            nf[-12] = za2-za1\n",
    "\n",
    "            theta,cos,sin = getAngle(xa1,ya1,za1,x0,y0,z0)\n",
    "            nf[-7] = theta #angle with at0\n",
    "            nf[-6] = cos #cos with at0\n",
    "            nf[-5] = sin #sin with at0\n",
    "            theta,cos,sin = getAngle(xa1,ya1,za1,x1,y1,z1)\n",
    "            nf[-4] = theta #angle with at1\n",
    "            nf[-3] = cos #cos with at1\n",
    "            nf[-2] = sin #sin with at1\n",
    "\n",
    "            nf[-10] = x1-xa1\n",
    "            nf[-9] = y1-ya1\n",
    "            nf[-8] = z1-za1#xyz rel to at1\n",
    "            nf[11] = x0-xa1\n",
    "            nf[12] = y0-ya1\n",
    "            nf[13] = z0-za1#xyz rel to at0\n",
    "        elif i == mp2:\n",
    "            nf[20] = getDist(x0,y0,z0,xa2,ya2,za2)\n",
    "            nf[21] = getDist(x1,y1,z1,xa2,ya2,za2)\n",
    "\n",
    "            theta,cos,sin = getAngle(xa2,ya2,za2,xa1,ya1,za1)\n",
    "            dist = getDist(xa2,ya2,za2,xa1,ya1,za1)\n",
    "            nf[-34] = dist#dist mpat1\n",
    "            nf[-33] = theta#angle \n",
    "            nf[-32] = cos#cos\n",
    "            nf[-31] = sin#sin\n",
    "\n",
    "            nf[-30] = 0#dist mpat2\n",
    "            nf[-29] = 0#angle \n",
    "            nf[-28] = 1#cos\n",
    "            nf[-27] = 0#sin\n",
    "            theta,cos,sin = getAngle(xa2,ya2,za2,xm0,ym0,zm0)\n",
    "            nf[-26] = theta#angle mv0\n",
    "            nf[-25] = cos#cos mv0\n",
    "            nf[-24] = sin#sin mv0\n",
    "            theta,cos,sin = getAngle(xa2,ya2,za2,xm1,ym1,zm1)\n",
    "            nf[-23] = theta#angle mv1\n",
    "            nf[-22] = cos#cos mv1\n",
    "            nf[-21] = sin#sin mv1\n",
    "            theta,cos,sin = getAngle(xa2,ya2,za2,xm2,ym2,zm2)\n",
    "            nf[-20] = theta#angle mv2\n",
    "            nf[-19] = cos#cos mv2\n",
    "            nf[-18] = sin#sin mv2\n",
    "\n",
    "            nf[-17] = xa1-xa2#rel to mat1\n",
    "            nf[-16] = ya1-ya2\n",
    "            nf[-15] = za1-za2\n",
    "\n",
    "            nf[-14] = 0#rel to mat2\n",
    "            nf[-13] = 0\n",
    "            nf[-12] = 0\n",
    "\n",
    "            theta,cos,sin = getAngle(xa2,ya2,za2,x0,y0,z0)\n",
    "            nf[-7] = theta #angle with at0\n",
    "            nf[-6] = cos #cos with at0\n",
    "            nf[-5] = sin #sin with at0\n",
    "            theta,cos,sin = getAngle(xa2,ya2,za2,x1,y1,z1)\n",
    "            nf[-4] = theta #angle with at1\n",
    "            nf[-3] = cos #cos with at1\n",
    "            nf[-2] = sin #sin with at1\n",
    "\n",
    "            nf[-10] = x1-xa2\n",
    "            nf[-9] = y1-ya2\n",
    "            nf[-8] = z1-za2#xyz rel to at1\n",
    "            nf[11] = x0-xa2\n",
    "            nf[12] = y0-ya2\n",
    "            nf[13] = z0-za2#xyz rel to at0\n",
    "        elif i == id0:\n",
    "            nf[20] = 0\n",
    "            nf[21] = getDist(x0,y0,z0,x1,y1,z1)\n",
    "\n",
    "            theta,cos,sin = getAngle(x0,y0,z0,xa1,ya1,za1)\n",
    "            dist = getDist(x0,y0,z0,xa1,ya1,za1)\n",
    "            nf[-34] = dist#dist mpat1\n",
    "            nf[-33] = theta#angle \n",
    "            nf[-32] = cos#cos\n",
    "            nf[-31] = sin#sin\n",
    "            theta,cos,sin = getAngle(x0,y0,z0,xa2,ya2,za2)\n",
    "            dist = getDist(x0,y0,z0,xa2,ya2,za2)\n",
    "            nf[-30] = dist#dist mpat2\n",
    "            nf[-29] = theta#angle \n",
    "            nf[-28] = cos#cos\n",
    "            nf[-27] = sin#sin\n",
    "            theta,cos,sin = getAngle(x0,y0,z0,xm0,ym0,zm0)\n",
    "            nf[-26] = theta#angle mv0\n",
    "            nf[-25] = cos#cos mv0\n",
    "            nf[-24] = sin#sin mv0\n",
    "            theta,cos,sin = getAngle(x0,y0,z0,xm1,ym1,zm1)\n",
    "            nf[-23] = theta#angle mv1\n",
    "            nf[-22] = cos#cos mv1\n",
    "            nf[-21] = sin#sin mv1\n",
    "            theta,cos,sin = getAngle(x0,y0,z0,xm2,ym2,zm2)\n",
    "            nf[-20] = theta#angle mv2\n",
    "            nf[-19] = cos#cos mv2\n",
    "            nf[-18] = sin#sin mv2\n",
    "\n",
    "            nf[-17] = xa1-x0#rel to mat1\n",
    "            nf[-16] = ya1-y0\n",
    "            nf[-15] = za1-z0\n",
    "\n",
    "            nf[-14] = xa2-x0#rel to mat2\n",
    "            nf[-13] = ya2-y0\n",
    "            nf[-12] = za2-z0\n",
    "\n",
    "            nf[-7] = 0 #angle with at0\n",
    "            nf[-6] = 1 #cos with at0\n",
    "            nf[-5] = 0 #sin with at0\n",
    "            theta,cos,sin = getAngle(x0,y0,z0,x1,y1,z1)\n",
    "            nf[-4] = theta #angle with at1\n",
    "            nf[-3] = cos #cos with at1\n",
    "            nf[-2] = sin #sin with at1\n",
    "\n",
    "            nf[-10] = x1-x0\n",
    "            nf[-9] = y1-y0\n",
    "            nf[-8] = z1-z0#xyz rel to at1\n",
    "            nf[11] = 0\n",
    "            nf[12] = 0\n",
    "            nf[13] = 0#xyz rel to at0\n",
    "\n",
    "        elif i == id1:\n",
    "            nf[21] = 0\n",
    "            nf[20] = getDist(x0,y0,z0,x1,y1,z1)\n",
    "\n",
    "            theta,cos,sin = getAngle(x1,y1,z1,xa1,ya1,za1)\n",
    "            dist = getDist(x1,y1,z1,xa1,ya1,za1)\n",
    "            nf[-34] = dist#dist mpat1\n",
    "            nf[-33] = theta#angle \n",
    "            nf[-32] = cos#cos\n",
    "            nf[-31] = sin#sin\n",
    "            theta,cos,sin = getAngle(x1,y1,z1,xa2,ya2,za2)\n",
    "            dist = getDist(x1,y1,z1,xa2,ya2,za2)\n",
    "            nf[-30] = dist#dist mpat2\n",
    "            nf[-29] = theta#angle \n",
    "            nf[-28] = cos#cos\n",
    "            nf[-27] = sin#sin\n",
    "            theta,cos,sin = getAngle(x1,y1,z1,xm0,ym0,zm0)\n",
    "            nf[-26] = theta#angle mv0\n",
    "            nf[-25] = cos#cos mv0\n",
    "            nf[-24] = sin#sin mv0\n",
    "            theta,cos,sin = getAngle(x1,y1,z1,xm1,ym1,zm1)\n",
    "            nf[-23] = theta#angle mv1\n",
    "            nf[-22] = cos#cos mv1\n",
    "            nf[-21] = sin#sin mv1\n",
    "            theta,cos,sin = getAngle(x1,y1,z1,xm2,ym2,zm2)\n",
    "            nf[-20] = theta#angle mv2\n",
    "            nf[-19] = cos#cos mv2\n",
    "            nf[-18] = sin#sin mv2\n",
    "\n",
    "            nf[-17] = xa1-x1#rel to mat1\n",
    "            nf[-16] = ya1-y1\n",
    "            nf[-15] = za1-z1\n",
    "\n",
    "            nf[-14] = xa2-x1#rel to mat2\n",
    "            nf[-13] = ya2-y1\n",
    "            nf[-12] = za2-z1\n",
    "            theta,cos,sin = getAngle(x1,y1,z1,x0,y0,z0)\n",
    "            nf[-7] = theta #angle with at0\n",
    "            nf[-6] = cos #cos with at0\n",
    "            nf[-5] = sin #sin with at0\n",
    "\n",
    "            nf[-4] = 0 #angle with at1\n",
    "            nf[-3] = 1 #cos with at1\n",
    "            nf[-2] = 0 #sin with at1\n",
    "\n",
    "            nf[-10] = 0\n",
    "            nf[-9] = 0\n",
    "            nf[-8] = 0#xyz rel to at1\n",
    "            nf[11] = x0-x1\n",
    "            nf[12] = y0-y1\n",
    "            nf[13] = z0-z1#xyz rel to at0\n",
    "        else:\n",
    "            xi,yi,zi = nf[11],nf[12],nf[13]\n",
    "            nf[21] = getDist(xi,yi,zi,x1,y1,z1)\n",
    "            nf[20] = getDist(xi,yi,zi,x0,y0,z0)\n",
    "\n",
    "            theta,cos,sin = getAngle(xi,yi,zi,xa1,ya1,za1)\n",
    "            dist = getDist(xi,yi,zi,xa1,ya1,za1)\n",
    "            nf[-34] = dist#dist mpat1\n",
    "            nf[-33] = theta#angle \n",
    "            nf[-32] = cos#cos\n",
    "            nf[-31] = sin#sin\n",
    "            theta,cos,sin = getAngle(xi,yi,zi,xa2,ya2,za2)\n",
    "            dist = getDist(xi,yi,zi,xa2,ya2,za2)\n",
    "            nf[-30] = dist#dist mpat2\n",
    "            nf[-29] = theta#angle \n",
    "            nf[-28] = cos#cos\n",
    "            nf[-27] = sin#sin\n",
    "            theta,cos,sin = getAngle(xi,yi,zi,xm0,ym0,zm0)\n",
    "            nf[-26] = theta#angle mv0\n",
    "            nf[-25] = cos#cos mv0\n",
    "            nf[-24] = sin#sin mv0\n",
    "            theta,cos,sin = getAngle(xi,yi,zi,xm1,ym1,zm1)\n",
    "            nf[-23] = theta#angle mv1\n",
    "            nf[-22] = cos#cos mv1\n",
    "            nf[-21] = sin#sin mv1\n",
    "            theta,cos,sin = getAngle(xi,yi,zi,xm2,ym2,zm2)\n",
    "            nf[-20] = theta#angle mv2\n",
    "            nf[-19] = cos#cos mv2\n",
    "            nf[-18] = sin#sin mv2\n",
    "\n",
    "            nf[-17] = xa1-xi#rel to mat1\n",
    "            nf[-16] = ya1-yi\n",
    "            nf[-15] = za1-zi\n",
    "\n",
    "            nf[-14] = xa2-xi#rel to mat2\n",
    "            nf[-13] = ya2-yi\n",
    "            nf[-12] = za2-zi\n",
    "            theta,cos,sin = getAngle(xi,yi,zi,x0,y0,z0)\n",
    "            nf[-7] = theta #angle with at0\n",
    "            nf[-6] = cos #cos with at0\n",
    "            nf[-5] = sin #sin with at0\n",
    "            theta,cos,sin = getAngle(xi,yi,zi,x1,y1,z1)\n",
    "            nf[-4] = theta #angle with at1\n",
    "            nf[-3] = cos #cos with at1\n",
    "            nf[-2] = sin #sin with at1\n",
    "\n",
    "            nf[-10] = x1-xi\n",
    "            nf[-9] = y1-yi\n",
    "            nf[-8] = z1-zi#xyz rel to at1\n",
    "            nf[11] = x0-xi\n",
    "            nf[12] = y0-yi\n",
    "            nf[13] = z0-zi#xyz rel to at0\n",
    "\n",
    "    ids.append(dp[0])        \n",
    "    x = torch.tensor(nodef, dtype=torch.float)\n",
    "    edge_index = torch.tensor(edgeidx, dtype=torch.long)\n",
    "    edge_attr = torch.tensor(bondf,dtype=torch.float)\n",
    "    data = Data(x=x, edge_index=edge_index, edge_attr=edge_attr)\n",
    "\n",
    "    testlist.append(data)\n"
   ]
  },
  {
   "cell_type": "code",
   "execution_count": 26,
   "metadata": {},
   "outputs": [],
   "source": [
    "tmean = 0.9907350326356716\n",
    "tsd = 1.3153963848679207"
   ]
  },
  {
   "cell_type": "code",
   "execution_count": 27,
   "metadata": {},
   "outputs": [],
   "source": [
    "test_loader = DataLoader(testlist, batch_size=256,shuffle=False)"
   ]
  },
  {
   "cell_type": "code",
   "execution_count": 28,
   "metadata": {},
   "outputs": [],
   "source": [
    "ndim =128\n",
    "edim = 64"
   ]
  },
  {
   "cell_type": "code",
   "execution_count": 29,
   "metadata": {},
   "outputs": [],
   "source": [
    "torch.cuda.empty_cache()"
   ]
  },
  {
   "cell_type": "code",
   "execution_count": 30,
   "metadata": {},
   "outputs": [],
   "source": [
    "class Net(torch.nn.Module):\n",
    "    def __init__(self):\n",
    "        super(Net, self).__init__()\n",
    "        \n",
    "        self.lin0 = torch.nn.Linear(199, ndim)\n",
    "        self.bn0 = BatchNorm1d(ndim)\n",
    "        self.d0 = Dropout(0.1)\n",
    "        \n",
    "        nn = Sequential(Linear(31, edim), ReLU(), Linear(edim,2*edim), ReLU(),Linear(2*edim, ndim * ndim))\n",
    "        self.conv = NNConv(ndim, ndim, nn, aggr='max', root_weight=True)\n",
    "        self.gru = GRU(ndim, ndim)\n",
    "        \n",
    "        self.set2set = Set2Set(ndim, processing_steps=3)\n",
    "        self.lin1 = torch.nn.Linear(2*ndim, 192)\n",
    "        self.lin2 = torch.nn.Linear(192,160)\n",
    "        self.lin3 = torch.nn.Linear(160, ndim)\n",
    "        self.lin4 = torch.nn.Linear(ndim, 1)\n",
    "\n",
    "    def forward(self, data):\n",
    "        out = F.selu(self.lin0(data.x))\n",
    "        out = self.bn0(out)\n",
    "        out = self.d0(out)\n",
    "        h = out.unsqueeze(0)\n",
    "        \n",
    "        for i in range(3):\n",
    "            m = F.selu(self.conv(out, data.edge_index, data.edge_attr))\n",
    "            out, h = self.gru(m.unsqueeze(0), h)\n",
    "            out = out.squeeze(0)\n",
    "        \n",
    "        out = self.set2set(out, data.batch)\n",
    "        out = F.selu(self.lin1(out))\n",
    "        out = F.selu(self.lin2(out))\n",
    "        out = F.selu(self.lin3(out))\n",
    "        out = self.lin4(out)\n",
    "        \n",
    "        return out.view(-1)"
   ]
  },
  {
   "cell_type": "code",
   "execution_count": 31,
   "metadata": {},
   "outputs": [],
   "source": [
    "#model2 = torch.load('MPNN_1JHN_SELU__MODEL_.pth')\n",
    "#model2 = torch.load('MPNN_2JHC_2FE.pth')\n",
    "xd = torch.load('Temp/t2.pth')"
   ]
  },
  {
   "cell_type": "code",
   "execution_count": 32,
   "metadata": {},
   "outputs": [],
   "source": [
    "model2 = xd['bestmodel']"
   ]
  },
  {
   "cell_type": "code",
   "execution_count": 33,
   "metadata": {
    "scrolled": true
   },
   "outputs": [
    {
     "data": {
      "application/vnd.jupyter.widget-view+json": {
       "model_id": "903327cb202040ddba44b54b0134d5fd",
       "version_major": 2,
       "version_minor": 0
      },
      "text/plain": [
       "HBox(children=(IntProgress(value=0, max=354), HTML(value='')))"
      ]
     },
     "metadata": {},
     "output_type": "display_data"
    }
   ],
   "source": [
    "device = torch.device('cuda' if torch.cuda.is_available() else 'cpu')\n",
    "model2.to(device)\n",
    "model2.eval()\n",
    "preds = []\n",
    "for dd in tqdm.tqdm_notebook(test_loader):\n",
    "    dd = dd.to(device)\n",
    "    x = model2(dd)\n",
    "    x = x.cpu().detach().numpy()\n",
    "    x = (x*tsd)+tmean\n",
    "    x = list(x)\n",
    "    preds +=x\n"
   ]
  },
  {
   "cell_type": "code",
   "execution_count": 34,
   "metadata": {},
   "outputs": [
    {
     "name": "stdout",
     "output_type": "stream",
     "text": [
      "90616 90616\n"
     ]
    }
   ],
   "source": [
    "print(len(preds),len(ids))"
   ]
  },
  {
   "cell_type": "code",
   "execution_count": 35,
   "metadata": {},
   "outputs": [],
   "source": [
    "s = pd.read_csv(\"77_MPNN_NFR_1_2_3JHC.csv\")"
   ]
  },
  {
   "cell_type": "code",
   "execution_count": 36,
   "metadata": {},
   "outputs": [],
   "source": [
    "s =  s[~s['id'].isin(ids)]"
   ]
  },
  {
   "cell_type": "code",
   "execution_count": 37,
   "metadata": {},
   "outputs": [
    {
     "data": {
      "text/html": [
       "<div>\n",
       "<style scoped>\n",
       "    .dataframe tbody tr th:only-of-type {\n",
       "        vertical-align: middle;\n",
       "    }\n",
       "\n",
       "    .dataframe tbody tr th {\n",
       "        vertical-align: top;\n",
       "    }\n",
       "\n",
       "    .dataframe thead th {\n",
       "        text-align: right;\n",
       "    }\n",
       "</style>\n",
       "<table border=\"1\" class=\"dataframe\">\n",
       "  <thead>\n",
       "    <tr style=\"text-align: right;\">\n",
       "      <th></th>\n",
       "      <th>id</th>\n",
       "      <th>scalar_coupling_constant</th>\n",
       "    </tr>\n",
       "  </thead>\n",
       "  <tbody>\n",
       "    <tr>\n",
       "      <th>90616</th>\n",
       "      <td>4658147</td>\n",
       "      <td>12.715888</td>\n",
       "    </tr>\n",
       "    <tr>\n",
       "      <th>90617</th>\n",
       "      <td>4658151</td>\n",
       "      <td>13.248582</td>\n",
       "    </tr>\n",
       "    <tr>\n",
       "      <th>90618</th>\n",
       "      <td>4658171</td>\n",
       "      <td>-1.153754</td>\n",
       "    </tr>\n",
       "    <tr>\n",
       "      <th>90619</th>\n",
       "      <td>4658172</td>\n",
       "      <td>-1.122916</td>\n",
       "    </tr>\n",
       "    <tr>\n",
       "      <th>90620</th>\n",
       "      <td>4658179</td>\n",
       "      <td>-1.156201</td>\n",
       "    </tr>\n",
       "  </tbody>\n",
       "</table>\n",
       "</div>"
      ],
      "text/plain": [
       "            id  scalar_coupling_constant\n",
       "90616  4658147                 12.715888\n",
       "90617  4658151                 13.248582\n",
       "90618  4658171                 -1.153754\n",
       "90619  4658172                 -1.122916\n",
       "90620  4658179                 -1.156201"
      ]
     },
     "execution_count": 37,
     "metadata": {},
     "output_type": "execute_result"
    }
   ],
   "source": [
    "s.head()"
   ]
  },
  {
   "cell_type": "code",
   "execution_count": 38,
   "metadata": {},
   "outputs": [],
   "source": [
    "new = pd.DataFrame({'id':ids, 'scalar_coupling_constant':preds})"
   ]
  },
  {
   "cell_type": "code",
   "execution_count": 39,
   "metadata": {},
   "outputs": [],
   "source": [
    "ff = pd.concat([new,s])"
   ]
  },
  {
   "cell_type": "code",
   "execution_count": 40,
   "metadata": {},
   "outputs": [
    {
     "data": {
      "text/plain": [
       "2505542"
      ]
     },
     "execution_count": 40,
     "metadata": {},
     "output_type": "execute_result"
    }
   ],
   "source": [
    "len(ff)"
   ]
  },
  {
   "cell_type": "code",
   "execution_count": 41,
   "metadata": {},
   "outputs": [],
   "source": [
    "ff.to_csv(\"77_MPNN_NFR_1_2_3JHC2.csv\",index=False)"
   ]
  },
  {
   "cell_type": "code",
   "execution_count": null,
   "metadata": {},
   "outputs": [],
   "source": [
    "len(ff)"
   ]
  },
  {
   "cell_type": "code",
   "execution_count": null,
   "metadata": {},
   "outputs": [],
   "source": [
    "ff.head()"
   ]
  },
  {
   "cell_type": "code",
   "execution_count": null,
   "metadata": {},
   "outputs": [],
   "source": [
    "s = pd.read_csv(\"C:/Users/Alamjeet Singh/AA_SCCKaggle/Restart/26_lgbm_RDKCCType.csv\")"
   ]
  },
  {
   "cell_type": "code",
   "execution_count": null,
   "metadata": {},
   "outputs": [],
   "source": [
    "len(s)"
   ]
  },
  {
   "cell_type": "markdown",
   "metadata": {},
   "source": [
    "Ensemble"
   ]
  },
  {
   "cell_type": "code",
   "execution_count": null,
   "metadata": {},
   "outputs": [],
   "source": [
    "import pandas as pd, numpy as np"
   ]
  },
  {
   "cell_type": "code",
   "execution_count": null,
   "metadata": {},
   "outputs": [],
   "source": [
    "lgb = pd.read_csv(\"C:/Users/Alamjeet Singh/AA_SCCKaggle/Restart/26_lgbm_RDKCCType.csv\")\n",
    "nn = pd.read_csv(\"C:/Users/Alamjeet Singh/AA_SCCKaggle/AA/27_MPNN1JHC_LGBM.csv\")"
   ]
  },
  {
   "cell_type": "code",
   "execution_count": null,
   "metadata": {},
   "outputs": [],
   "source": [
    "train = pd.read_csv(\"C:/Users/Alamjeet Singh/Downloads/champs-scalar-coupling/test.csv\")\n",
    "train = train.groupby('type').get_group('1JHC')"
   ]
  },
  {
   "cell_type": "code",
   "execution_count": null,
   "metadata": {},
   "outputs": [],
   "source": [
    "train.head()"
   ]
  },
  {
   "cell_type": "code",
   "execution_count": null,
   "metadata": {},
   "outputs": [],
   "source": [
    "ids = train['id'].tolist()"
   ]
  },
  {
   "cell_type": "code",
   "execution_count": null,
   "metadata": {},
   "outputs": [],
   "source": [
    "nn = nn[nn['id'].isin(ids)]\n",
    "lgb = lgb[lgb['id'].isin(ids)]"
   ]
  },
  {
   "cell_type": "code",
   "execution_count": null,
   "metadata": {},
   "outputs": [],
   "source": [
    "nn.sort_values(by=['id'],inplace=True)\n",
    "lgb.sort_values(by=['id'],inplace=True)"
   ]
  },
  {
   "cell_type": "code",
   "execution_count": null,
   "metadata": {},
   "outputs": [],
   "source": [
    "nn.reset_index(inplace=True)\n",
    "lgb.reset_index(inplace=True)"
   ]
  },
  {
   "cell_type": "code",
   "execution_count": null,
   "metadata": {},
   "outputs": [],
   "source": [
    "ens = (nn['scalar_coupling_constant'] + lgb['scalar_coupling_constant'])/2"
   ]
  },
  {
   "cell_type": "code",
   "execution_count": null,
   "metadata": {},
   "outputs": [],
   "source": [
    "ff = pd.DataFrame({'id':nn['id'],'scalar_coupling_constant':ens})"
   ]
  },
  {
   "cell_type": "code",
   "execution_count": null,
   "metadata": {},
   "outputs": [],
   "source": [
    "len(ff)"
   ]
  },
  {
   "cell_type": "code",
   "execution_count": null,
   "metadata": {},
   "outputs": [],
   "source": [
    "n = pd.read_csv(\"C:/Users/Alamjeet Singh/AA_SCCKaggle/AA/27_MPNN1JHC_LGBM.csv\")"
   ]
  },
  {
   "cell_type": "code",
   "execution_count": null,
   "metadata": {},
   "outputs": [],
   "source": [
    "len(n)"
   ]
  },
  {
   "cell_type": "code",
   "execution_count": null,
   "metadata": {},
   "outputs": [],
   "source": [
    "n = n[~n['id'].isin(ff['id'])]"
   ]
  },
  {
   "cell_type": "code",
   "execution_count": null,
   "metadata": {},
   "outputs": [],
   "source": [
    "len(n)"
   ]
  },
  {
   "cell_type": "code",
   "execution_count": null,
   "metadata": {},
   "outputs": [],
   "source": [
    "ff.head()"
   ]
  },
  {
   "cell_type": "code",
   "execution_count": null,
   "metadata": {},
   "outputs": [],
   "source": [
    "n.head()"
   ]
  },
  {
   "cell_type": "code",
   "execution_count": null,
   "metadata": {},
   "outputs": [],
   "source": [
    "d = pd.concat([ff,n])"
   ]
  },
  {
   "cell_type": "code",
   "execution_count": null,
   "metadata": {},
   "outputs": [],
   "source": [
    "len(d)"
   ]
  },
  {
   "cell_type": "code",
   "execution_count": null,
   "metadata": {},
   "outputs": [],
   "source": [
    "d.to_csv(\"28_MPNN1JHC_LGBM_ENS.csv\",index=False)"
   ]
  },
  {
   "cell_type": "code",
   "execution_count": null,
   "metadata": {},
   "outputs": [],
   "source": [
    "#add GAT layer\n",
    "#try lin first, then conv3 in for loop only\n",
    "class Net(torch.nn.Module):\n",
    "    def __init__(self):\n",
    "        super(Net, self).__init__()\n",
    "        \n",
    "        self.lin0 = torch.nn.Linear(166, ndim)\n",
    "        self.bn0 = BatchNorm1d(ndim)\n",
    "        self.d0 = torch.nn.Dropout(0.1)\n",
    "        \n",
    "        nn = Sequential(Linear(9, edim), ReLU(), Linear(edim, ndim * ndim))\n",
    "        self.conv = NNConv(ndim, ndim, nn, aggr='max', root_weight=True)\n",
    "        self.gru = GRU(ndim, ndim)\n",
    "\n",
    "        self.set2set = Set2Set(ndim, processing_steps=3)\n",
    "        self.lin1 = torch.nn.Linear(2*ndim, ndim)\n",
    "        #self.d1 = torch.nn.Dropout(0.5)\n",
    "        self.lin2 = torch.nn.Linear(ndim, 1)\n",
    "\n",
    "    def forward(self, data):\n",
    "        out = F.relu(self.lin0(data.x))\n",
    "        out = self.bn0(out)\n",
    "        out = self.d0(out)\n",
    "        h = out.unsqueeze(0)\n",
    "        \n",
    "        for i in range(3):\n",
    "            m = F.relu(self.conv(out, data.edge_index, data.edge_attr))\n",
    "            out, h = self.gru(m.unsqueeze(0), h)\n",
    "            out = out.squeeze(0)\n",
    "        \n",
    "        out = self.set2set(out, data.batch)\n",
    "        out = F.relu(self.lin1(out))\n",
    "        #out = self.d1(out)\n",
    "        out = self.lin2(out)\n",
    "        \n",
    "        return out.view(-1)"
   ]
  }
 ],
 "metadata": {
  "kernelspec": {
   "display_name": "Python 3",
   "language": "python",
   "name": "python3"
  },
  "language_info": {
   "codemirror_mode": {
    "name": "ipython",
    "version": 3
   },
   "file_extension": ".py",
   "mimetype": "text/x-python",
   "name": "python",
   "nbconvert_exporter": "python",
   "pygments_lexer": "ipython3",
   "version": "3.7.3"
  }
 },
 "nbformat": 4,
 "nbformat_minor": 4
}
